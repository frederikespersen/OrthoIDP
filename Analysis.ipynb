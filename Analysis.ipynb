{
 "cells": [
  {
   "attachments": {},
   "cell_type": "markdown",
   "metadata": {},
   "source": [
    "# Analysis"
   ]
  },
  {
   "cell_type": "markdown",
   "metadata": {},
   "source": [
    "### Setup"
   ]
  },
  {
   "cell_type": "code",
   "execution_count": 43,
   "metadata": {},
   "outputs": [],
   "source": [
    "import json\n",
    "import pandas as pd\n",
    "import numpy as np\n",
    "import mdtraj as md\n",
    "from matplotlib import pyplot as plt\n",
    "from src import analyse_data\n",
    "from src import analyse_results"
   ]
  },
  {
   "attachments": {},
   "cell_type": "markdown",
   "metadata": {},
   "source": [
    "## Initial test runs"
   ]
  },
  {
   "attachments": {},
   "cell_type": "markdown",
   "metadata": {},
   "source": [
    "### CIDER parameters for input data"
   ]
  },
  {
   "attachments": {},
   "cell_type": "markdown",
   "metadata": {},
   "source": [
    "More on CIDER from Pappu Lab:\n",
    "- [CIDER](http://pappulab.wustl.edu/CIDER/about/)\n",
    "- [localCIDER](http://pappulab.github.io/localCIDER/)"
   ]
  },
  {
   "cell_type": "code",
   "execution_count": 6,
   "metadata": {},
   "outputs": [
    {
     "data": {
      "text/html": [
       "<div>\n",
       "<style scoped>\n",
       "    .dataframe tbody tr th:only-of-type {\n",
       "        vertical-align: middle;\n",
       "    }\n",
       "\n",
       "    .dataframe tbody tr th {\n",
       "        vertical-align: top;\n",
       "    }\n",
       "\n",
       "    .dataframe thead th {\n",
       "        text-align: right;\n",
       "    }\n",
       "</style>\n",
       "<table border=\"1\" class=\"dataframe\">\n",
       "  <thead>\n",
       "    <tr style=\"text-align: right;\">\n",
       "      <th></th>\n",
       "      <th>kappa</th>\n",
       "      <th>FCR</th>\n",
       "      <th>NCPR</th>\n",
       "      <th>Hydrophobicity</th>\n",
       "      <th>Frac. dis. prom.</th>\n",
       "    </tr>\n",
       "  </thead>\n",
       "  <tbody>\n",
       "    <tr>\n",
       "      <th>H1-0_WT</th>\n",
       "      <td>0.154432</td>\n",
       "      <td>0.432432</td>\n",
       "      <td>0.378378</td>\n",
       "      <td>3.249550</td>\n",
       "      <td>0.891892</td>\n",
       "    </tr>\n",
       "    <tr>\n",
       "      <th>H1-0_RAND</th>\n",
       "      <td>0.184133</td>\n",
       "      <td>0.432432</td>\n",
       "      <td>0.378378</td>\n",
       "      <td>3.249550</td>\n",
       "      <td>0.891892</td>\n",
       "    </tr>\n",
       "    <tr>\n",
       "      <th>H2B_RAND</th>\n",
       "      <td>0.253122</td>\n",
       "      <td>0.485714</td>\n",
       "      <td>0.371429</td>\n",
       "      <td>2.614286</td>\n",
       "      <td>0.942857</td>\n",
       "    </tr>\n",
       "    <tr>\n",
       "      <th>H2B_WT</th>\n",
       "      <td>0.301676</td>\n",
       "      <td>0.485714</td>\n",
       "      <td>0.371429</td>\n",
       "      <td>2.614286</td>\n",
       "      <td>0.942857</td>\n",
       "    </tr>\n",
       "    <tr>\n",
       "      <th>H2B_CLUST</th>\n",
       "      <td>0.965685</td>\n",
       "      <td>0.485714</td>\n",
       "      <td>0.371429</td>\n",
       "      <td>2.614286</td>\n",
       "      <td>0.942857</td>\n",
       "    </tr>\n",
       "    <tr>\n",
       "      <th>H1-0_CLUST</th>\n",
       "      <td>0.994959</td>\n",
       "      <td>0.432432</td>\n",
       "      <td>0.378378</td>\n",
       "      <td>3.249550</td>\n",
       "      <td>0.891892</td>\n",
       "    </tr>\n",
       "  </tbody>\n",
       "</table>\n",
       "</div>"
      ],
      "text/plain": [
       "               kappa       FCR      NCPR  Hydrophobicity  Frac. dis. prom.\n",
       "H1-0_WT     0.154432  0.432432  0.378378        3.249550          0.891892\n",
       "H1-0_RAND   0.184133  0.432432  0.378378        3.249550          0.891892\n",
       "H2B_RAND    0.253122  0.485714  0.371429        2.614286          0.942857\n",
       "H2B_WT      0.301676  0.485714  0.371429        2.614286          0.942857\n",
       "H2B_CLUST   0.965685  0.485714  0.371429        2.614286          0.942857\n",
       "H1-0_CLUST  0.994959  0.432432  0.378378        3.249550          0.891892"
      ]
     },
     "execution_count": 6,
     "metadata": {},
     "output_type": "execute_result"
    }
   ],
   "source": [
    "# Loading metadata\n",
    "metadata_path = 'exp/initial/initial.json'\n",
    "with open(metadata_path, 'r') as file:\n",
    "    metadata = json.load(file)\n",
    "\n",
    "# Calculating parameters\n",
    "params = pd.concat([analyse_data.cider_parameters(cols['sequence'], name) for name, cols in metadata['data'].items()])\n",
    "\n",
    "# Presenting documentation and results\n",
    "params.sort_values(by='kappa')"
   ]
  },
  {
   "attachments": {},
   "cell_type": "markdown",
   "metadata": {},
   "source": [
    "### $R_g$-distribution of variants"
   ]
  },
  {
   "cell_type": "code",
   "execution_count": 26,
   "metadata": {},
   "outputs": [],
   "source": [
    "metadata_path = 'exp/initial/initial.json'\n",
    "results_dir = 'exp/initial/results'"
   ]
  },
  {
   "cell_type": "code",
   "execution_count": 20,
   "metadata": {},
   "outputs": [
    {
     "data": {
      "text/html": [
       "<div>\n",
       "<style scoped>\n",
       "    .dataframe tbody tr th:only-of-type {\n",
       "        vertical-align: middle;\n",
       "    }\n",
       "\n",
       "    .dataframe tbody tr th {\n",
       "        vertical-align: top;\n",
       "    }\n",
       "\n",
       "    .dataframe thead th {\n",
       "        text-align: right;\n",
       "    }\n",
       "</style>\n",
       "<table border=\"1\" class=\"dataframe\">\n",
       "  <thead>\n",
       "    <tr style=\"text-align: right;\">\n",
       "      <th></th>\n",
       "      <th>template</th>\n",
       "      <th>name</th>\n",
       "      <th>species</th>\n",
       "      <th>sequence</th>\n",
       "      <th>region</th>\n",
       "      <th>location</th>\n",
       "      <th>variant</th>\n",
       "    </tr>\n",
       "  </thead>\n",
       "  <tbody>\n",
       "    <tr>\n",
       "      <th>H1-0_WT</th>\n",
       "      <td>H1-0</td>\n",
       "      <td>histone H1.0</td>\n",
       "      <td>Homo sapiens (human)</td>\n",
       "      <td>TKGVGASGSFRLAKSDEPKKSVAFKKTKKEIKKVATPKKASKPKKA...</td>\n",
       "      <td>CTD</td>\n",
       "      <td>[83:194]</td>\n",
       "      <td>Wild type</td>\n",
       "    </tr>\n",
       "    <tr>\n",
       "      <th>H1-0_RAND</th>\n",
       "      <td>H1-0</td>\n",
       "      <td>histone H1.0</td>\n",
       "      <td>Homo sapiens (human)</td>\n",
       "      <td>VADSKKTSAKAKKKKAKPAKRKAPTGKKPSSTAKKKKAPKKKAKLK...</td>\n",
       "      <td>CTD</td>\n",
       "      <td>[83:194]</td>\n",
       "      <td>Randomly shuffled</td>\n",
       "    </tr>\n",
       "    <tr>\n",
       "      <th>H1-0_CLUST</th>\n",
       "      <td>H1-0</td>\n",
       "      <td>histone H1.0</td>\n",
       "      <td>Homo sapiens (human)</td>\n",
       "      <td>KKKRKKKKKKKKKKKKKKKKKRKKKKKKKKKKKKKKKKKKKKKKKA...</td>\n",
       "      <td>CTD</td>\n",
       "      <td>[83:194]</td>\n",
       "      <td>Terminally clustered charges</td>\n",
       "    </tr>\n",
       "    <tr>\n",
       "      <th>H2B_WT</th>\n",
       "      <td>H2B</td>\n",
       "      <td>histone H2B type 2-E</td>\n",
       "      <td>Homo sapiens (human)</td>\n",
       "      <td>MPEPAKSAPAPKKGSKKAVTKAQKKDGKKRKRSRK</td>\n",
       "      <td>NTD</td>\n",
       "      <td>[0:35]</td>\n",
       "      <td>Wild type</td>\n",
       "    </tr>\n",
       "    <tr>\n",
       "      <th>H2B_RAND</th>\n",
       "      <td>H2B</td>\n",
       "      <td>histone H2B type 2-E</td>\n",
       "      <td>Homo sapiens (human)</td>\n",
       "      <td>PPKKRPKSAEVDSPKKSAMAKAKAKGKGTQKKKRR</td>\n",
       "      <td>NTD</td>\n",
       "      <td>[0:35]</td>\n",
       "      <td>Randomly shuffled</td>\n",
       "    </tr>\n",
       "    <tr>\n",
       "      <th>H2B_CLUST</th>\n",
       "      <td>H2B</td>\n",
       "      <td>histone H2B type 2-E</td>\n",
       "      <td>Homo sapiens (human)</td>\n",
       "      <td>KRKRKKKKKKKKRKKAPAVTGAQAMPGASPSPSDE</td>\n",
       "      <td>NTD</td>\n",
       "      <td>[0:35]</td>\n",
       "      <td>Terminally clustered charges</td>\n",
       "    </tr>\n",
       "  </tbody>\n",
       "</table>\n",
       "</div>"
      ],
      "text/plain": [
       "           template                  name               species  \\\n",
       "H1-0_WT        H1-0          histone H1.0  Homo sapiens (human)   \n",
       "H1-0_RAND      H1-0          histone H1.0  Homo sapiens (human)   \n",
       "H1-0_CLUST     H1-0          histone H1.0  Homo sapiens (human)   \n",
       "H2B_WT          H2B  histone H2B type 2-E  Homo sapiens (human)   \n",
       "H2B_RAND        H2B  histone H2B type 2-E  Homo sapiens (human)   \n",
       "H2B_CLUST       H2B  histone H2B type 2-E  Homo sapiens (human)   \n",
       "\n",
       "                                                     sequence region  \\\n",
       "H1-0_WT     TKGVGASGSFRLAKSDEPKKSVAFKKTKKEIKKVATPKKASKPKKA...    CTD   \n",
       "H1-0_RAND   VADSKKTSAKAKKKKAKPAKRKAPTGKKPSSTAKKKKAPKKKAKLK...    CTD   \n",
       "H1-0_CLUST  KKKRKKKKKKKKKKKKKKKKKRKKKKKKKKKKKKKKKKKKKKKKKA...    CTD   \n",
       "H2B_WT                    MPEPAKSAPAPKKGSKKAVTKAQKKDGKKRKRSRK    NTD   \n",
       "H2B_RAND                  PPKKRPKSAEVDSPKKSAMAKAKAKGKGTQKKKRR    NTD   \n",
       "H2B_CLUST                 KRKRKKKKKKKKRKKAPAVTGAQAMPGASPSPSDE    NTD   \n",
       "\n",
       "            location                       variant  \n",
       "H1-0_WT     [83:194]                     Wild type  \n",
       "H1-0_RAND   [83:194]             Randomly shuffled  \n",
       "H1-0_CLUST  [83:194]  Terminally clustered charges  \n",
       "H2B_WT        [0:35]                     Wild type  \n",
       "H2B_RAND      [0:35]             Randomly shuffled  \n",
       "H2B_CLUST     [0:35]  Terminally clustered charges  "
      ]
     },
     "execution_count": 20,
     "metadata": {},
     "output_type": "execute_result"
    }
   ],
   "source": [
    "# Loading data metadata for simulation analysis\n",
    "with open(metadata_path, 'r') as file:\n",
    "    data = json.load(file)['data']\n",
    "data = pd.DataFrame(data).transpose()\n",
    "data"
   ]
  },
  {
   "cell_type": "code",
   "execution_count": 57,
   "metadata": {},
   "outputs": [],
   "source": [
    "# Loading trajectories\n",
    "trajectories = data.apply(lambda row: md.load_dcd(*['/'.join([results_dir, row.name, filename]) for filename  in ['traj.dcd', 'top.pdb']]), axis=1)\n",
    "\n",
    "# Calculating simulation specs\n",
    "data['time'] = [traj.time[-1]*1e-6 for traj in trajectories]\n",
    "\n",
    "# Calculating Rg\n",
    "data['Rg'] = [md.compute_rg(traj) for traj in trajectories]\n",
    "\n",
    "data"
   ]
  },
  {
   "cell_type": "code",
   "execution_count": null,
   "metadata": {},
   "outputs": [
    {
     "name": "stdout",
     "output_type": "stream",
     "text": [
      "MEAN VALUES OF Rg\n",
      "template  variant                     \n",
      "H1-0      Randomly shuffled               4.201007\n",
      "          Terminally clustered charges    2.961553\n",
      "          Wild type                       4.291577\n",
      "H2B       Randomly shuffled               1.856761\n",
      "          Terminally clustered charges    1.374553\n",
      "          Wild type                       1.869838\n",
      "Name: Rg, dtype: float64\n"
     ]
    },
    {
     "data": {
      "image/png": "[encoded data removed]",
      "text/plain": [
       "<Figure size 1200x800 with 6 Axes>"
      ]
     },
     "metadata": {},
     "output_type": "display_data"
    }
   ],
   "source": [
    "# Plotting Rg distributions\n",
    "data = data.explode('Rg')\n",
    "data['Rg'] = data['Rg'].astype(float)\n",
    "\n",
    "# Plotting distributions\n",
    "data.hist(column='Rg', by=['variant', 'template'], layout=(3,2), sharex=True, figsize=(12,8), bins=100)\n",
    "\n",
    "# Calculating means\n",
    "print(\"MEAN VALUES OF Rg\")\n",
    "print(data.groupby(by=['template', 'variant'])['Rg'].mean())"
   ]
  }
 ],
 "metadata": {
  "kernelspec": {
   "display_name": "orthoidp",
   "language": "python",
   "name": "python3"
  },
  "language_info": {
   "codemirror_mode": {
    "name": "ipython",
    "version": 3
   },
   "file_extension": ".py",
   "mimetype": "text/x-python",
   "name": "python",
   "nbconvert_exporter": "python",
   "pygments_lexer": "ipython3",
   "version": "3.10.9"
  },
  "orig_nbformat": 4,
  "vscode": {
   "interpreter": {
    "hash": "5cf7a75472cea797e0aded0ea9e5d9e317f1ebbfd81a3bae087611c209ab141a"
   }
  }
 },
 "nbformat": 4,
 "nbformat_minor": 2
}
