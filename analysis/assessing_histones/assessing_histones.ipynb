{
 "cells": [
  {
   "attachments": {},
   "cell_type": "markdown",
   "metadata": {},
   "source": [
    "# Assessing histones as a model system"
   ]
  },
  {
   "attachments": {},
   "cell_type": "markdown",
   "metadata": {},
   "source": [
    "## Setup"
   ]
  },
  {
   "cell_type": "code",
   "execution_count": 76,
   "metadata": {},
   "outputs": [],
   "source": [
    "import os\n",
    "import random\n",
    "import matplotlib.pyplot as plt\n",
    "import pandas as pd\n",
    "from localcider.sequenceParameters import SequenceParameters\n",
    "from Bio import SeqIO\n",
    "from collections import defaultdict"
   ]
  },
  {
   "attachments": {},
   "cell_type": "markdown",
   "metadata": {},
   "source": [
    "## Sequence analysis using LocalCider"
   ]
  },
  {
   "attachments": {},
   "cell_type": "markdown",
   "metadata": {},
   "source": [
    "Documentation on parameters from the Pappu lab can be found here:\n",
    "- [CIDER](http://pappulab.wustl.edu/CIDER/about/)\n",
    "- [localCIDER](http://pappulab.github.io/localCIDER/)"
   ]
  },
  {
   "cell_type": "code",
   "execution_count": 77,
   "metadata": {},
   "outputs": [
    {
     "name": "stdout",
     "output_type": "stream",
     "text": [
      "The following proteins are investigated:\n",
      " - H1.3 CTD\n",
      " - H1.2 CTD\n",
      " - H3.1t NTD\n",
      " - H2B NTD\n",
      " - H1.4 CTD\n",
      " - H1.1 CTD\n",
      " - H1.0 CTD\n"
     ]
    }
   ],
   "source": [
    "# Loading data\n",
    "data_dir = '../../data/histones'\n",
    "histones = {}\n",
    "for filename in os.listdir(data_dir):\n",
    "    filepath = '/'.join([data_dir, filename])\n",
    "    for record in SeqIO.parse(open(filepath, 'r'), 'fasta'):\n",
    "        name = record.description[19:].split()[0] + ' ' + record.description.split()[-1]\n",
    "        histones[name] = str(record.seq)\n",
    "\n",
    "print(\"The following proteins are investigated:\")\n",
    "for id, seq in histones.items():\n",
    "    print(f\" - {id}\")"
   ]
  },
  {
   "cell_type": "code",
   "execution_count": 78,
   "metadata": {},
   "outputs": [],
   "source": [
    "# Defining analysis\n",
    "def cider_parameters(seq):\n",
    "    \"\"\"\n",
    "    Takes a sequence, returns a dictionary of its CIDER parameters. \n",
    "    \"\"\"\n",
    "    # Creating a SequenceParameters object from sequence\n",
    "    SeqOb = SequenceParameters(seq)\n",
    "\n",
    "    # Calculating parameters\n",
    "    params = {}\n",
    "    params['kappa'] = SeqOb.get_kappa()\n",
    "    params['FCR'] = SeqOb.get_FCR()\n",
    "    params['NCPR'] = SeqOb.get_NCPR()\n",
    "    params['Hydrophobicity'] = SeqOb.get_mean_hydropathy()\n",
    "    params['Frac. dis. prom.'] = SeqOb.get_fraction_disorder_promoting()\n",
    "\n",
    "    return params\n",
    "\n",
    "def cider_parameters_group(proteins):\n",
    "    \"\"\" \n",
    "    Takes a dict of proteins sequences, returns a dataframe with CIDER parameters\n",
    "    \"\"\"\n",
    "    # Collecting parameters\n",
    "    params_list = []\n",
    "    for tag, seq in proteins.items():\n",
    "        params_list.append(cider_parameters(seq))\n",
    "\n",
    "    # Combining into datamframe\n",
    "    params = defaultdict(list)\n",
    "    for d in params_list:\n",
    "        for key, value in d.items():\n",
    "            params[key].append(value)\n",
    "    params = pd.DataFrame(params, index=proteins.keys())\n",
    "\n",
    "    return params\n",
    "\n",
    "def cider_positionwise_plot(seq, windowsize=5):\n",
    "    \"\"\"\n",
    "    Takes a sequence, returns fig, ax objects of a plot of its positionwise window-averaged CIDER parameters.\n",
    "    \"\"\"\n",
    "    # Creating a SequenceParameters object from sequence\n",
    "    SeqOb = SequenceParameters(seq)\n",
    "\n",
    "    # Plotting positionwise CIDER parameters\n",
    "    fig, ax = plt.subplots()\n",
    "    ax.plot(*SeqOb.get_linear_NCPR(windowsize), label=\"NCPR\", color='orange')\n",
    "\n",
    "    # Decorating\n",
    "    ax.hlines(0,0,SeqOb.get_length(), ls='dashed', color='k', alpha=0.2)\n",
    "    ax.set_ylim(-1,1)\n",
    "    ax.spines['right'].set_visible(False)\n",
    "    ax.spines['top'].set_visible(False)\n",
    "    ax.spines['left'].set_linewidth(2)\n",
    "    ax.spines['bottom'].set_linewidth(2)\n",
    "    ax.xaxis.set_tick_params(width=2)\n",
    "    ax.yaxis.set_tick_params(width=2)\n",
    "    ax.set_xlabel(\"Position\")\n",
    "    ax.legend()\n",
    "\n",
    "    return fig, ax\n",
    "\n"
   ]
  },
  {
   "cell_type": "code",
   "execution_count": 79,
   "metadata": {},
   "outputs": [
    {
     "name": "stdout",
     "output_type": "stream",
     "text": [
      "              kappa       FCR      NCPR  Hydrophobicity  Frac. dis. prom.\n",
      "H1.3 CTD   0.147564  0.363636  0.348485        3.375000          0.916667\n",
      "H1.2 CTD   0.155614  0.368852  0.352459        3.515574          0.893443\n",
      "H3.1t NTD  0.111152  0.325581  0.325581        3.232558          0.883721\n",
      "H2B NTD    0.301676  0.485714  0.371429        2.614286          0.942857\n",
      "H1.4 CTD   0.148240  0.375000  0.359375        3.391406          0.953125\n",
      "H1.1 CTD   0.130636  0.360656  0.344262        3.388525          0.885246\n",
      "H1.0 CTD   0.154432  0.432432  0.378378        3.249550          0.891892\n"
     ]
    }
   ],
   "source": [
    "# Performing sequence analysis using localCIDER\n",
    "params = cider_parameters_group(histones)\n",
    "print(params)"
   ]
  },
  {
   "attachments": {},
   "cell_type": "markdown",
   "metadata": {},
   "source": [
    "## Generating sequences for CALVADOS simulation"
   ]
  },
  {
   "attachments": {},
   "cell_type": "markdown",
   "metadata": {},
   "source": [
    "To assess whether histones could serve as a model system, we want to see how their radius of gyration $R_g$ changes dependening on the assembly of their sequences. To do so, three sequences are generated from the original one:\n",
    "- A wildtype sequence (*wt*)\n",
    "- A sequence with positive and negative charges clustered in the C- and N-terminal respectively (*clustered*)\n",
    "- A randomly shuffled sequence (*shuffled*)"
   ]
  },
  {
   "cell_type": "code",
   "execution_count": 48,
   "metadata": {},
   "outputs": [],
   "source": [
    "# Defining algorithms\n",
    "\n",
    "def cluster_charges(seq, ngroup, cgroup, seed, mc_threshold=1):\n",
    "    \"\"\"\n",
    "    Takes a sequence, clusters two groups of distinct amino acids in oppposite ends by switiching residue positions in the sequence\n",
    "    Optional parameter for whether or not to do Monte Carlo criteria for switching (1 = 100% chance of switching to cluster)\n",
    "    \"\"\"\n",
    "    # Prepping\n",
    "    random.seed(seed)\n",
    "    seq = list(seq)\n",
    "\n",
    "    # Checking groups\n",
    "    assert set(ngroup) != set(cgroup), \"The groups must have any amino acids in common!\"\n",
    "\n",
    "    # Finding positions of N-terminal group residues\n",
    "    i_ngroup = [i for i, aa in enumerate(seq) if aa in ngroup]\n",
    "    \n",
    "    # Loop over sequence for N-terminal group\n",
    "    for i, aa in enumerate(seq):\n",
    "\n",
    "        # If group residue, pass and remove group residue from indexed list (downsteam residues)\n",
    "        if aa in ngroup:\n",
    "            i_ngroup.remove(i)\n",
    "\n",
    "        # If not, switch with downstream group residue\n",
    "        else:\n",
    "            \n",
    "            # Monte Carlo criteria\n",
    "            if random.random() < mc_threshold:\n",
    "\n",
    "                # Switch residue with random downstream group residue\n",
    "                j = random.choice(i_ngroup)\n",
    "                seq[i], seq[j] = seq[j], seq[i]\n",
    "                i_ngroup.remove(j)\n",
    "        \n",
    "        # If all downstream group residues are sorted, stop\n",
    "        if len(i_ngroup) == 0:\n",
    "            break\n",
    "\n",
    "    # Reversing sequence and finding positions of C-terminal group residues\n",
    "    seq.reverse()\n",
    "    i_cgroup = [i for i, aa in enumerate(seq) if aa in cgroup]\n",
    "\n",
    "    # Reverse sequence and loop over it for C-terminal group\n",
    "    for i, aa in enumerate(seq):\n",
    "\n",
    "        # If group residue, pass and remove group residue from indexed list (downsteam residues)\n",
    "        if aa in cgroup:\n",
    "            i_cgroup.remove(i)\n",
    "\n",
    "        # If not, switch with downstream group residue\n",
    "        else:\n",
    "            \n",
    "            # Monte Carlo criteria\n",
    "            if random.random() < mc_threshold:\n",
    "\n",
    "                # Switch residue with random downstream group residue\n",
    "                j = random.choice(i_cgroup)\n",
    "                seq[i], seq[j] = seq[j], seq[i]\n",
    "                i_cgroup.remove(j)\n",
    "        \n",
    "        # If all downstream group residues are sorted, stop\n",
    "        if len(i_cgroup) == 0:\n",
    "            break\n",
    "\n",
    "    # Reverse and join sequence\n",
    "    seq.reverse()\n",
    "    seq = ''.join(seq)\n",
    "\n",
    "    return seq\n",
    "\n",
    "def shuffle(seq, seed):\n",
    "    \"\"\"\n",
    "    Takes a sequence and shuffles it randomly.\n",
    "    \"\"\"\n",
    "    # Prepping\n",
    "    seq = list(seq)\n",
    "\n",
    "    # Shuffling\n",
    "    random.seed(seed)\n",
    "    random.shuffle(seq)\n",
    "\n",
    "    # Joining\n",
    "    seq = ''.join(seq)\n",
    "\n",
    "    return seq"
   ]
  },
  {
   "cell_type": "code",
   "execution_count": 73,
   "metadata": {},
   "outputs": [
    {
     "name": "stdout",
     "output_type": "stream",
     "text": [
      "Choosen histone: H2B NTD\n",
      "                      kappa       FCR      NCPR  Hydrophobicity  \\\n",
      "Wild-type          0.301676  0.485714  0.371429        2.614286   \n",
      "Clustered charges  0.965685  0.485714  0.371429        2.614286   \n",
      "Random shuffle     0.247571  0.485714  0.371429        2.614286   \n",
      "\n",
      "                   Frac. dis. prom.  \n",
      "Wild-type                  0.942857  \n",
      "Clustered charges          0.942857  \n",
      "Random shuffle             0.942857  \n"
     ]
    }
   ],
   "source": [
    "# Generating sequences\n",
    "name = \"H2B NTD\"\n",
    "print(\"Choosen histone:\", name)\n",
    "seq = histones[name]\n",
    "seed = random.randint(0,100) #300700\n",
    "\n",
    "variants = {\"Wild-type\":            seq,\n",
    "            \"Clustered charges\":    cluster_charges(seq, ['K', 'R'], ['D', 'E'], seed, mc_threshold=1),\n",
    "            \"Random shuffle\":       shuffle(seq, seed)}\n",
    "\n",
    "# Analysis\n",
    "print(cider_parameters_group(variants))\n"
   ]
  }
 ],
 "metadata": {
  "kernelspec": {
   "display_name": "idp",
   "language": "python",
   "name": "python3"
  },
  "language_info": {
   "codemirror_mode": {
    "name": "ipython",
    "version": 3
   },
   "file_extension": ".py",
   "mimetype": "text/x-python",
   "name": "python",
   "nbconvert_exporter": "python",
   "pygments_lexer": "ipython3",
   "version": "3.10.9"
  },
  "orig_nbformat": 4,
  "vscode": {
   "interpreter": {
    "hash": "a0d58e2d3f8119425ff4924f218bee9b224874fdf3d9173ba2b318cb9e305a42"
   }
  }
 },
 "nbformat": 4,
 "nbformat_minor": 2
}
