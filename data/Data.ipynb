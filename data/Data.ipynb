{
 "cells": [
  {
   "attachments": {},
   "cell_type": "markdown",
   "metadata": {},
   "source": [
    "# Data preparation"
   ]
  },
  {
   "attachments": {},
   "cell_type": "markdown",
   "metadata": {},
   "source": [
    "## Setup"
   ]
  },
  {
   "cell_type": "code",
   "execution_count": 19,
   "metadata": {},
   "outputs": [],
   "source": [
    "import json\n",
    "import os\n",
    "from Bio import Entrez"
   ]
  },
  {
   "cell_type": "code",
   "execution_count": 18,
   "metadata": {},
   "outputs": [],
   "source": [
    "Entrez.email = 'tgw325@alumni.ku.dk'\n",
    "\n",
    "def get_entry(accession_number: str, db='protein', filetype='fasta', rel_dir='.') -> None:\n",
    "    \"\"\" \n",
    "    Takes an accession number, downloads the specified file format.\n",
    "    \"\"\"\n",
    "    # Creating file\n",
    "    filename = f'{rel_dir}/{accession_number}.{filetype}'\n",
    "    with open(filename, 'w') as file:\n",
    "\n",
    "        # Retrieving data and writing to file\n",
    "        with Entrez.efetch(db=db,id=accession_number, rettype=filetype, retmode='text') as handle:\n",
    "            file.write(handle.read())"
   ]
  },
  {
   "attachments": {},
   "cell_type": "markdown",
   "metadata": {},
   "source": [
    "## Acqusition"
   ]
  },
  {
   "attachments": {},
   "cell_type": "markdown",
   "metadata": {},
   "source": [
    "The sequences of the proteins in **accession_numbers.json** are downloaded in fasta format."
   ]
  },
  {
   "cell_type": "code",
   "execution_count": 27,
   "metadata": {},
   "outputs": [],
   "source": [
    "filetype = \"gp\"\n",
    "\n",
    "\n",
    "# Accessing file containing accession numbers:\n",
    "with open('accession_numbers.json', 'r') as file:\n",
    "    accession_numbers = json.load(file)\n",
    "\n",
    "# Looping by protein group\n",
    "for group, proteins in accession_numbers.items():\n",
    "\n",
    "    # Creating dirs for groups\n",
    "    os.makedirs(group, exist_ok=True)\n",
    "\n",
    "    # Downloading sequences all proteins in group\n",
    "    for name, acc_num in proteins.items():\n",
    "        get_entry(acc_num, rel_dir=group, filetype=filetype)"
   ]
  },
  {
   "attachments": {},
   "cell_type": "markdown",
   "metadata": {},
   "source": [
    "## Transformation"
   ]
  }
 ],
 "metadata": {
  "kernelspec": {
   "display_name": "idp",
   "language": "python",
   "name": "python3"
  },
  "language_info": {
   "codemirror_mode": {
    "name": "ipython",
    "version": 3
   },
   "file_extension": ".py",
   "mimetype": "text/x-python",
   "name": "python",
   "nbconvert_exporter": "python",
   "pygments_lexer": "ipython3",
   "version": "3.10.9 (main, Jan 11 2023, 09:18:20) [Clang 14.0.6 ]"
  },
  "orig_nbformat": 4,
  "vscode": {
   "interpreter": {
    "hash": "a0d58e2d3f8119425ff4924f218bee9b224874fdf3d9173ba2b318cb9e305a42"
   }
  }
 },
 "nbformat": 4,
 "nbformat_minor": 2
}
