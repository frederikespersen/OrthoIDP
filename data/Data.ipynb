{
 "cells": [
  {
   "attachments": {},
   "cell_type": "markdown",
   "metadata": {},
   "source": [
    "# Data preparation"
   ]
  },
  {
   "attachments": {},
   "cell_type": "markdown",
   "metadata": {},
   "source": [
    "## Setup"
   ]
  },
  {
   "cell_type": "code",
   "execution_count": 78,
   "metadata": {},
   "outputs": [],
   "source": [
    "import json\n",
    "import os\n",
    "from Bio import Entrez\n",
    "from Bio import SeqIO\n",
    "\n",
    "Entrez.email = 'tgw325@alumni.ku.dk'"
   ]
  },
  {
   "attachments": {},
   "cell_type": "markdown",
   "metadata": {},
   "source": [
    "## Downloading disordered regions"
   ]
  },
  {
   "attachments": {},
   "cell_type": "markdown",
   "metadata": {},
   "source": [
    "The sequences of the proteins in **accession_numbers.json** are downloaded.\n",
    "Afterwards, their disordered region is saved in FASTA format."
   ]
  },
  {
   "cell_type": "code",
   "execution_count": 77,
   "metadata": {},
   "outputs": [
    {
     "name": "stdout",
     "output_type": "stream",
     "text": [
      "Exctracting the following IDRs:\n",
      " - Human histone H2B (NP_003519.1):\t35 AA\t[0:35]\n"
     ]
    }
   ],
   "source": [
    "# Accessing file containing accession numbers:\n",
    "with open('accession_numbers.json', 'r') as file:\n",
    "    accession_numbers = json.load(file)\n",
    "\n",
    "# Looping over protein groups\n",
    "print(\"Exctracting the following IDRs:\")\n",
    "for group, proteins in accession_numbers.items():\n",
    "\n",
    "    # Creating dirs for groups\n",
    "    os.makedirs(group, exist_ok=True)\n",
    "\n",
    "    # Looping over proteins\n",
    "    for name, acc_num in proteins.items():\n",
    "\n",
    "        # Getting data in Genbank format\n",
    "        handle = Entrez.efetch(db='protein',id=acc_num, rettype='gp', retmode='text')\n",
    "        record = SeqIO.read(handle, 'genbank')\n",
    "\n",
    "        # Finding disordered region of protein\n",
    "        for feature in record.features:\n",
    "            if feature.type == 'Region':\n",
    "                if 'Disordered' in feature.qualifiers['region_name'][0]:\n",
    "\n",
    "                    # Extracting disordered sequence\n",
    "                    dis_seq = feature.extract(record.seq)\n",
    "                    loc = feature.location\n",
    "\n",
    "        # Saving disordered region as FASTA file\n",
    "        print(f\" - {name} ({acc_num}):\\t{len(dis_seq)} AA\\t{loc}\")\n",
    "        record.seq = dis_seq\n",
    "        with open(f'{group}/{acc_num}.fasta', 'w') as file: \n",
    "            SeqIO.write(record, file, 'fasta')\n"
   ]
  }
 ],
 "metadata": {
  "kernelspec": {
   "display_name": "idp",
   "language": "python",
   "name": "python3"
  },
  "language_info": {
   "codemirror_mode": {
    "name": "ipython",
    "version": 3
   },
   "file_extension": ".py",
   "mimetype": "text/x-python",
   "name": "python",
   "nbconvert_exporter": "python",
   "pygments_lexer": "ipython3",
   "version": "3.10.9"
  },
  "orig_nbformat": 4,
  "vscode": {
   "interpreter": {
    "hash": "a0d58e2d3f8119425ff4924f218bee9b224874fdf3d9173ba2b318cb9e305a42"
   }
  }
 },
 "nbformat": 4,
 "nbformat_minor": 2
}
