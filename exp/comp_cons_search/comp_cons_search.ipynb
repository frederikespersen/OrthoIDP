{
 "cells": [
  {
   "attachments": {},
   "cell_type": "markdown",
   "metadata": {},
   "source": [
    "# Looking for ortholog ID families with conserved compactness across lenght variations"
   ]
  },
  {
   "cell_type": "code",
   "execution_count": 1,
   "metadata": {},
   "outputs": [
    {
     "name": "stderr",
     "output_type": "stream",
     "text": [
      "Warning: importing 'simtk.openmm' is deprecated.  Import 'openmm' instead.\n"
     ]
    }
   ],
   "source": [
    "# Imports\n",
    "from Bio import SeqIO\n",
    "import json\n",
    "import os\n",
    "import sys\n",
    "import pandas as pd\n",
    "import seaborn as sns\n",
    "import matplotlib.pyplot as plt\n",
    "import numpy as np\n",
    "from scipy.stats import pearsonr, spearmanr\n",
    "from scipy.stats import f as f_dist\n",
    "from scipy.optimize import curve_fit\n",
    "import requests\n",
    "\n",
    "sys.path.append('../../src')\n",
    "import data_utils\n",
    "import analyse_utils\n",
    "import mdtraj as md\n",
    "\n",
    "plt.rcParams[\"font.family\"] = \"Liberation Sans\"\n",
    "plt.rcParams[\"font.weight\"] = \"normal\""
   ]
  },
  {
   "cell_type": "code",
   "execution_count": 80,
   "metadata": {},
   "outputs": [
    {
     "name": "stderr",
     "output_type": "stream",
     "text": [
      "/storage1/fknudsen/software/miniconda3/envs/orthoidp/lib/python3.10/site-packages/sklearn/base.py:299: UserWarning: Trying to unpickle estimator SVR from version 1.0.2 when using version 1.2.1. This might lead to breaking code or invalid results. Use at your own risk. For more info please refer to:\n",
      "https://scikit-learn.org/stable/model_persistence.html#security-maintainability-limitations\n",
      "  warnings.warn(\n"
     ]
    }
   ],
   "source": [
    "import itertools\n",
    "from localcider.sequenceParameters import SequenceParameters\n",
    "from residues import residues\n",
    "\n",
    "# Loading SVR model\n",
    "import joblib\n",
    "model = joblib.load('svr_model.joblib')\n",
    "\n",
    "def svr_features(seq,Nc=0,Cc=0,Hc=0.5,residues=residues.set_index('one')):\n",
    "    \"\"\"df: DataFrame to be populated with sequence properties\n",
    "    r: DataFrame of aa-specific parameters\"\"\"\n",
    "    seq = list(seq).copy()   \n",
    "    fasta_kappa = np.array(seq.copy())\n",
    "    N = len(seq)\n",
    "    r = residues.copy()\n",
    "    \n",
    "    # calculate properties that do not depend on charges\n",
    "    mean_lambda = np.mean(r.loc[seq].AH_lambda)\n",
    "\n",
    "    pairs = np.array(list(itertools.combinations(seq,2)))\n",
    "    pairs_indices = np.array(list(itertools.combinations(range(N),2)))\n",
    "    # calculate sequence separations\n",
    "    ij_dist = np.diff(pairs_indices,axis=1).flatten().astype(float)\n",
    "    # calculate lambda sums\n",
    "    ll = r.AH_lambda.loc[pairs[:,0]].values+r.AH_lambda.loc[pairs[:,1]].values\n",
    "    # calculate SHD\n",
    "    beta = -1\n",
    "    shd = np.sum(ll*np.power(np.abs(ij_dist),beta))/N\n",
    "    SeqOb = SequenceParameters(''.join(seq))\n",
    "    \n",
    "    # fix charges\n",
    "    if Nc == 1:\n",
    "        r.loc['X'] = r.loc[seq[0]]\n",
    "        r.loc['X','q'] = r.loc[seq[0],'q'] + 1.\n",
    "        seq[0] = 'X'\n",
    "        if r.loc['X','q'] > 0:\n",
    "            fasta_kappa[0] = 'K'\n",
    "        else:\n",
    "            fasta_kappa[0] = 'A'\n",
    "    if Cc == 1:\n",
    "        r.loc['Z'] = r.loc[seq[-1]]\n",
    "        r.loc['Z','q'] = r.loc[seq[-1],'q'] - 1.\n",
    "        seq[-1] = 'Z'\n",
    "        if r.loc['Z','q'] < 0:\n",
    "            fasta_kappa[-1] = 'D'\n",
    "        else:\n",
    "            fasta_kappa[-1] = 'A'\n",
    "    if Hc < 0.5:\n",
    "        r.loc['H', 'q'] = 0\n",
    "        fasta_kappa[np.where(np.array(seq) == 'H')[0]] = 'A'\n",
    "    elif Hc >= 0.5:\n",
    "        r.loc['H', 'q'] = 1\n",
    "        fasta_kappa[np.where(np.array(seq) == 'H')[0]] = 'K'\n",
    "            \n",
    "    # calculate properties that depend on charges\n",
    "    pairs = np.array(list(itertools.combinations(seq,2)))\n",
    "    # calculate charge products\n",
    "    qq = r.q.loc[pairs[:,0]].values*r.q.loc[pairs[:,1]].values\n",
    "    # calculate SCD\n",
    "    scd = np.sum(qq*np.sqrt(ij_dist))/N\n",
    "    SeqOb = SequenceParameters(''.join(fasta_kappa))\n",
    "    kappa = SeqOb.get_kappa()\n",
    "    fcr = r.q.loc[seq].abs().mean()\n",
    "\n",
    "    return np.array([scd, shd, kappa, fcr, mean_lambda])\n",
    "\n",
    "def predict_nu(seq):\n",
    "    features = float(model.predict(features))\n",
    "    nu = float(model.predict(features))\n",
    "    return nu"
   ]
  },
  {
   "attachments": {},
   "cell_type": "markdown",
   "metadata": {},
   "source": [
    "## Data preparation"
   ]
  },
  {
   "attachments": {},
   "cell_type": "markdown",
   "metadata": {},
   "source": [
    "## Analysis"
   ]
  }
 ],
 "metadata": {
  "kernelspec": {
   "display_name": "orthoidp",
   "language": "python",
   "name": "python3"
  },
  "language_info": {
   "codemirror_mode": {
    "name": "ipython",
    "version": 3
   },
   "file_extension": ".py",
   "mimetype": "text/x-python",
   "name": "python",
   "nbconvert_exporter": "python",
   "pygments_lexer": "ipython3",
   "version": "3.10.9"
  },
  "orig_nbformat": 4
 },
 "nbformat": 4,
 "nbformat_minor": 2
}
