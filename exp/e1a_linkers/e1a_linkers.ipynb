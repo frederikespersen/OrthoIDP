{
 "cells": [
  {
   "cell_type": "code",
   "execution_count": 7,
   "metadata": {},
   "outputs": [],
   "source": [
    "# Imports\n",
    "from Bio import SeqIO\n",
    "import json\n",
    "import os"
   ]
  },
  {
   "cell_type": "code",
   "execution_count": 4,
   "metadata": {},
   "outputs": [],
   "source": [
    "# Creating metadata\n",
    "data = {}\n",
    "for record in SeqIO.parse(\"linker_sequences.fasta\", \"fasta\"):\n",
    "    data[record.id] = {\n",
    "        \"sequence\": str(record.seq)\n",
    "    }\n",
    "\n",
    "metadata = {'data': data}"
   ]
  },
  {
   "cell_type": "code",
   "execution_count": 9,
   "metadata": {},
   "outputs": [],
   "source": [
    "# Saving sequences\n",
    "os.makedirs('data', exist_ok=True)\n",
    "\n",
    "# Iterating over rows\n",
    "for id, d in data.items():\n",
    "    seq = d['sequence']\n",
    "\n",
    "    # Saving as FASTA format (Though one-line sequence)\n",
    "    filepath = 'data/' + id + '.fasta'\n",
    "    with open(filepath, 'w') as file:\n",
    "        file.write('>' + id + ' ' + '\\n')\n",
    "        file.write(seq + '\\n')"
   ]
  },
  {
   "cell_type": "code",
   "execution_count": 5,
   "metadata": {},
   "outputs": [],
   "source": [
    "# Saving metadata\n",
    "with open(\"e1a_linkers.json\", 'w') as file:\n",
    "    json.dump(metadata, file, indent=4)"
   ]
  }
 ],
 "metadata": {
  "kernelspec": {
   "display_name": "orthoidp",
   "language": "python",
   "name": "python3"
  },
  "language_info": {
   "codemirror_mode": {
    "name": "ipython",
    "version": 3
   },
   "file_extension": ".py",
   "mimetype": "text/x-python",
   "name": "python",
   "nbconvert_exporter": "python",
   "pygments_lexer": "ipython3",
   "version": "3.10.9"
  },
  "orig_nbformat": 4
 },
 "nbformat": 4,
 "nbformat_minor": 2
}
