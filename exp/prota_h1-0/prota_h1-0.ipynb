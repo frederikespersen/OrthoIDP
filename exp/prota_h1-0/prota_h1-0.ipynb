{
 "cells": [
  {
   "attachments": {},
   "cell_type": "markdown",
   "metadata": {},
   "source": [
    "# Interactions between ProTα and Histone H1.0"
   ]
  },
  {
   "cell_type": "code",
   "execution_count": 1,
   "metadata": {},
   "outputs": [
    {
     "name": "stderr",
     "output_type": "stream",
     "text": [
      "Warning: importing 'simtk.openmm' is deprecated.  Import 'openmm' instead.\n"
     ]
    }
   ],
   "source": [
    "# Imports\n",
    "import sys\n",
    "import json\n",
    "import pandas as pd\n",
    "import os\n",
    "import mdtraj as md\n",
    "from matplotlib import pyplot as plt\n",
    "import numpy as np\n",
    "\n",
    "sys.path.append('../../src')\n",
    "import data_utils\n",
    "import analyse_utils"
   ]
  },
  {
   "attachments": {},
   "cell_type": "markdown",
   "metadata": {},
   "source": [
    "## Strategy"
   ]
  },
  {
   "attachments": {},
   "cell_type": "markdown",
   "metadata": {},
   "source": [
    "Ionic strength range in Borgia et al. 2018\n",
    "- *In vitro* FRET [mM]: 165, 180, 205, 240, 290, 330, 340\n",
    "- *In silico* coarse grain [mM]: 165"
   ]
  },
  {
   "attachments": {},
   "cell_type": "markdown",
   "metadata": {},
   "source": [
    "## Data preparation"
   ]
  },
  {
   "attachments": {},
   "cell_type": "markdown",
   "metadata": {},
   "source": [
    "### Templates"
   ]
  },
  {
   "cell_type": "code",
   "execution_count": 7,
   "metadata": {},
   "outputs": [],
   "source": [
    "# Defining UniProt IDs / Trivial IDs\n",
    "entries = {\n",
    "    'H1-0': 'P07305',\n",
    "    'ProTa': 'P06454',\n",
    "}\n",
    "templates = pd.DataFrame({'uniprot_id': entries.values(),\n",
    "                          'name': None,\n",
    "                          'description': None,\n",
    "                          'species': None,\n",
    "                          'sequence': None},\n",
    "                          index=entries.keys())"
   ]
  },
  {
   "cell_type": "code",
   "execution_count": 8,
   "metadata": {},
   "outputs": [],
   "source": [
    "# Collecting metadata\n",
    "for id, row in templates.iterrows():\n",
    "    name, desc, spec, seq = data_utils.get_protein_metadata(row.uniprot_id)\n",
    "    templates.loc[id] = {\n",
    "        'uniprot_id': row.uniprot_id,\n",
    "        'name': name,\n",
    "        'description': desc,\n",
    "        'species': spec,\n",
    "        'sequence': seq}"
   ]
  },
  {
   "cell_type": "code",
   "execution_count": 9,
   "metadata": {},
   "outputs": [
    {
     "data": {
      "text/html": [
       "<div>\n",
       "<style scoped>\n",
       "    .dataframe tbody tr th:only-of-type {\n",
       "        vertical-align: middle;\n",
       "    }\n",
       "\n",
       "    .dataframe tbody tr th {\n",
       "        vertical-align: top;\n",
       "    }\n",
       "\n",
       "    .dataframe thead th {\n",
       "        text-align: right;\n",
       "    }\n",
       "</style>\n",
       "<table border=\"1\" class=\"dataframe\">\n",
       "  <thead>\n",
       "    <tr style=\"text-align: right;\">\n",
       "      <th></th>\n",
       "      <th>uniprot_id</th>\n",
       "      <th>name</th>\n",
       "      <th>description</th>\n",
       "      <th>species</th>\n",
       "      <th>sequence</th>\n",
       "    </tr>\n",
       "  </thead>\n",
       "  <tbody>\n",
       "    <tr>\n",
       "      <th>H1-0</th>\n",
       "      <td>P07305</td>\n",
       "      <td>H10_HUMAN</td>\n",
       "      <td>Histone H1.0</td>\n",
       "      <td>Homo sapiens (Human)</td>\n",
       "      <td>MTENSTSAPAAKPKRAKASKKSTDHPKYSDMIVAAIQAEKNRAGSS...</td>\n",
       "    </tr>\n",
       "    <tr>\n",
       "      <th>ProTa</th>\n",
       "      <td>P06454</td>\n",
       "      <td>PTMA_HUMAN</td>\n",
       "      <td>Prothymosin alpha</td>\n",
       "      <td>Homo sapiens (Human)</td>\n",
       "      <td>MSDAAVDTSSEITTKDLKEKKEVVEEAENGRDAPANGNAENEENGE...</td>\n",
       "    </tr>\n",
       "  </tbody>\n",
       "</table>\n",
       "</div>"
      ],
      "text/plain": [
       "      uniprot_id        name        description               species  \\\n",
       "H1-0      P07305   H10_HUMAN       Histone H1.0  Homo sapiens (Human)   \n",
       "ProTa     P06454  PTMA_HUMAN  Prothymosin alpha  Homo sapiens (Human)   \n",
       "\n",
       "                                                sequence  \n",
       "H1-0   MTENSTSAPAAKPKRAKASKKSTDHPKYSDMIVAAIQAEKNRAGSS...  \n",
       "ProTa  MSDAAVDTSSEITTKDLKEKKEVVEEAENGRDAPANGNAENEENGE...  "
      ]
     },
     "execution_count": 9,
     "metadata": {},
     "output_type": "execute_result"
    }
   ],
   "source": [
    "# Viewing final templates\n",
    "templates"
   ]
  },
  {
   "cell_type": "code",
   "execution_count": 10,
   "metadata": {},
   "outputs": [],
   "source": [
    "# Saving metadata\n",
    "metadata = {'templates': templates.to_dict(orient='index')}\n",
    "with open('prota_h1-0.json', 'w') as file:\n",
    "    json.dump(metadata, file, indent=4)"
   ]
  },
  {
   "attachments": {},
   "cell_type": "markdown",
   "metadata": {},
   "source": [
    "### Data"
   ]
  },
  {
   "cell_type": "code",
   "execution_count": 9,
   "metadata": {},
   "outputs": [],
   "source": [
    "# Getting template metadata\n",
    "with open('prota_h1-0.json', 'r') as file:\n",
    "    metadata = json.load(file)"
   ]
  },
  {
   "cell_type": "code",
   "execution_count": 12,
   "metadata": {},
   "outputs": [],
   "source": [
    "# Getting IDR of H1.0 (C-terminal IDR)\n",
    "seq, loc, reg = data_utils.get_protein_idr(uniprot_id=metadata['templates']['H1-0']['uniprot_id'], i_idr=-1, length_order=False)\n",
    "H10 = {'template': 'H1-0', 'sequence': seq, 'location': loc, 'region': 'CTD', 'variant': 'Wild type'}\n",
    "\n",
    "# Getting IDR of ProTa (Full-length IDP)\n",
    "seq, loc, reg = data_utils.get_protein_idr(uniprot_id=metadata['templates']['ProTa']['uniprot_id'], i_idr=-1, length_order=True)\n",
    "ProTa = {'template': 'ProTa', 'sequence': seq, 'location': loc, 'region': 'FL', 'variant': 'Wild type'}"
   ]
  },
  {
   "cell_type": "code",
   "execution_count": 13,
   "metadata": {},
   "outputs": [
    {
     "data": {
      "text/html": [
       "<div>\n",
       "<style scoped>\n",
       "    .dataframe tbody tr th:only-of-type {\n",
       "        vertical-align: middle;\n",
       "    }\n",
       "\n",
       "    .dataframe tbody tr th {\n",
       "        vertical-align: top;\n",
       "    }\n",
       "\n",
       "    .dataframe thead th {\n",
       "        text-align: right;\n",
       "    }\n",
       "</style>\n",
       "<table border=\"1\" class=\"dataframe\">\n",
       "  <thead>\n",
       "    <tr style=\"text-align: right;\">\n",
       "      <th></th>\n",
       "      <th>template</th>\n",
       "      <th>sequence</th>\n",
       "      <th>location</th>\n",
       "      <th>region</th>\n",
       "      <th>variant</th>\n",
       "    </tr>\n",
       "  </thead>\n",
       "  <tbody>\n",
       "    <tr>\n",
       "      <th>H1-0_WT</th>\n",
       "      <td>H1-0</td>\n",
       "      <td>TKGVGASGSFRLAKSDEPKKSVAFKKTKKEIKKVATPKKASKPKKA...</td>\n",
       "      <td>83:194</td>\n",
       "      <td>CTD</td>\n",
       "      <td>Wild type</td>\n",
       "    </tr>\n",
       "    <tr>\n",
       "      <th>ProTa_WT</th>\n",
       "      <td>ProTa</td>\n",
       "      <td>MSDAAVDTSSEITTKDLKEKKEVVEEAENGRDAPANGNAENEENGE...</td>\n",
       "      <td>0:111</td>\n",
       "      <td>FL</td>\n",
       "      <td>Wild type</td>\n",
       "    </tr>\n",
       "  </tbody>\n",
       "</table>\n",
       "</div>"
      ],
      "text/plain": [
       "         template                                           sequence location  \\\n",
       "H1-0_WT      H1-0  TKGVGASGSFRLAKSDEPKKSVAFKKTKKEIKKVATPKKASKPKKA...   83:194   \n",
       "ProTa_WT    ProTa  MSDAAVDTSSEITTKDLKEKKEVVEEAENGRDAPANGNAENEENGE...    0:111   \n",
       "\n",
       "         region    variant  \n",
       "H1-0_WT     CTD  Wild type  \n",
       "ProTa_WT     FL  Wild type  "
      ]
     },
     "execution_count": 13,
     "metadata": {},
     "output_type": "execute_result"
    }
   ],
   "source": [
    "# Assembling all data entries for simulation\n",
    "data = pd.DataFrame([H10, ProTa], index = ['H1-0_WT', 'ProTa_WT'])\n",
    "data"
   ]
  },
  {
   "cell_type": "code",
   "execution_count": 14,
   "metadata": {},
   "outputs": [],
   "source": [
    "# Saving sequences\n",
    "os.makedirs('data', exist_ok=True)\n",
    "os.makedirs('results', exist_ok=True)\n",
    "\n",
    "# Iterating over rows\n",
    "for index, cols in data.iterrows():\n",
    "    id = index.upper()\n",
    "    desc = cols['variant']\n",
    "    seq = cols['sequence']\n",
    "\n",
    "    # Saving as FASTA format (Though one-line sequence)\n",
    "    filepath = 'data/' + id + '.fasta'\n",
    "    with open(filepath, 'w') as file:\n",
    "        file.write('>' + id + ' ' + desc + '\\n')\n",
    "        file.write(seq + '\\n')"
   ]
  },
  {
   "cell_type": "code",
   "execution_count": 16,
   "metadata": {},
   "outputs": [],
   "source": [
    "# Saving metadata\n",
    "metadata['data'] = data.to_dict(orient='index')\n",
    "with open('prota_h1-0.json', 'w') as file:\n",
    "    json.dump(metadata, file, indent=4)"
   ]
  },
  {
   "attachments": {},
   "cell_type": "markdown",
   "metadata": {},
   "source": [
    "### Topologies"
   ]
  },
  {
   "cell_type": "code",
   "execution_count": 37,
   "metadata": {},
   "outputs": [],
   "source": [
    "# Choosing trajectory\n",
    "traj_dir = \"results/single_chain/default/H1-0_WT/\"\n",
    "traj = md.load_dcd(*[traj_dir+file for file in ['traj.dcd', 'top.pdb']])"
   ]
  },
  {
   "cell_type": "code",
   "execution_count": 39,
   "metadata": {},
   "outputs": [],
   "source": [
    "# Computing Rg for each frame\n",
    "from simulate_utils import extract_sequences\n",
    "seq = ''.join(extract_sequences(traj_dir+'top.pdb').aa)\n",
    "Rg = analyse_utils.compute_rg(seq, traj)"
   ]
  },
  {
   "cell_type": "code",
   "execution_count": 40,
   "metadata": {},
   "outputs": [],
   "source": [
    "# Finding most compact frame\n",
    "compact_frame = traj[Rg == Rg.max()]"
   ]
  },
  {
   "cell_type": "code",
   "execution_count": 41,
   "metadata": {},
   "outputs": [],
   "source": [
    "# Saving snapshot \n",
    "compact_frame.save_pdb('data/H1-0_WT.pdb')"
   ]
  }
 ],
 "metadata": {
  "kernelspec": {
   "display_name": "orthoidp",
   "language": "python",
   "name": "python3"
  },
  "language_info": {
   "codemirror_mode": {
    "name": "ipython",
    "version": 3
   },
   "file_extension": ".py",
   "mimetype": "text/x-python",
   "name": "python",
   "nbconvert_exporter": "python",
   "pygments_lexer": "ipython3",
   "version": "3.10.9"
  },
  "orig_nbformat": 4
 },
 "nbformat": 4,
 "nbformat_minor": 2
}
