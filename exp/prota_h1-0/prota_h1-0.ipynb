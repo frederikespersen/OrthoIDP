{
 "cells": [
  {
   "attachments": {},
   "cell_type": "markdown",
   "metadata": {},
   "source": [
    "# Interactions between ProTα and Histone H1.0"
   ]
  },
  {
   "cell_type": "code",
   "execution_count": 1,
   "metadata": {},
   "outputs": [
    {
     "name": "stderr",
     "output_type": "stream",
     "text": [
      "Warning: importing 'simtk.openmm' is deprecated.  Import 'openmm' instead.\n"
     ]
    }
   ],
   "source": [
    "# Imports\n",
    "import sys\n",
    "import json\n",
    "import pandas as pd\n",
    "import os\n",
    "import mdtraj as md\n",
    "from matplotlib import pyplot as plt\n",
    "import numpy as np\n",
    "\n",
    "sys.path.append('../../src')\n",
    "import data_utils\n",
    "import analyse_utils\n",
    "import simulate_utils"
   ]
  },
  {
   "attachments": {},
   "cell_type": "markdown",
   "metadata": {},
   "source": [
    "## Strategy"
   ]
  },
  {
   "attachments": {},
   "cell_type": "markdown",
   "metadata": {},
   "source": [
    "Ionic strength range in Borgia et al. 2018\n",
    "- *In vitro* FRET [mM]: 165, 180, 205, 240, 290, 330, 340\n",
    "- *In silico* coarse grain [mM]: 165"
   ]
  },
  {
   "attachments": {},
   "cell_type": "markdown",
   "metadata": {},
   "source": [
    "They do not report a box size, but report interactions starting from 22 nm COM distance as well as 7 fM KD from CG MD.\n",
    "\n",
    "$K_{D} = $"
   ]
  },
  {
   "attachments": {},
   "cell_type": "markdown",
   "metadata": {},
   "source": [
    "## Data preparation"
   ]
  },
  {
   "attachments": {},
   "cell_type": "markdown",
   "metadata": {},
   "source": [
    "### Templates"
   ]
  },
  {
   "cell_type": "code",
   "execution_count": 7,
   "metadata": {},
   "outputs": [],
   "source": [
    "# Defining UniProt IDs / Trivial IDs\n",
    "entries = {\n",
    "    'H1-0': 'P07305',\n",
    "    'ProTa': 'P06454',\n",
    "}\n",
    "templates = pd.DataFrame({'uniprot_id': entries.values(),\n",
    "                          'name': None,\n",
    "                          'description': None,\n",
    "                          'species': None,\n",
    "                          'sequence': None},\n",
    "                          index=entries.keys())"
   ]
  },
  {
   "cell_type": "code",
   "execution_count": 8,
   "metadata": {},
   "outputs": [],
   "source": [
    "# Collecting metadata\n",
    "for id, row in templates.iterrows():\n",
    "    name, desc, spec, seq = data_utils.get_protein_metadata(row.uniprot_id)\n",
    "    templates.loc[id] = {\n",
    "        'uniprot_id': row.uniprot_id,\n",
    "        'name': name,\n",
    "        'description': desc,\n",
    "        'species': spec,\n",
    "        'sequence': seq}"
   ]
  },
  {
   "cell_type": "code",
   "execution_count": 9,
   "metadata": {},
   "outputs": [
    {
     "data": {
      "text/html": [
       "<div>\n",
       "<style scoped>\n",
       "    .dataframe tbody tr th:only-of-type {\n",
       "        vertical-align: middle;\n",
       "    }\n",
       "\n",
       "    .dataframe tbody tr th {\n",
       "        vertical-align: top;\n",
       "    }\n",
       "\n",
       "    .dataframe thead th {\n",
       "        text-align: right;\n",
       "    }\n",
       "</style>\n",
       "<table border=\"1\" class=\"dataframe\">\n",
       "  <thead>\n",
       "    <tr style=\"text-align: right;\">\n",
       "      <th></th>\n",
       "      <th>uniprot_id</th>\n",
       "      <th>name</th>\n",
       "      <th>description</th>\n",
       "      <th>species</th>\n",
       "      <th>sequence</th>\n",
       "    </tr>\n",
       "  </thead>\n",
       "  <tbody>\n",
       "    <tr>\n",
       "      <th>H1-0</th>\n",
       "      <td>P07305</td>\n",
       "      <td>H10_HUMAN</td>\n",
       "      <td>Histone H1.0</td>\n",
       "      <td>Homo sapiens (Human)</td>\n",
       "      <td>MTENSTSAPAAKPKRAKASKKSTDHPKYSDMIVAAIQAEKNRAGSS...</td>\n",
       "    </tr>\n",
       "    <tr>\n",
       "      <th>ProTa</th>\n",
       "      <td>P06454</td>\n",
       "      <td>PTMA_HUMAN</td>\n",
       "      <td>Prothymosin alpha</td>\n",
       "      <td>Homo sapiens (Human)</td>\n",
       "      <td>MSDAAVDTSSEITTKDLKEKKEVVEEAENGRDAPANGNAENEENGE...</td>\n",
       "    </tr>\n",
       "  </tbody>\n",
       "</table>\n",
       "</div>"
      ],
      "text/plain": [
       "      uniprot_id        name        description               species  \\\n",
       "H1-0      P07305   H10_HUMAN       Histone H1.0  Homo sapiens (Human)   \n",
       "ProTa     P06454  PTMA_HUMAN  Prothymosin alpha  Homo sapiens (Human)   \n",
       "\n",
       "                                                sequence  \n",
       "H1-0   MTENSTSAPAAKPKRAKASKKSTDHPKYSDMIVAAIQAEKNRAGSS...  \n",
       "ProTa  MSDAAVDTSSEITTKDLKEKKEVVEEAENGRDAPANGNAENEENGE...  "
      ]
     },
     "execution_count": 9,
     "metadata": {},
     "output_type": "execute_result"
    }
   ],
   "source": [
    "# Viewing final templates\n",
    "templates"
   ]
  },
  {
   "cell_type": "code",
   "execution_count": 10,
   "metadata": {},
   "outputs": [],
   "source": [
    "# Saving metadata\n",
    "metadata = {'templates': templates.to_dict(orient='index')}\n",
    "with open('prota_h1-0.json', 'w') as file:\n",
    "    json.dump(metadata, file, indent=4)"
   ]
  },
  {
   "attachments": {},
   "cell_type": "markdown",
   "metadata": {},
   "source": [
    "### Data"
   ]
  },
  {
   "cell_type": "code",
   "execution_count": 9,
   "metadata": {},
   "outputs": [],
   "source": [
    "# Getting template metadata\n",
    "with open('prota_h1-0.json', 'r') as file:\n",
    "    metadata = json.load(file)"
   ]
  },
  {
   "cell_type": "code",
   "execution_count": 12,
   "metadata": {},
   "outputs": [],
   "source": [
    "# Getting IDR of H1.0 (C-terminal IDR)\n",
    "seq, loc, reg = data_utils.get_protein_idr(uniprot_id=metadata['templates']['H1-0']['uniprot_id'], i_idr=-1, length_order=False)\n",
    "H10 = {'template': 'H1-0', 'sequence': seq, 'location': loc, 'region': 'CTD', 'variant': 'Wild type'}\n",
    "\n",
    "# Getting IDR of ProTa (Full-length IDP)\n",
    "seq, loc, reg = data_utils.get_protein_idr(uniprot_id=metadata['templates']['ProTa']['uniprot_id'], i_idr=-1, length_order=True)\n",
    "ProTa = {'template': 'ProTa', 'sequence': seq, 'location': loc, 'region': 'FL', 'variant': 'Wild type'}"
   ]
  },
  {
   "cell_type": "code",
   "execution_count": 13,
   "metadata": {},
   "outputs": [
    {
     "data": {
      "text/html": [
       "<div>\n",
       "<style scoped>\n",
       "    .dataframe tbody tr th:only-of-type {\n",
       "        vertical-align: middle;\n",
       "    }\n",
       "\n",
       "    .dataframe tbody tr th {\n",
       "        vertical-align: top;\n",
       "    }\n",
       "\n",
       "    .dataframe thead th {\n",
       "        text-align: right;\n",
       "    }\n",
       "</style>\n",
       "<table border=\"1\" class=\"dataframe\">\n",
       "  <thead>\n",
       "    <tr style=\"text-align: right;\">\n",
       "      <th></th>\n",
       "      <th>template</th>\n",
       "      <th>sequence</th>\n",
       "      <th>location</th>\n",
       "      <th>region</th>\n",
       "      <th>variant</th>\n",
       "    </tr>\n",
       "  </thead>\n",
       "  <tbody>\n",
       "    <tr>\n",
       "      <th>H1-0_WT</th>\n",
       "      <td>H1-0</td>\n",
       "      <td>TKGVGASGSFRLAKSDEPKKSVAFKKTKKEIKKVATPKKASKPKKA...</td>\n",
       "      <td>83:194</td>\n",
       "      <td>CTD</td>\n",
       "      <td>Wild type</td>\n",
       "    </tr>\n",
       "    <tr>\n",
       "      <th>ProTa_WT</th>\n",
       "      <td>ProTa</td>\n",
       "      <td>MSDAAVDTSSEITTKDLKEKKEVVEEAENGRDAPANGNAENEENGE...</td>\n",
       "      <td>0:111</td>\n",
       "      <td>FL</td>\n",
       "      <td>Wild type</td>\n",
       "    </tr>\n",
       "  </tbody>\n",
       "</table>\n",
       "</div>"
      ],
      "text/plain": [
       "         template                                           sequence location  \\\n",
       "H1-0_WT      H1-0  TKGVGASGSFRLAKSDEPKKSVAFKKTKKEIKKVATPKKASKPKKA...   83:194   \n",
       "ProTa_WT    ProTa  MSDAAVDTSSEITTKDLKEKKEVVEEAENGRDAPANGNAENEENGE...    0:111   \n",
       "\n",
       "         region    variant  \n",
       "H1-0_WT     CTD  Wild type  \n",
       "ProTa_WT     FL  Wild type  "
      ]
     },
     "execution_count": 13,
     "metadata": {},
     "output_type": "execute_result"
    }
   ],
   "source": [
    "# Assembling all data entries for simulation\n",
    "data = pd.DataFrame([H10, ProTa], index = ['H1-0_WT', 'ProTa_WT'])\n",
    "data"
   ]
  },
  {
   "cell_type": "code",
   "execution_count": 14,
   "metadata": {},
   "outputs": [],
   "source": [
    "# Saving sequences\n",
    "os.makedirs('data', exist_ok=True)\n",
    "os.makedirs('results', exist_ok=True)\n",
    "\n",
    "# Iterating over rows\n",
    "for index, cols in data.iterrows():\n",
    "    id = index.upper()\n",
    "    desc = cols['variant']\n",
    "    seq = cols['sequence']\n",
    "\n",
    "    # Saving as FASTA format (Though one-line sequence)\n",
    "    filepath = 'data/' + id + '.fasta'\n",
    "    with open(filepath, 'w') as file:\n",
    "        file.write('>' + id + ' ' + desc + '\\n')\n",
    "        file.write(seq + '\\n')"
   ]
  },
  {
   "cell_type": "code",
   "execution_count": 16,
   "metadata": {},
   "outputs": [],
   "source": [
    "# Saving metadata\n",
    "metadata['data'] = data.to_dict(orient='index')\n",
    "with open('prota_h1-0.json', 'w') as file:\n",
    "    json.dump(metadata, file, indent=4)"
   ]
  },
  {
   "attachments": {},
   "cell_type": "markdown",
   "metadata": {},
   "source": [
    "### Topologies"
   ]
  },
  {
   "cell_type": "code",
   "execution_count": 13,
   "metadata": {},
   "outputs": [
    {
     "data": {
      "text/plain": [
       "{'PROTA_WT': <mdtraj.Trajectory with 1 frames, 111 atoms, 111 residues, and unitcells at 0x7f00182db6d0>,\n",
       " 'H1-0_WT': <mdtraj.Trajectory with 1 frames, 111 atoms, 111 residues, and unitcells at 0x7efeb0bfb1c0>}"
      ]
     },
     "execution_count": 13,
     "metadata": {},
     "output_type": "execute_result"
    }
   ],
   "source": [
    "# Getting compact frame topologies\n",
    "cond = 'default'\n",
    "trajs = {}\n",
    "\n",
    "# Looping over proteins\n",
    "for prot in ['PROTA_WT', 'H1-0_WT']:\n",
    "\n",
    "    # Loading trajectory\n",
    "    traj_path = f'results/single_chain/{cond}/{prot}/traj.dcd'\n",
    "    top_path  = f'results/single_chain/{cond}/{prot}/top.pdb'\n",
    "\n",
    "    # Selecting most compact frame\n",
    "    compact_frame = analyse_utils.compact_frame(traj_path, top_path)\n",
    "    trajs[prot] = compact_frame\n",
    "trajs"
   ]
  },
  {
   "cell_type": "code",
   "execution_count": null,
   "metadata": {},
   "outputs": [],
   "source": [
    "# Saving single topologies\n",
    "for prot, traj in trajs.items():\n",
    "    traj.save_pdb(f'data/{prot}.pdb')"
   ]
  },
  {
   "cell_type": "code",
   "execution_count": 14,
   "metadata": {},
   "outputs": [],
   "source": [
    "# Translating topologies\n",
    "trajs['H1-0_WT'].xyz = trajs['H1-0_WT'].xyz + [0, 0, 0]\n",
    "trajs['PROTA_WT'].xyz = trajs['PROTA_WT'].xyz + [20, 0, 0]"
   ]
  },
  {
   "cell_type": "code",
   "execution_count": 16,
   "metadata": {},
   "outputs": [],
   "source": [
    "# Merging and saving topologies\n",
    "merged_traj = simulate_utils.merge_topologies(list(trajs.values()))\n",
    "merged_traj.save('data/H1-0_PROTA_WT.pdb')"
   ]
  },
  {
   "cell_type": "code",
   "execution_count": 20,
   "metadata": {},
   "outputs": [
    {
     "data": {
      "text/html": [
       "<div>\n",
       "<style scoped>\n",
       "    .dataframe tbody tr th:only-of-type {\n",
       "        vertical-align: middle;\n",
       "    }\n",
       "\n",
       "    .dataframe tbody tr th {\n",
       "        vertical-align: top;\n",
       "    }\n",
       "\n",
       "    .dataframe thead th {\n",
       "        text-align: right;\n",
       "    }\n",
       "</style>\n",
       "<table border=\"1\" class=\"dataframe\">\n",
       "  <thead>\n",
       "    <tr style=\"text-align: right;\">\n",
       "      <th></th>\n",
       "      <th>res</th>\n",
       "      <th>MW</th>\n",
       "      <th>AH_lambda</th>\n",
       "      <th>AH_sigma</th>\n",
       "      <th>q</th>\n",
       "    </tr>\n",
       "    <tr>\n",
       "      <th>chain</th>\n",
       "      <th></th>\n",
       "      <th></th>\n",
       "      <th></th>\n",
       "      <th></th>\n",
       "      <th></th>\n",
       "    </tr>\n",
       "  </thead>\n",
       "  <tbody>\n",
       "    <tr>\n",
       "      <th>0</th>\n",
       "      <td>6105</td>\n",
       "      <td>12202.65</td>\n",
       "      <td>23.615885</td>\n",
       "      <td>62.712</td>\n",
       "      <td>-44</td>\n",
       "    </tr>\n",
       "    <tr>\n",
       "      <th>1</th>\n",
       "      <td>18426</td>\n",
       "      <td>11778.21</td>\n",
       "      <td>33.335545</td>\n",
       "      <td>64.274</td>\n",
       "      <td>42</td>\n",
       "    </tr>\n",
       "  </tbody>\n",
       "</table>\n",
       "</div>"
      ],
      "text/plain": [
       "         res        MW  AH_lambda  AH_sigma   q\n",
       "chain                                          \n",
       "0       6105  12202.65  23.615885    62.712 -44\n",
       "1      18426  11778.21  33.335545    64.274  42"
      ]
     },
     "execution_count": 20,
     "metadata": {},
     "output_type": "execute_result"
    }
   ],
   "source": [
    "# Identifying chains\n",
    "simulate_utils.extract_sequences('data/H1-0_PROTA_WT.pdb').groupby('chain').sum(numeric_only=True)"
   ]
  },
  {
   "attachments": {},
   "cell_type": "markdown",
   "metadata": {},
   "source": [
    "## Analysis"
   ]
  }
 ],
 "metadata": {
  "kernelspec": {
   "display_name": "orthoidp",
   "language": "python",
   "name": "python3"
  },
  "language_info": {
   "codemirror_mode": {
    "name": "ipython",
    "version": 3
   },
   "file_extension": ".py",
   "mimetype": "text/x-python",
   "name": "python",
   "nbconvert_exporter": "python",
   "pygments_lexer": "ipython3",
   "version": "3.10.9"
  },
  "orig_nbformat": 4
 },
 "nbformat": 4,
 "nbformat_minor": 2
}
