{
 "cells": [
  {
   "attachments": {},
   "cell_type": "markdown",
   "metadata": {},
   "source": [
    "# Interactions between ProTα and Histone H1.0"
   ]
  },
  {
   "cell_type": "code",
   "execution_count": 1,
   "metadata": {},
   "outputs": [
    {
     "name": "stderr",
     "output_type": "stream",
     "text": [
      "Warning: importing 'simtk.openmm' is deprecated.  Import 'openmm' instead.\n"
     ]
    }
   ],
   "source": [
    "# Imports\n",
    "import sys\n",
    "import json\n",
    "import pandas as pd\n",
    "import os\n",
    "import mdtraj as md\n",
    "from matplotlib import pyplot as plt\n",
    "import numpy as np\n",
    "\n",
    "sys.path.append('../../src')\n",
    "import data_utils\n",
    "import analyse_utils\n",
    "import simulate_utils"
   ]
  },
  {
   "attachments": {},
   "cell_type": "markdown",
   "metadata": {},
   "source": [
    "## Strategy"
   ]
  },
  {
   "attachments": {},
   "cell_type": "markdown",
   "metadata": {},
   "source": [
    "Ionic strength range in Borgia et al. 2018\n",
    "- *In vitro* FRET [mM]: 165, 180, 205, 240, 290, 330, 340\n",
    "- *In silico* coarse grain [mM]: 165"
   ]
  },
  {
   "attachments": {},
   "cell_type": "markdown",
   "metadata": {},
   "source": [
    "They do not report a box size, but report interactions starting from 22 nm COM distance as well as 7 fM KD from CG MD.\n",
    "\n",
    "$K_{D} = $"
   ]
  },
  {
   "attachments": {},
   "cell_type": "markdown",
   "metadata": {},
   "source": [
    "## Data preparation"
   ]
  },
  {
   "attachments": {},
   "cell_type": "markdown",
   "metadata": {},
   "source": [
    "### Templates"
   ]
  },
  {
   "cell_type": "code",
   "execution_count": 7,
   "metadata": {},
   "outputs": [],
   "source": [
    "# Defining UniProt IDs / Trivial IDs\n",
    "entries = {\n",
    "    'H1-0': 'P07305',\n",
    "    'ProTa': 'P06454',\n",
    "}\n",
    "templates = pd.DataFrame({'uniprot_id': entries.values(),\n",
    "                          'name': None,\n",
    "                          'description': None,\n",
    "                          'species': None,\n",
    "                          'sequence': None},\n",
    "                          index=entries.keys())"
   ]
  },
  {
   "cell_type": "code",
   "execution_count": 8,
   "metadata": {},
   "outputs": [],
   "source": [
    "# Collecting metadata\n",
    "for id, row in templates.iterrows():\n",
    "    name, desc, spec, seq = data_utils.get_protein_metadata(row.uniprot_id)\n",
    "    templates.loc[id] = {\n",
    "        'uniprot_id': row.uniprot_id,\n",
    "        'name': name,\n",
    "        'description': desc,\n",
    "        'species': spec,\n",
    "        'sequence': seq}"
   ]
  },
  {
   "cell_type": "code",
   "execution_count": 9,
   "metadata": {},
   "outputs": [
    {
     "data": {
      "text/html": [
       "<div>\n",
       "<style scoped>\n",
       "    .dataframe tbody tr th:only-of-type {\n",
       "        vertical-align: middle;\n",
       "    }\n",
       "\n",
       "    .dataframe tbody tr th {\n",
       "        vertical-align: top;\n",
       "    }\n",
       "\n",
       "    .dataframe thead th {\n",
       "        text-align: right;\n",
       "    }\n",
       "</style>\n",
       "<table border=\"1\" class=\"dataframe\">\n",
       "  <thead>\n",
       "    <tr style=\"text-align: right;\">\n",
       "      <th></th>\n",
       "      <th>uniprot_id</th>\n",
       "      <th>name</th>\n",
       "      <th>description</th>\n",
       "      <th>species</th>\n",
       "      <th>sequence</th>\n",
       "    </tr>\n",
       "  </thead>\n",
       "  <tbody>\n",
       "    <tr>\n",
       "      <th>H1-0</th>\n",
       "      <td>P07305</td>\n",
       "      <td>H10_HUMAN</td>\n",
       "      <td>Histone H1.0</td>\n",
       "      <td>Homo sapiens (Human)</td>\n",
       "      <td>MTENSTSAPAAKPKRAKASKKSTDHPKYSDMIVAAIQAEKNRAGSS...</td>\n",
       "    </tr>\n",
       "    <tr>\n",
       "      <th>ProTa</th>\n",
       "      <td>P06454</td>\n",
       "      <td>PTMA_HUMAN</td>\n",
       "      <td>Prothymosin alpha</td>\n",
       "      <td>Homo sapiens (Human)</td>\n",
       "      <td>MSDAAVDTSSEITTKDLKEKKEVVEEAENGRDAPANGNAENEENGE...</td>\n",
       "    </tr>\n",
       "  </tbody>\n",
       "</table>\n",
       "</div>"
      ],
      "text/plain": [
       "      uniprot_id        name        description               species  \\\n",
       "H1-0      P07305   H10_HUMAN       Histone H1.0  Homo sapiens (Human)   \n",
       "ProTa     P06454  PTMA_HUMAN  Prothymosin alpha  Homo sapiens (Human)   \n",
       "\n",
       "                                                sequence  \n",
       "H1-0   MTENSTSAPAAKPKRAKASKKSTDHPKYSDMIVAAIQAEKNRAGSS...  \n",
       "ProTa  MSDAAVDTSSEITTKDLKEKKEVVEEAENGRDAPANGNAENEENGE...  "
      ]
     },
     "execution_count": 9,
     "metadata": {},
     "output_type": "execute_result"
    }
   ],
   "source": [
    "# Viewing final templates\n",
    "templates"
   ]
  },
  {
   "cell_type": "code",
   "execution_count": 10,
   "metadata": {},
   "outputs": [],
   "source": [
    "# Saving metadata\n",
    "metadata = {'templates': templates.to_dict(orient='index')}\n",
    "with open('prota_h1-0.json', 'w') as file:\n",
    "    json.dump(metadata, file, indent=4)"
   ]
  },
  {
   "attachments": {},
   "cell_type": "markdown",
   "metadata": {},
   "source": [
    "### Data"
   ]
  },
  {
   "cell_type": "code",
   "execution_count": 9,
   "metadata": {},
   "outputs": [],
   "source": [
    "# Getting template metadata\n",
    "with open('prota_h1-0.json', 'r') as file:\n",
    "    metadata = json.load(file)"
   ]
  },
  {
   "cell_type": "code",
   "execution_count": 12,
   "metadata": {},
   "outputs": [],
   "source": [
    "# Getting IDR of H1.0 (C-terminal IDR)\n",
    "seq, loc, reg = data_utils.get_protein_idr(uniprot_id=metadata['templates']['H1-0']['uniprot_id'], i_idr=-1, length_order=False)\n",
    "H10 = {'template': 'H1-0', 'sequence': seq, 'location': loc, 'region': 'CTD', 'variant': 'Wild type'}\n",
    "\n",
    "# Getting IDR of ProTa (Full-length IDP)\n",
    "seq, loc, reg = data_utils.get_protein_idr(uniprot_id=metadata['templates']['ProTa']['uniprot_id'], i_idr=-1, length_order=True)\n",
    "ProTa = {'template': 'ProTa', 'sequence': seq, 'location': loc, 'region': 'FL', 'variant': 'Wild type'}"
   ]
  },
  {
   "cell_type": "code",
   "execution_count": 13,
   "metadata": {},
   "outputs": [
    {
     "data": {
      "text/html": [
       "<div>\n",
       "<style scoped>\n",
       "    .dataframe tbody tr th:only-of-type {\n",
       "        vertical-align: middle;\n",
       "    }\n",
       "\n",
       "    .dataframe tbody tr th {\n",
       "        vertical-align: top;\n",
       "    }\n",
       "\n",
       "    .dataframe thead th {\n",
       "        text-align: right;\n",
       "    }\n",
       "</style>\n",
       "<table border=\"1\" class=\"dataframe\">\n",
       "  <thead>\n",
       "    <tr style=\"text-align: right;\">\n",
       "      <th></th>\n",
       "      <th>template</th>\n",
       "      <th>sequence</th>\n",
       "      <th>location</th>\n",
       "      <th>region</th>\n",
       "      <th>variant</th>\n",
       "    </tr>\n",
       "  </thead>\n",
       "  <tbody>\n",
       "    <tr>\n",
       "      <th>H1-0_WT</th>\n",
       "      <td>H1-0</td>\n",
       "      <td>TKGVGASGSFRLAKSDEPKKSVAFKKTKKEIKKVATPKKASKPKKA...</td>\n",
       "      <td>83:194</td>\n",
       "      <td>CTD</td>\n",
       "      <td>Wild type</td>\n",
       "    </tr>\n",
       "    <tr>\n",
       "      <th>ProTa_WT</th>\n",
       "      <td>ProTa</td>\n",
       "      <td>MSDAAVDTSSEITTKDLKEKKEVVEEAENGRDAPANGNAENEENGE...</td>\n",
       "      <td>0:111</td>\n",
       "      <td>FL</td>\n",
       "      <td>Wild type</td>\n",
       "    </tr>\n",
       "  </tbody>\n",
       "</table>\n",
       "</div>"
      ],
      "text/plain": [
       "         template                                           sequence location  \\\n",
       "H1-0_WT      H1-0  TKGVGASGSFRLAKSDEPKKSVAFKKTKKEIKKVATPKKASKPKKA...   83:194   \n",
       "ProTa_WT    ProTa  MSDAAVDTSSEITTKDLKEKKEVVEEAENGRDAPANGNAENEENGE...    0:111   \n",
       "\n",
       "         region    variant  \n",
       "H1-0_WT     CTD  Wild type  \n",
       "ProTa_WT     FL  Wild type  "
      ]
     },
     "execution_count": 13,
     "metadata": {},
     "output_type": "execute_result"
    }
   ],
   "source": [
    "# Assembling all data entries for simulation\n",
    "data = pd.DataFrame([H10, ProTa], index = ['H1-0_WT', 'ProTa_WT'])\n",
    "data"
   ]
  },
  {
   "cell_type": "code",
   "execution_count": 14,
   "metadata": {},
   "outputs": [],
   "source": [
    "# Saving sequences\n",
    "os.makedirs('data', exist_ok=True)\n",
    "os.makedirs('results', exist_ok=True)\n",
    "\n",
    "# Iterating over rows\n",
    "for index, cols in data.iterrows():\n",
    "    id = index.upper()\n",
    "    desc = cols['variant']\n",
    "    seq = cols['sequence']\n",
    "\n",
    "    # Saving as FASTA format (Though one-line sequence)\n",
    "    filepath = 'data/' + id + '.fasta'\n",
    "    with open(filepath, 'w') as file:\n",
    "        file.write('>' + id + ' ' + desc + '\\n')\n",
    "        file.write(seq + '\\n')"
   ]
  },
  {
   "cell_type": "code",
   "execution_count": 16,
   "metadata": {},
   "outputs": [],
   "source": [
    "# Saving metadata\n",
    "metadata['data'] = data.to_dict(orient='index')\n",
    "with open('prota_h1-0.json', 'w') as file:\n",
    "    json.dump(metadata, file, indent=4)"
   ]
  },
  {
   "attachments": {},
   "cell_type": "markdown",
   "metadata": {},
   "source": [
    "### Topologies"
   ]
  },
  {
   "cell_type": "code",
   "execution_count": 2,
   "metadata": {},
   "outputs": [
    {
     "data": {
      "text/plain": [
       "{'PROTA_WT': <mdtraj.Trajectory with 1 frames, 111 atoms, 111 residues, and unitcells at 0x7fdb7040d1e0>,\n",
       " 'H1-0_WT': <mdtraj.Trajectory with 1 frames, 111 atoms, 111 residues, and unitcells at 0x7fdc845f9de0>}"
      ]
     },
     "execution_count": 2,
     "metadata": {},
     "output_type": "execute_result"
    }
   ],
   "source": [
    "# Getting compact frame topologies\n",
    "cond = 'default'\n",
    "trajs = {}\n",
    "\n",
    "# Looping over proteins\n",
    "for prot in ['PROTA_WT', 'H1-0_WT']:\n",
    "\n",
    "    # Loading trajectory\n",
    "    traj_path = f'results/single_chain/{cond}/{prot}/traj.dcd'\n",
    "    top_path  = f'results/single_chain/{cond}/{prot}/top.pdb'\n",
    "\n",
    "    # Selecting most compact frame\n",
    "    compact_frame = analyse_utils.compact_frame(traj_path, top_path)\n",
    "    trajs[prot] = compact_frame\n",
    "trajs"
   ]
  },
  {
   "cell_type": "code",
   "execution_count": null,
   "metadata": {},
   "outputs": [],
   "source": [
    "# Saving single topologies\n",
    "for prot, traj in trajs.items():\n",
    "    traj.save_pdb(f'data/{prot}.pdb')"
   ]
  },
  {
   "cell_type": "code",
   "execution_count": 3,
   "metadata": {},
   "outputs": [],
   "source": [
    "# Translating topologies\n",
    "trajs['PROTA_WT'].xyz = trajs['PROTA_WT'].xyz + [10, 0, 0]\n",
    "trajs['H1-0_WT'].xyz = trajs['H1-0_WT'].xyz + [0, 0, 0]"
   ]
  },
  {
   "cell_type": "code",
   "execution_count": 9,
   "metadata": {},
   "outputs": [],
   "source": [
    "# Merging topologies\n",
    "merged_traj = simulate_utils.merge_topologies(list(trajs.values()), boxlength=100)"
   ]
  },
  {
   "cell_type": "code",
   "execution_count": 10,
   "metadata": {},
   "outputs": [],
   "source": [
    "# Saving merged topologies\n",
    "merged_traj.save('data/H1-0_PROTA_WT.pdb')"
   ]
  },
  {
   "cell_type": "code",
   "execution_count": 5,
   "metadata": {},
   "outputs": [
    {
     "data": {
      "text/plain": [
       "(     serial name element  resSeq resName  chainID segmentID\n",
       " 0         1    M       C       0       M        0          \n",
       " 1         2    S       C       1       S        0          \n",
       " 2         3    D       C       2       D        0          \n",
       " 3         4    A       C       3       A        0          \n",
       " 4         5    A       C       4       A        0          \n",
       " ..      ...  ...     ...     ...     ...      ...       ...\n",
       " 217     107    A       C     106       A        1          \n",
       " 218     108    G       C     107       G        1          \n",
       " 219     109    K       C     108       K        1          \n",
       " 220     110    K       C     109       K        1          \n",
       " 221     111    K       C     110       K        1          \n",
       " \n",
       " [222 rows x 7 columns],\n",
       " array([[  0.,   1.,   0.,   0.],\n",
       "        [  1.,   2.,   0.,   0.],\n",
       "        [  2.,   3.,   0.,   0.],\n",
       "        [  4.,   5.,   0.,   0.],\n",
       "        [  5.,   6.,   0.,   0.],\n",
       "        [  6.,   7.,   0.,   0.],\n",
       "        [  7.,   8.,   0.,   0.],\n",
       "        [  8.,   9.,   0.,   0.],\n",
       "        [  9.,  10.,   0.,   0.],\n",
       "        [ 10.,  11.,   0.,   0.],\n",
       "        [ 11.,  12.,   0.,   0.],\n",
       "        [ 12.,  13.,   0.,   0.],\n",
       "        [ 13.,  14.,   0.,   0.],\n",
       "        [ 14.,  15.,   0.,   0.],\n",
       "        [ 15.,  16.,   0.,   0.],\n",
       "        [ 16.,  17.,   0.,   0.],\n",
       "        [ 17.,  18.,   0.,   0.],\n",
       "        [ 18.,  19.,   0.,   0.],\n",
       "        [ 19.,  20.,   0.,   0.],\n",
       "        [ 20.,  21.,   0.,   0.],\n",
       "        [ 21.,  22.,   0.,   0.],\n",
       "        [ 22.,  23.,   0.,   0.],\n",
       "        [ 23.,  24.,   0.,   0.],\n",
       "        [ 24.,  25.,   0.,   0.],\n",
       "        [ 25.,  26.,   0.,   0.],\n",
       "        [ 26.,  27.,   0.,   0.],\n",
       "        [ 27.,  28.,   0.,   0.],\n",
       "        [ 28.,  29.,   0.,   0.],\n",
       "        [ 29.,  30.,   0.,   0.],\n",
       "        [ 30.,  31.,   0.,   0.],\n",
       "        [ 31.,  32.,   0.,   0.],\n",
       "        [ 32.,  33.,   0.,   0.],\n",
       "        [ 33.,  34.,   0.,   0.],\n",
       "        [ 34.,  35.,   0.,   0.],\n",
       "        [ 35.,  36.,   0.,   0.],\n",
       "        [ 36.,  37.,   0.,   0.],\n",
       "        [ 37.,  38.,   0.,   0.],\n",
       "        [ 38.,  39.,   0.,   0.],\n",
       "        [ 39.,  40.,   0.,   0.],\n",
       "        [ 40.,  41.,   0.,   0.],\n",
       "        [ 41.,  42.,   0.,   0.],\n",
       "        [ 42.,  43.,   0.,   0.],\n",
       "        [ 43.,  44.,   0.,   0.],\n",
       "        [ 44.,  45.,   0.,   0.],\n",
       "        [ 45.,  46.,   0.,   0.],\n",
       "        [ 46.,  47.,   0.,   0.],\n",
       "        [ 47.,  48.,   0.,   0.],\n",
       "        [ 48.,  49.,   0.,   0.],\n",
       "        [ 49.,  50.,   0.,   0.],\n",
       "        [ 50.,  51.,   0.,   0.],\n",
       "        [ 51.,  52.,   0.,   0.],\n",
       "        [ 52.,  53.,   0.,   0.],\n",
       "        [ 53.,  54.,   0.,   0.],\n",
       "        [ 54.,  55.,   0.,   0.],\n",
       "        [ 55.,  56.,   0.,   0.],\n",
       "        [ 56.,  57.,   0.,   0.],\n",
       "        [ 57.,  58.,   0.,   0.],\n",
       "        [ 58.,  59.,   0.,   0.],\n",
       "        [ 60.,  61.,   0.,   0.],\n",
       "        [ 61.,  62.,   0.,   0.],\n",
       "        [ 62.,  63.,   0.,   0.],\n",
       "        [ 63.,  64.,   0.,   0.],\n",
       "        [ 64.,  65.,   0.,   0.],\n",
       "        [ 65.,  66.,   0.,   0.],\n",
       "        [ 66.,  67.,   0.,   0.],\n",
       "        [ 67.,  68.,   0.,   0.],\n",
       "        [ 68.,  69.,   0.,   0.],\n",
       "        [ 69.,  70.,   0.,   0.],\n",
       "        [ 70.,  71.,   0.,   0.],\n",
       "        [ 71.,  72.,   0.,   0.],\n",
       "        [ 72.,  73.,   0.,   0.],\n",
       "        [ 73.,  74.,   0.,   0.],\n",
       "        [ 74.,  75.,   0.,   0.],\n",
       "        [ 75.,  76.,   0.,   0.],\n",
       "        [ 76.,  77.,   0.,   0.],\n",
       "        [ 77.,  78.,   0.,   0.],\n",
       "        [ 78.,  79.,   0.,   0.],\n",
       "        [ 79.,  80.,   0.,   0.],\n",
       "        [ 80.,  81.,   0.,   0.],\n",
       "        [ 81.,  82.,   0.,   0.],\n",
       "        [ 82.,  83.,   0.,   0.],\n",
       "        [ 83.,  84.,   0.,   0.],\n",
       "        [ 84.,  85.,   0.,   0.],\n",
       "        [ 85.,  86.,   0.,   0.],\n",
       "        [ 86.,  87.,   0.,   0.],\n",
       "        [ 87.,  88.,   0.,   0.],\n",
       "        [ 88.,  89.,   0.,   0.],\n",
       "        [ 89.,  90.,   0.,   0.],\n",
       "        [ 91.,  92.,   0.,   0.],\n",
       "        [ 92.,  93.,   0.,   0.],\n",
       "        [ 93.,  94.,   0.,   0.],\n",
       "        [ 94.,  95.,   0.,   0.],\n",
       "        [ 95.,  96.,   0.,   0.],\n",
       "        [ 96.,  97.,   0.,   0.],\n",
       "        [ 97.,  98.,   0.,   0.],\n",
       "        [ 98.,  99.,   0.,   0.],\n",
       "        [ 99., 100.,   0.,   0.],\n",
       "        [100., 101.,   0.,   0.],\n",
       "        [101., 102.,   0.,   0.],\n",
       "        [102., 103.,   0.,   0.],\n",
       "        [103., 104.,   0.,   0.],\n",
       "        [104., 105.,   0.,   0.],\n",
       "        [105., 106.,   0.,   0.],\n",
       "        [106., 107.,   0.,   0.],\n",
       "        [107., 108.,   0.,   0.],\n",
       "        [108., 109.,   0.,   0.],\n",
       "        [109., 110.,   0.,   0.],\n",
       "        [111., 112.,   0.,   0.],\n",
       "        [112., 113.,   0.,   0.],\n",
       "        [113., 114.,   0.,   0.],\n",
       "        [114., 115.,   0.,   0.],\n",
       "        [116., 117.,   0.,   0.],\n",
       "        [117., 118.,   0.,   0.],\n",
       "        [118., 119.,   0.,   0.],\n",
       "        [119., 120.,   0.,   0.],\n",
       "        [120., 121.,   0.,   0.],\n",
       "        [121., 122.,   0.,   0.],\n",
       "        [122., 123.,   0.,   0.],\n",
       "        [123., 124.,   0.,   0.],\n",
       "        [124., 125.,   0.,   0.],\n",
       "        [125., 126.,   0.,   0.],\n",
       "        [126., 127.,   0.,   0.],\n",
       "        [127., 128.,   0.,   0.],\n",
       "        [128., 129.,   0.,   0.],\n",
       "        [129., 130.,   0.,   0.],\n",
       "        [130., 131.,   0.,   0.],\n",
       "        [131., 132.,   0.,   0.],\n",
       "        [132., 133.,   0.,   0.],\n",
       "        [133., 134.,   0.,   0.],\n",
       "        [134., 135.,   0.,   0.],\n",
       "        [135., 136.,   0.,   0.],\n",
       "        [136., 137.,   0.,   0.],\n",
       "        [137., 138.,   0.,   0.],\n",
       "        [138., 139.,   0.,   0.],\n",
       "        [139., 140.,   0.,   0.],\n",
       "        [140., 141.,   0.,   0.],\n",
       "        [141., 142.,   0.,   0.],\n",
       "        [142., 143.,   0.,   0.],\n",
       "        [143., 144.,   0.,   0.],\n",
       "        [144., 145.,   0.,   0.],\n",
       "        [145., 146.,   0.,   0.],\n",
       "        [146., 147.,   0.,   0.],\n",
       "        [147., 148.,   0.,   0.],\n",
       "        [148., 149.,   0.,   0.],\n",
       "        [149., 150.,   0.,   0.],\n",
       "        [150., 151.,   0.,   0.],\n",
       "        [151., 152.,   0.,   0.],\n",
       "        [152., 153.,   0.,   0.],\n",
       "        [153., 154.,   0.,   0.],\n",
       "        [154., 155.,   0.,   0.],\n",
       "        [155., 156.,   0.,   0.],\n",
       "        [157., 158.,   0.,   0.],\n",
       "        [158., 159.,   0.,   0.],\n",
       "        [159., 160.,   0.,   0.],\n",
       "        [160., 161.,   0.,   0.],\n",
       "        [161., 162.,   0.,   0.],\n",
       "        [162., 163.,   0.,   0.],\n",
       "        [163., 164.,   0.,   0.],\n",
       "        [164., 165.,   0.,   0.],\n",
       "        [165., 166.,   0.,   0.],\n",
       "        [166., 167.,   0.,   0.],\n",
       "        [167., 168.,   0.,   0.],\n",
       "        [168., 169.,   0.,   0.],\n",
       "        [169., 170.,   0.,   0.],\n",
       "        [170., 171.,   0.,   0.],\n",
       "        [171., 172.,   0.,   0.],\n",
       "        [172., 173.,   0.,   0.],\n",
       "        [173., 174.,   0.,   0.],\n",
       "        [174., 175.,   0.,   0.],\n",
       "        [175., 176.,   0.,   0.],\n",
       "        [176., 177.,   0.,   0.],\n",
       "        [177., 178.,   0.,   0.],\n",
       "        [179., 180.,   0.,   0.],\n",
       "        [180., 181.,   0.,   0.],\n",
       "        [181., 182.,   0.,   0.],\n",
       "        [182., 183.,   0.,   0.],\n",
       "        [183., 184.,   0.,   0.],\n",
       "        [184., 185.,   0.,   0.],\n",
       "        [185., 186.,   0.,   0.],\n",
       "        [186., 187.,   0.,   0.],\n",
       "        [187., 188.,   0.,   0.],\n",
       "        [188., 189.,   0.,   0.],\n",
       "        [189., 190.,   0.,   0.],\n",
       "        [190., 191.,   0.,   0.],\n",
       "        [191., 192.,   0.,   0.],\n",
       "        [192., 193.,   0.,   0.],\n",
       "        [193., 194.,   0.,   0.],\n",
       "        [194., 195.,   0.,   0.],\n",
       "        [195., 196.,   0.,   0.],\n",
       "        [196., 197.,   0.,   0.],\n",
       "        [197., 198.,   0.,   0.],\n",
       "        [198., 199.,   0.,   0.],\n",
       "        [199., 200.,   0.,   0.],\n",
       "        [200., 201.,   0.,   0.],\n",
       "        [201., 202.,   0.,   0.],\n",
       "        [202., 203.,   0.,   0.],\n",
       "        [203., 204.,   0.,   0.],\n",
       "        [204., 205.,   0.,   0.],\n",
       "        [205., 206.,   0.,   0.],\n",
       "        [206., 207.,   0.,   0.],\n",
       "        [207., 208.,   0.,   0.],\n",
       "        [208., 209.,   0.,   0.],\n",
       "        [209., 210.,   0.,   0.],\n",
       "        [210., 211.,   0.,   0.],\n",
       "        [211., 212.,   0.,   0.],\n",
       "        [212., 213.,   0.,   0.],\n",
       "        [213., 214.,   0.,   0.],\n",
       "        [214., 215.,   0.,   0.],\n",
       "        [215., 216.,   0.,   0.],\n",
       "        [216., 217.,   0.,   0.],\n",
       "        [218., 219.,   0.,   0.],\n",
       "        [219., 220.,   0.,   0.],\n",
       "        [220., 221.,   0.,   0.]]))"
      ]
     },
     "execution_count": 5,
     "metadata": {},
     "output_type": "execute_result"
    }
   ],
   "source": [
    "merged_traj.topology.to_dataframe()"
   ]
  },
  {
   "cell_type": "code",
   "execution_count": 20,
   "metadata": {},
   "outputs": [
    {
     "data": {
      "text/html": [
       "<div>\n",
       "<style scoped>\n",
       "    .dataframe tbody tr th:only-of-type {\n",
       "        vertical-align: middle;\n",
       "    }\n",
       "\n",
       "    .dataframe tbody tr th {\n",
       "        vertical-align: top;\n",
       "    }\n",
       "\n",
       "    .dataframe thead th {\n",
       "        text-align: right;\n",
       "    }\n",
       "</style>\n",
       "<table border=\"1\" class=\"dataframe\">\n",
       "  <thead>\n",
       "    <tr style=\"text-align: right;\">\n",
       "      <th></th>\n",
       "      <th>res</th>\n",
       "      <th>MW</th>\n",
       "      <th>AH_lambda</th>\n",
       "      <th>AH_sigma</th>\n",
       "      <th>q</th>\n",
       "    </tr>\n",
       "    <tr>\n",
       "      <th>chain</th>\n",
       "      <th></th>\n",
       "      <th></th>\n",
       "      <th></th>\n",
       "      <th></th>\n",
       "      <th></th>\n",
       "    </tr>\n",
       "  </thead>\n",
       "  <tbody>\n",
       "    <tr>\n",
       "      <th>0</th>\n",
       "      <td>6105</td>\n",
       "      <td>12202.65</td>\n",
       "      <td>23.615885</td>\n",
       "      <td>62.712</td>\n",
       "      <td>-44</td>\n",
       "    </tr>\n",
       "    <tr>\n",
       "      <th>1</th>\n",
       "      <td>18426</td>\n",
       "      <td>11778.21</td>\n",
       "      <td>33.335545</td>\n",
       "      <td>64.274</td>\n",
       "      <td>42</td>\n",
       "    </tr>\n",
       "  </tbody>\n",
       "</table>\n",
       "</div>"
      ],
      "text/plain": [
       "         res        MW  AH_lambda  AH_sigma   q\n",
       "chain                                          \n",
       "0       6105  12202.65  23.615885    62.712 -44\n",
       "1      18426  11778.21  33.335545    64.274  42"
      ]
     },
     "execution_count": 20,
     "metadata": {},
     "output_type": "execute_result"
    }
   ],
   "source": [
    "# Identifying chains\n",
    "simulate_utils.extract_sequences('data/H1-0_PROTA_WT.pdb').groupby('chain').sum(numeric_only=True)"
   ]
  },
  {
   "cell_type": "code",
   "execution_count": 25,
   "metadata": {},
   "outputs": [
    {
     "name": "stdout",
     "output_type": "stream",
     "text": [
      "PROTA_WT\n",
      "H1-0_WT\n"
     ]
    }
   ],
   "source": []
  },
  {
   "cell_type": "code",
   "execution_count": null,
   "metadata": {},
   "outputs": [],
   "source": []
  },
  {
   "attachments": {},
   "cell_type": "markdown",
   "metadata": {},
   "source": [
    "## Analysis"
   ]
  },
  {
   "attachments": {},
   "cell_type": "markdown",
   "metadata": {},
   "source": [
    "### Wild type ProTa - H1.0[CTD]"
   ]
  },
  {
   "cell_type": "code",
   "execution_count": 62,
   "metadata": {},
   "outputs": [],
   "source": [
    "# Loading trajectory\n",
    "traj = md.load_dcd(\"results/two_chain/traj.dcd\", \"results/two_chain/top.pdb\")\n",
    "residues = simulate_utils.extract_sequences(\"results/two_chain/top.pdb\")"
   ]
  },
  {
   "cell_type": "code",
   "execution_count": 69,
   "metadata": {},
   "outputs": [
    {
     "data": {
      "text/plain": [
       "chain_id\n",
       "H1-0 CTD    42\n",
       "ProTa      -44\n",
       "Name: q, dtype: int64"
      ]
     },
     "execution_count": 69,
     "metadata": {},
     "output_type": "execute_result"
    }
   ],
   "source": [
    "# Mapping chains to proteins\n",
    "chain_map = {\n",
    "    0: 'ProTa',\n",
    "    1: 'H1-0 CTD'\n",
    "}\n",
    "residues['chain_id'] = residues['chain'].map(chain_map)\n",
    "residues.groupby('chain_id').q.sum()"
   ]
  },
  {
   "attachments": {},
   "cell_type": "markdown",
   "metadata": {},
   "source": [
    "#### Contact maps"
   ]
  },
  {
   "cell_type": "code",
   "execution_count": 47,
   "metadata": {},
   "outputs": [],
   "source": [
    "# Calculating distances\n",
    "distances = analyse_utils.compute_distance_contact(traj)"
   ]
  },
  {
   "cell_type": "code",
   "execution_count": 87,
   "metadata": {},
   "outputs": [],
   "source": [
    "# Defining distance masks\n",
    "intra_mask = []\n",
    "for i in residues.res:\n",
    "    for j in residues.res:\n",
    "        intra_mask.append(residues.chain[i] == residues.chain[j])\n",
    "intra_mask = np.reshape(intra_mask, [len(residues)]*2)\n",
    "inter_mask = ~intra_mask"
   ]
  },
  {
   "cell_type": "code",
   "execution_count": 111,
   "metadata": {},
   "outputs": [
    {
     "name": "stderr",
     "output_type": "stream",
     "text": [
      "/tmp/ipykernel_9650/4204315499.py:2: MatplotlibDeprecationWarning: The get_cmap function was deprecated in Matplotlib 3.7 and will be removed two minor releases later. Use ``matplotlib.colormaps[name]`` or ``matplotlib.colormaps.get_cmap(obj)`` instead.\n",
      "  plt.imshow(distances.mean(axis=0), cmap=plt.cm.get_cmap('Blues_r'))\n"
     ]
    },
    {
     "data": {
      "text/plain": [
       "<matplotlib.colorbar.Colorbar at 0x7efe92559420>"
      ]
     },
     "execution_count": 111,
     "metadata": {},
     "output_type": "execute_result"
    },
    {
     "data": {
      "image/png": "[encoded data removed]",
      "text/plain": [
       "<Figure size 640x480 with 2 Axes>"
      ]
     },
     "metadata": {},
     "output_type": "display_data"
    }
   ],
   "source": [
    "# Plotting distance contact map\n",
    "plt.imshow(distances.mean(axis=0), cmap=plt.cm.get_cmap('Blues_r'))\n",
    "plt.title(\"Distance\")\n",
    "plt.colorbar(label=\"Distance [nm]\")"
   ]
  }
 ],
 "metadata": {
  "kernelspec": {
   "display_name": "orthoidp",
   "language": "python",
   "name": "python3"
  },
  "language_info": {
   "codemirror_mode": {
    "name": "ipython",
    "version": 3
   },
   "file_extension": ".py",
   "mimetype": "text/x-python",
   "name": "python",
   "nbconvert_exporter": "python",
   "pygments_lexer": "ipython3",
   "version": "3.10.9"
  },
  "orig_nbformat": 4
 },
 "nbformat": 4,
 "nbformat_minor": 2
}
