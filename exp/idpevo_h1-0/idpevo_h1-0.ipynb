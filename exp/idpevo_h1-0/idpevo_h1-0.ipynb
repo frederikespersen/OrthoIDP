{
 "cells": [
  {
   "cell_type": "markdown",
   "metadata": {},
   "source": [
    "# Structural evolution of H1.0"
   ]
  },
  {
   "cell_type": "code",
   "execution_count": 2,
   "metadata": {},
   "outputs": [
    {
     "name": "stderr",
     "output_type": "stream",
     "text": [
      "Warning: importing 'simtk.openmm' is deprecated.  Import 'openmm' instead.\n"
     ]
    }
   ],
   "source": [
    "# Imports\n",
    "import sys\n",
    "import json\n",
    "import pandas as pd\n",
    "import os\n",
    "import mdtraj as md\n",
    "from matplotlib import pyplot as plt\n",
    "import numpy as np\n",
    "\n",
    "sys.path.append('../../src')\n",
    "import data_utils\n",
    "import analyse_utils"
   ]
  },
  {
   "attachments": {},
   "cell_type": "markdown",
   "metadata": {},
   "source": [
    "## Data preparation"
   ]
  },
  {
   "cell_type": "code",
   "execution_count": null,
   "metadata": {},
   "outputs": [],
   "source": [
    "# Getting previous experiment json\n",
    "metadata_path = f'../ortho_h1-0/ortho_h1-0.json'\n",
    "with open(metadata_path, 'r') as file:\n",
    "    metadata = json.load(file)\n",
    "templates = pd.DataFrame(metadata['templates']).transpose()\n",
    "data = pd.DataFrame(metadata['data']).transpose()"
   ]
  },
  {
   "cell_type": "code",
   "execution_count": null,
   "metadata": {},
   "outputs": [],
   "source": [
    "# Getting previous analysis results containing outlier definitions\n",
    "ortho = pd.read_pickle('../ortho_h1-0/results/analysis.pkl')"
   ]
  },
  {
   "cell_type": "code",
   "execution_count": null,
   "metadata": {},
   "outputs": [],
   "source": [
    "# Filtering sequences by previous outlier definition\n",
    "data = data[~ortho.outlier]\n",
    "templates = templates.loc[data.index]"
   ]
  },
  {
   "cell_type": "code",
   "execution_count": null,
   "metadata": {},
   "outputs": [
    {
     "data": {
      "text/plain": [
       "'KEAVAKASAKKSKKTKSKPAARVKEDVPAPTRVKPFKKPKASKSPVKKAKAAKPAAKKKKSSKKKLKKRTKGKPKGTAKPASKAPKKTAPKKAKAGKPKKVKAKATVPA'"
      ]
     },
     "metadata": {},
     "output_type": "display_data"
    }
   ],
   "source": [
    "# Generating average sequence\n",
    "avg = data_utils.average_sequence(data['sequence'])\n",
    "avg"
   ]
  },
  {
   "cell_type": "code",
   "execution_count": null,
   "metadata": {},
   "outputs": [],
   "source": [
    "# Saving sequence\n",
    "avg_name = 'H1-0_AVG'\n",
    "file_path = f'data/{avg_name}.fasta'\n",
    "with open(file_path, 'w') as file:\n",
    "    file.write(\">\" + avg_name + \"\\n\")\n",
    "    file.write(avg + \"\\n\")"
   ]
  },
  {
   "cell_type": "code",
   "execution_count": null,
   "metadata": {},
   "outputs": [],
   "source": [
    "# Saving new experiment json\n",
    "metadata['data'] = {avg_name: {'template': list(templates.index), 'sequence': avg, 'location': None, 'region': 'CTD', 'variant': 'Averaged'}}\n",
    "metadata_path = f'idpevo_h1-0.json'\n",
    "with open(metadata_path, 'w') as file:\n",
    "    json.dump(metadata, file, indent=4)"
   ]
  },
  {
   "attachments": {},
   "cell_type": "markdown",
   "metadata": {},
   "source": [
    "## Analysis"
   ]
  },
  {
   "cell_type": "code",
   "execution_count": 12,
   "metadata": {},
   "outputs": [
    {
     "data": {
      "text/html": [
       "<div>\n",
       "<style scoped>\n",
       "    .dataframe tbody tr th:only-of-type {\n",
       "        vertical-align: middle;\n",
       "    }\n",
       "\n",
       "    .dataframe tbody tr th {\n",
       "        vertical-align: top;\n",
       "    }\n",
       "\n",
       "    .dataframe thead th {\n",
       "        text-align: right;\n",
       "    }\n",
       "</style>\n",
       "<table border=\"1\" class=\"dataframe\">\n",
       "  <thead>\n",
       "    <tr style=\"text-align: right;\">\n",
       "      <th></th>\n",
       "      <th>location</th>\n",
       "      <th>region</th>\n",
       "      <th>sequence</th>\n",
       "      <th>template</th>\n",
       "      <th>variant</th>\n",
       "    </tr>\n",
       "  </thead>\n",
       "  <tbody>\n",
       "    <tr>\n",
       "      <th>H1-0_AVG</th>\n",
       "      <td>None</td>\n",
       "      <td>CTD</td>\n",
       "      <td>KEAVAKASAKKSKKTKSKPAARVKEDVPAPTRVKPFKKPKASKSPV...</td>\n",
       "      <td>[0_AUSLI, 1_CYPVA, 2_FUNHE, 3_KRYMA, 4_NOTFU, ...</td>\n",
       "      <td>Averaged</td>\n",
       "    </tr>\n",
       "  </tbody>\n",
       "</table>\n",
       "</div>"
      ],
      "text/plain": [
       "         location region                                           sequence  \\\n",
       "H1-0_AVG     None    CTD  KEAVAKASAKKSKKTKSKPAARVKEDVPAPTRVKPFKKPKASKSPV...   \n",
       "\n",
       "                                                   template   variant  \n",
       "H1-0_AVG  [0_AUSLI, 1_CYPVA, 2_FUNHE, 3_KRYMA, 4_NOTFU, ...  Averaged  "
      ]
     },
     "execution_count": 12,
     "metadata": {},
     "output_type": "execute_result"
    }
   ],
   "source": [
    "# Loading metadata\n",
    "metadata = analyse_utils.load_metadata('idpevo_h1-0.json', join=False)[0]\n",
    "seq = metadata.iloc[0].sequence\n",
    "metadata"
   ]
  },
  {
   "cell_type": "markdown",
   "metadata": {},
   "source": [
    "### CIDER parameters"
   ]
  },
  {
   "cell_type": "code",
   "execution_count": 7,
   "metadata": {},
   "outputs": [
    {
     "data": {
      "text/html": [
       "<div>\n",
       "<style scoped>\n",
       "    .dataframe tbody tr th:only-of-type {\n",
       "        vertical-align: middle;\n",
       "    }\n",
       "\n",
       "    .dataframe tbody tr th {\n",
       "        vertical-align: top;\n",
       "    }\n",
       "\n",
       "    .dataframe thead th {\n",
       "        text-align: right;\n",
       "    }\n",
       "</style>\n",
       "<table border=\"1\" class=\"dataframe\">\n",
       "  <thead>\n",
       "    <tr style=\"text-align: right;\">\n",
       "      <th></th>\n",
       "      <th>kappa</th>\n",
       "      <th>FCR</th>\n",
       "      <th>NCPR</th>\n",
       "      <th>Hydrophobicity</th>\n",
       "      <th>Frac. dis. prom.</th>\n",
       "      <th>Length</th>\n",
       "      <th>Charge</th>\n",
       "    </tr>\n",
       "  </thead>\n",
       "  <tbody>\n",
       "    <tr>\n",
       "      <th>H1-0_AVG</th>\n",
       "      <td>0.18243</td>\n",
       "      <td>0.440367</td>\n",
       "      <td>0.385321</td>\n",
       "      <td>3.17156</td>\n",
       "      <td>0.917431</td>\n",
       "      <td>109</td>\n",
       "      <td>42</td>\n",
       "    </tr>\n",
       "  </tbody>\n",
       "</table>\n",
       "</div>"
      ],
      "text/plain": [
       "            kappa       FCR      NCPR  Hydrophobicity  Frac. dis. prom.  \\\n",
       "H1-0_AVG  0.18243  0.440367  0.385321         3.17156          0.917431   \n",
       "\n",
       "          Length  Charge  \n",
       "H1-0_AVG     109      42  "
      ]
     },
     "execution_count": 7,
     "metadata": {},
     "output_type": "execute_result"
    }
   ],
   "source": [
    "# Calculating parameters\n",
    "cider = analyse_utils.cider_parameters(metadata['sequence'])\n",
    "cider['Length'] = metadata.sequence.str.len()\n",
    "cider['Charge'] = (cider.Length * cider.NCPR).astype(int)\n",
    "\n",
    "cider"
   ]
  },
  {
   "cell_type": "markdown",
   "metadata": {},
   "source": [
    "#### Amino acid content"
   ]
  },
  {
   "cell_type": "code",
   "execution_count": 17,
   "metadata": {},
   "outputs": [
    {
     "data": {
      "text/html": [
       "<div>\n",
       "<style scoped>\n",
       "    .dataframe tbody tr th:only-of-type {\n",
       "        vertical-align: middle;\n",
       "    }\n",
       "\n",
       "    .dataframe tbody tr th {\n",
       "        vertical-align: top;\n",
       "    }\n",
       "\n",
       "    .dataframe thead th {\n",
       "        text-align: right;\n",
       "    }\n",
       "</style>\n",
       "<table border=\"1\" class=\"dataframe\">\n",
       "  <thead>\n",
       "    <tr style=\"text-align: right;\">\n",
       "      <th></th>\n",
       "      <th>A</th>\n",
       "      <th>C</th>\n",
       "      <th>D</th>\n",
       "      <th>E</th>\n",
       "      <th>F</th>\n",
       "      <th>G</th>\n",
       "      <th>H</th>\n",
       "      <th>I</th>\n",
       "      <th>K</th>\n",
       "      <th>L</th>\n",
       "      <th>M</th>\n",
       "      <th>N</th>\n",
       "      <th>P</th>\n",
       "      <th>Q</th>\n",
       "      <th>R</th>\n",
       "      <th>S</th>\n",
       "      <th>T</th>\n",
       "      <th>V</th>\n",
       "      <th>W</th>\n",
       "      <th>Y</th>\n",
       "    </tr>\n",
       "  </thead>\n",
       "  <tbody>\n",
       "    <tr>\n",
       "      <th>H1-0_AVG</th>\n",
       "      <td>0.201835</td>\n",
       "      <td>0.0</td>\n",
       "      <td>0.009174</td>\n",
       "      <td>0.018349</td>\n",
       "      <td>0.009174</td>\n",
       "      <td>0.027523</td>\n",
       "      <td>0.0</td>\n",
       "      <td>0.0</td>\n",
       "      <td>0.385321</td>\n",
       "      <td>0.009174</td>\n",
       "      <td>0.0</td>\n",
       "      <td>0.0</td>\n",
       "      <td>0.119266</td>\n",
       "      <td>0.0</td>\n",
       "      <td>0.027523</td>\n",
       "      <td>0.073394</td>\n",
       "      <td>0.055046</td>\n",
       "      <td>0.06422</td>\n",
       "      <td>0.0</td>\n",
       "      <td>0.0</td>\n",
       "    </tr>\n",
       "  </tbody>\n",
       "</table>\n",
       "</div>"
      ],
      "text/plain": [
       "                 A    C         D         E         F         G    H    I  \\\n",
       "H1-0_AVG  0.201835  0.0  0.009174  0.018349  0.009174  0.027523  0.0  0.0   \n",
       "\n",
       "                 K         L    M    N         P    Q         R         S  \\\n",
       "H1-0_AVG  0.385321  0.009174  0.0  0.0  0.119266  0.0  0.027523  0.073394   \n",
       "\n",
       "                 T        V    W    Y  \n",
       "H1-0_AVG  0.055046  0.06422  0.0  0.0  "
      ]
     },
     "execution_count": 17,
     "metadata": {},
     "output_type": "execute_result"
    }
   ],
   "source": [
    "# Calculating frequencies\n",
    "freqs = analyse_utils.amino_acid_content(metadata.sequence)\n",
    "\n",
    "freqs"
   ]
  },
  {
   "cell_type": "code",
   "execution_count": 20,
   "metadata": {},
   "outputs": [
    {
     "data": {
      "text/html": [
       "<div>\n",
       "<style scoped>\n",
       "    .dataframe tbody tr th:only-of-type {\n",
       "        vertical-align: middle;\n",
       "    }\n",
       "\n",
       "    .dataframe tbody tr th {\n",
       "        vertical-align: top;\n",
       "    }\n",
       "\n",
       "    .dataframe thead th {\n",
       "        text-align: right;\n",
       "    }\n",
       "</style>\n",
       "<table border=\"1\" class=\"dataframe\">\n",
       "  <thead>\n",
       "    <tr style=\"text-align: right;\">\n",
       "      <th></th>\n",
       "      <th>A</th>\n",
       "      <th>C</th>\n",
       "      <th>D</th>\n",
       "      <th>E</th>\n",
       "      <th>F</th>\n",
       "      <th>G</th>\n",
       "      <th>H</th>\n",
       "      <th>I</th>\n",
       "      <th>K</th>\n",
       "      <th>L</th>\n",
       "      <th>M</th>\n",
       "      <th>N</th>\n",
       "      <th>P</th>\n",
       "      <th>Q</th>\n",
       "      <th>R</th>\n",
       "      <th>S</th>\n",
       "      <th>T</th>\n",
       "      <th>V</th>\n",
       "      <th>W</th>\n",
       "      <th>Y</th>\n",
       "    </tr>\n",
       "  </thead>\n",
       "  <tbody>\n",
       "    <tr>\n",
       "      <th>H1-0_AVG</th>\n",
       "      <td>22</td>\n",
       "      <td>0</td>\n",
       "      <td>1</td>\n",
       "      <td>2</td>\n",
       "      <td>1</td>\n",
       "      <td>3</td>\n",
       "      <td>0</td>\n",
       "      <td>0</td>\n",
       "      <td>42</td>\n",
       "      <td>1</td>\n",
       "      <td>0</td>\n",
       "      <td>0</td>\n",
       "      <td>13</td>\n",
       "      <td>0</td>\n",
       "      <td>3</td>\n",
       "      <td>8</td>\n",
       "      <td>6</td>\n",
       "      <td>7</td>\n",
       "      <td>0</td>\n",
       "      <td>0</td>\n",
       "    </tr>\n",
       "  </tbody>\n",
       "</table>\n",
       "</div>"
      ],
      "text/plain": [
       "           A  C  D  E  F  G  H  I   K  L  M  N   P  Q  R  S  T  V  W  Y\n",
       "H1-0_AVG  22  0  1  2  1  3  0  0  42  1  0  0  13  0  3  8  6  7  0  0"
      ]
     },
     "execution_count": 20,
     "metadata": {},
     "output_type": "execute_result"
    }
   ],
   "source": [
    "# Calculating counts\n",
    "(freqs * len(seq)).astype(int)"
   ]
  },
  {
   "attachments": {},
   "cell_type": "markdown",
   "metadata": {},
   "source": [
    "### Evolution"
   ]
  },
  {
   "cell_type": "code",
   "execution_count": null,
   "metadata": {},
   "outputs": [
    {
     "data": {
      "text/html": [
       "<div>\n",
       "<style scoped>\n",
       "    .dataframe tbody tr th:only-of-type {\n",
       "        vertical-align: middle;\n",
       "    }\n",
       "\n",
       "    .dataframe tbody tr th {\n",
       "        vertical-align: top;\n",
       "    }\n",
       "\n",
       "    .dataframe thead th {\n",
       "        text-align: right;\n",
       "    }\n",
       "</style>\n",
       "<table border=\"1\" class=\"dataframe\">\n",
       "  <thead>\n",
       "    <tr style=\"text-align: right;\">\n",
       "      <th></th>\n",
       "      <th>fasta</th>\n",
       "      <th>obs</th>\n",
       "      <th>simulate</th>\n",
       "      <th>mc</th>\n",
       "      <th>mc_cp</th>\n",
       "    </tr>\n",
       "  </thead>\n",
       "  <tbody>\n",
       "    <tr>\n",
       "      <th>0</th>\n",
       "      <td>[K, E, A, V, A, K, A, S, A, K, K, S, K, K, T, ...</td>\n",
       "      <td>4.153524</td>\n",
       "      <td>True</td>\n",
       "      <td>True</td>\n",
       "      <td>0.014427</td>\n",
       "    </tr>\n",
       "    <tr>\n",
       "      <th>1</th>\n",
       "      <td>[K, E, A, V, A, K, A, S, A, K, K, S, K, K, T, ...</td>\n",
       "      <td>4.163373</td>\n",
       "      <td>False</td>\n",
       "      <td>False</td>\n",
       "      <td>0.014427</td>\n",
       "    </tr>\n",
       "    <tr>\n",
       "      <th>2</th>\n",
       "      <td>[K, E, A, V, V, K, A, S, A, K, K, S, K, K, T, ...</td>\n",
       "      <td>4.156142</td>\n",
       "      <td>False</td>\n",
       "      <td>True</td>\n",
       "      <td>0.014427</td>\n",
       "    </tr>\n",
       "    <tr>\n",
       "      <th>3</th>\n",
       "      <td>[K, E, A, V, V, K, A, S, A, K, K, S, K, K, T, ...</td>\n",
       "      <td>4.156142</td>\n",
       "      <td>False</td>\n",
       "      <td>True</td>\n",
       "      <td>0.014427</td>\n",
       "    </tr>\n",
       "    <tr>\n",
       "      <th>4</th>\n",
       "      <td>[K, E, A, A, V, K, A, S, A, K, K, S, K, K, T, ...</td>\n",
       "      <td>4.155195</td>\n",
       "      <td>False</td>\n",
       "      <td>True</td>\n",
       "      <td>0.014427</td>\n",
       "    </tr>\n",
       "    <tr>\n",
       "      <th>...</th>\n",
       "      <td>...</td>\n",
       "      <td>...</td>\n",
       "      <td>...</td>\n",
       "      <td>...</td>\n",
       "      <td>...</td>\n",
       "    </tr>\n",
       "    <tr>\n",
       "      <th>924</th>\n",
       "      <td>[K, K, K, K, K, K, K, K, K, K, A, A, K, K, A, ...</td>\n",
       "      <td>3.833113</td>\n",
       "      <td>False</td>\n",
       "      <td>True</td>\n",
       "      <td>0.013858</td>\n",
       "    </tr>\n",
       "    <tr>\n",
       "      <th>925</th>\n",
       "      <td>[K, K, K, K, K, K, K, K, K, K, A, A, K, A, K, ...</td>\n",
       "      <td>3.848388</td>\n",
       "      <td>True</td>\n",
       "      <td>True</td>\n",
       "      <td>0.013858</td>\n",
       "    </tr>\n",
       "    <tr>\n",
       "      <th>926</th>\n",
       "      <td>[K, K, K, K, K, K, K, K, K, K, A, A, K, A, K, ...</td>\n",
       "      <td>3.873797</td>\n",
       "      <td>False</td>\n",
       "      <td>False</td>\n",
       "      <td>0.013858</td>\n",
       "    </tr>\n",
       "    <tr>\n",
       "      <th>927</th>\n",
       "      <td>[K, K, K, K, K, K, K, K, K, K, A, A, K, A, K, ...</td>\n",
       "      <td>3.861893</td>\n",
       "      <td>False</td>\n",
       "      <td>True</td>\n",
       "      <td>0.013858</td>\n",
       "    </tr>\n",
       "    <tr>\n",
       "      <th>928</th>\n",
       "      <td>[K, K, K, K, K, K, K, K, K, K, A, A, K, A, K, ...</td>\n",
       "      <td>3.861893</td>\n",
       "      <td>False</td>\n",
       "      <td>True</td>\n",
       "      <td>0.013858</td>\n",
       "    </tr>\n",
       "  </tbody>\n",
       "</table>\n",
       "<p>929 rows × 5 columns</p>\n",
       "</div>"
      ],
      "text/plain": [
       "                                                 fasta       obs simulate  \\\n",
       "0    [K, E, A, V, A, K, A, S, A, K, K, S, K, K, T, ...  4.153524     True   \n",
       "1    [K, E, A, V, A, K, A, S, A, K, K, S, K, K, T, ...  4.163373    False   \n",
       "2    [K, E, A, V, V, K, A, S, A, K, K, S, K, K, T, ...  4.156142    False   \n",
       "3    [K, E, A, V, V, K, A, S, A, K, K, S, K, K, T, ...  4.156142    False   \n",
       "4    [K, E, A, A, V, K, A, S, A, K, K, S, K, K, T, ...  4.155195    False   \n",
       "..                                                 ...       ...      ...   \n",
       "924  [K, K, K, K, K, K, K, K, K, K, A, A, K, K, A, ...  3.833113    False   \n",
       "925  [K, K, K, K, K, K, K, K, K, K, A, A, K, A, K, ...  3.848388     True   \n",
       "926  [K, K, K, K, K, K, K, K, K, K, A, A, K, A, K, ...  3.873797    False   \n",
       "927  [K, K, K, K, K, K, K, K, K, K, A, A, K, A, K, ...  3.861893    False   \n",
       "928  [K, K, K, K, K, K, K, K, K, K, A, A, K, A, K, ...  3.861893    False   \n",
       "\n",
       "        mc     mc_cp  \n",
       "0     True  0.014427  \n",
       "1    False  0.014427  \n",
       "2     True  0.014427  \n",
       "3     True  0.014427  \n",
       "4     True  0.014427  \n",
       "..     ...       ...  \n",
       "924   True  0.013858  \n",
       "925   True  0.013858  \n",
       "926  False  0.013858  \n",
       "927   True  0.013858  \n",
       "928   True  0.013858  \n",
       "\n",
       "[929 rows x 5 columns]"
      ]
     },
     "metadata": {},
     "output_type": "display_data"
    }
   ],
   "source": [
    "# Loading minimisation evolution\n",
    "minevo = pd.read_pickle('results/0/evolution.pkl')\n",
    "\n",
    "minevo"
   ]
  },
  {
   "cell_type": "code",
   "execution_count": null,
   "metadata": {},
   "outputs": [
    {
     "data": {
      "text/plain": [
       "(3.8, 4.4)"
      ]
     },
     "metadata": {},
     "output_type": "display_data"
    },
    {
     "data": {
      "image/png": "[encoded data removed]",
      "text/plain": [
       "<Figure size 640x480 with 1 Axes>"
      ]
     },
     "metadata": {},
     "output_type": "display_data"
    }
   ],
   "source": [
    "plt.plot(minevo.obs)\n",
    "plt.xlabel(\"Generation\")\n",
    "plt.ylabel(\"<Rg>\")\n",
    "plt.ylim(3.8,4.4)"
   ]
  },
  {
   "cell_type": "markdown",
   "metadata": {},
   "source": [
    "### Maximisation"
   ]
  },
  {
   "cell_type": "code",
   "execution_count": null,
   "metadata": {},
   "outputs": [
    {
     "data": {
      "text/html": [
       "<div>\n",
       "<style scoped>\n",
       "    .dataframe tbody tr th:only-of-type {\n",
       "        vertical-align: middle;\n",
       "    }\n",
       "\n",
       "    .dataframe tbody tr th {\n",
       "        vertical-align: top;\n",
       "    }\n",
       "\n",
       "    .dataframe thead th {\n",
       "        text-align: right;\n",
       "    }\n",
       "</style>\n",
       "<table border=\"1\" class=\"dataframe\">\n",
       "  <thead>\n",
       "    <tr style=\"text-align: right;\">\n",
       "      <th></th>\n",
       "      <th>fasta</th>\n",
       "      <th>obs</th>\n",
       "      <th>simulate</th>\n",
       "      <th>mc</th>\n",
       "      <th>mc_cp</th>\n",
       "    </tr>\n",
       "  </thead>\n",
       "  <tbody>\n",
       "    <tr>\n",
       "      <th>0</th>\n",
       "      <td>[K, E, A, V, A, K, A, S, A, K, K, S, K, K, T, ...</td>\n",
       "      <td>4.156742</td>\n",
       "      <td>True</td>\n",
       "      <td>True</td>\n",
       "      <td>0.014427</td>\n",
       "    </tr>\n",
       "    <tr>\n",
       "      <th>1</th>\n",
       "      <td>[K, E, A, V, A, K, A, S, A, K, K, S, K, K, T, ...</td>\n",
       "      <td>4.158379</td>\n",
       "      <td>False</td>\n",
       "      <td>True</td>\n",
       "      <td>0.014427</td>\n",
       "    </tr>\n",
       "    <tr>\n",
       "      <th>2</th>\n",
       "      <td>[A, E, A, V, A, K, A, S, A, K, K, S, K, K, T, ...</td>\n",
       "      <td>4.140245</td>\n",
       "      <td>False</td>\n",
       "      <td>False</td>\n",
       "      <td>0.014427</td>\n",
       "    </tr>\n",
       "    <tr>\n",
       "      <th>3</th>\n",
       "      <td>[K, E, A, V, A, K, A, S, A, K, K, S, K, K, T, ...</td>\n",
       "      <td>4.158813</td>\n",
       "      <td>False</td>\n",
       "      <td>True</td>\n",
       "      <td>0.014427</td>\n",
       "    </tr>\n",
       "    <tr>\n",
       "      <th>4</th>\n",
       "      <td>[K, E, A, V, A, K, A, S, A, K, K, S, K, K, T, ...</td>\n",
       "      <td>4.149862</td>\n",
       "      <td>True</td>\n",
       "      <td>False</td>\n",
       "      <td>0.014427</td>\n",
       "    </tr>\n",
       "    <tr>\n",
       "      <th>...</th>\n",
       "      <td>...</td>\n",
       "      <td>...</td>\n",
       "      <td>...</td>\n",
       "      <td>...</td>\n",
       "      <td>...</td>\n",
       "    </tr>\n",
       "    <tr>\n",
       "      <th>827</th>\n",
       "      <td>[A, E, G, E, K, A, A, P, T, K, A, A, A, K, V, ...</td>\n",
       "      <td>4.229486</td>\n",
       "      <td>False</td>\n",
       "      <td>True</td>\n",
       "      <td>0.013998</td>\n",
       "    </tr>\n",
       "    <tr>\n",
       "      <th>828</th>\n",
       "      <td>[A, E, G, E, K, A, A, P, T, K, A, A, A, K, V, ...</td>\n",
       "      <td>4.229486</td>\n",
       "      <td>False</td>\n",
       "      <td>True</td>\n",
       "      <td>0.013998</td>\n",
       "    </tr>\n",
       "    <tr>\n",
       "      <th>829</th>\n",
       "      <td>[A, E, G, E, K, A, A, P, T, K, A, A, A, K, V, ...</td>\n",
       "      <td>4.243442</td>\n",
       "      <td>False</td>\n",
       "      <td>True</td>\n",
       "      <td>0.013998</td>\n",
       "    </tr>\n",
       "    <tr>\n",
       "      <th>830</th>\n",
       "      <td>[A, E, G, E, K, A, A, P, T, K, A, A, A, K, V, ...</td>\n",
       "      <td>4.216335</td>\n",
       "      <td>False</td>\n",
       "      <td>True</td>\n",
       "      <td>0.013998</td>\n",
       "    </tr>\n",
       "    <tr>\n",
       "      <th>831</th>\n",
       "      <td>[A, E, G, E, K, A, A, P, T, K, K, A, A, K, V, ...</td>\n",
       "      <td>4.197713</td>\n",
       "      <td>True</td>\n",
       "      <td>False</td>\n",
       "      <td>0.013998</td>\n",
       "    </tr>\n",
       "  </tbody>\n",
       "</table>\n",
       "<p>832 rows × 5 columns</p>\n",
       "</div>"
      ],
      "text/plain": [
       "                                                 fasta       obs simulate  \\\n",
       "0    [K, E, A, V, A, K, A, S, A, K, K, S, K, K, T, ...  4.156742     True   \n",
       "1    [K, E, A, V, A, K, A, S, A, K, K, S, K, K, T, ...  4.158379    False   \n",
       "2    [A, E, A, V, A, K, A, S, A, K, K, S, K, K, T, ...  4.140245    False   \n",
       "3    [K, E, A, V, A, K, A, S, A, K, K, S, K, K, T, ...  4.158813    False   \n",
       "4    [K, E, A, V, A, K, A, S, A, K, K, S, K, K, T, ...  4.149862     True   \n",
       "..                                                 ...       ...      ...   \n",
       "827  [A, E, G, E, K, A, A, P, T, K, A, A, A, K, V, ...  4.229486    False   \n",
       "828  [A, E, G, E, K, A, A, P, T, K, A, A, A, K, V, ...  4.229486    False   \n",
       "829  [A, E, G, E, K, A, A, P, T, K, A, A, A, K, V, ...  4.243442    False   \n",
       "830  [A, E, G, E, K, A, A, P, T, K, A, A, A, K, V, ...  4.216335    False   \n",
       "831  [A, E, G, E, K, A, A, P, T, K, K, A, A, K, V, ...  4.197713     True   \n",
       "\n",
       "        mc     mc_cp  \n",
       "0     True  0.014427  \n",
       "1     True  0.014427  \n",
       "2    False  0.014427  \n",
       "3     True  0.014427  \n",
       "4    False  0.014427  \n",
       "..     ...       ...  \n",
       "827   True  0.013998  \n",
       "828   True  0.013998  \n",
       "829   True  0.013998  \n",
       "830   True  0.013998  \n",
       "831  False  0.013998  \n",
       "\n",
       "[832 rows x 5 columns]"
      ]
     },
     "metadata": {},
     "output_type": "display_data"
    }
   ],
   "source": [
    "# Loading maximisation evolution\n",
    "maxevo = pd.read_pickle('results/10/evolution.pkl')\n",
    "\n",
    "maxevo"
   ]
  },
  {
   "cell_type": "code",
   "execution_count": null,
   "metadata": {},
   "outputs": [
    {
     "data": {
      "text/plain": [
       "(3.8, 4.4)"
      ]
     },
     "metadata": {},
     "output_type": "display_data"
    },
    {
     "data": {
      "image/png": "[encoded data removed]",
      "text/plain": [
       "<Figure size 640x480 with 1 Axes>"
      ]
     },
     "metadata": {},
     "output_type": "display_data"
    }
   ],
   "source": [
    "plt.plot(maxevo.obs)\n",
    "plt.xlabel(\"Generation\")\n",
    "plt.ylabel(\"<Rg>\")\n",
    "plt.ylim(3.8,4.4)"
   ]
  },
  {
   "cell_type": "markdown",
   "metadata": {},
   "source": [
    "### Conservation"
   ]
  },
  {
   "cell_type": "code",
   "execution_count": null,
   "metadata": {},
   "outputs": [
    {
     "data": {
      "text/html": [
       "<div>\n",
       "<style scoped>\n",
       "    .dataframe tbody tr th:only-of-type {\n",
       "        vertical-align: middle;\n",
       "    }\n",
       "\n",
       "    .dataframe tbody tr th {\n",
       "        vertical-align: top;\n",
       "    }\n",
       "\n",
       "    .dataframe thead th {\n",
       "        text-align: right;\n",
       "    }\n",
       "</style>\n",
       "<table border=\"1\" class=\"dataframe\">\n",
       "  <thead>\n",
       "    <tr style=\"text-align: right;\">\n",
       "      <th></th>\n",
       "      <th>fasta</th>\n",
       "      <th>obs</th>\n",
       "      <th>simulate</th>\n",
       "      <th>mc</th>\n",
       "      <th>mc_cp</th>\n",
       "    </tr>\n",
       "  </thead>\n",
       "  <tbody>\n",
       "    <tr>\n",
       "      <th>0</th>\n",
       "      <td>[K, E, A, V, A, K, A, S, A, K, K, S, K, K, T, ...</td>\n",
       "      <td>4.150895</td>\n",
       "      <td>True</td>\n",
       "      <td>True</td>\n",
       "      <td>0.014427</td>\n",
       "    </tr>\n",
       "    <tr>\n",
       "      <th>1</th>\n",
       "      <td>[K, E, A, V, A, K, A, S, A, K, K, S, K, K, T, ...</td>\n",
       "      <td>4.135857</td>\n",
       "      <td>False</td>\n",
       "      <td>True</td>\n",
       "      <td>0.014427</td>\n",
       "    </tr>\n",
       "    <tr>\n",
       "      <th>2</th>\n",
       "      <td>[K, E, A, V, A, K, A, S, A, K, K, S, K, K, T, ...</td>\n",
       "      <td>4.135901</td>\n",
       "      <td>False</td>\n",
       "      <td>True</td>\n",
       "      <td>0.014427</td>\n",
       "    </tr>\n",
       "    <tr>\n",
       "      <th>3</th>\n",
       "      <td>[K, E, A, V, A, K, A, K, A, K, K, S, K, K, T, ...</td>\n",
       "      <td>4.120991</td>\n",
       "      <td>True</td>\n",
       "      <td>False</td>\n",
       "      <td>0.014427</td>\n",
       "    </tr>\n",
       "    <tr>\n",
       "      <th>4</th>\n",
       "      <td>[K, E, A, V, A, K, A, S, A, K, K, S, K, K, T, ...</td>\n",
       "      <td>4.131446</td>\n",
       "      <td>False</td>\n",
       "      <td>True</td>\n",
       "      <td>0.014427</td>\n",
       "    </tr>\n",
       "    <tr>\n",
       "      <th>...</th>\n",
       "      <td>...</td>\n",
       "      <td>...</td>\n",
       "      <td>...</td>\n",
       "      <td>...</td>\n",
       "      <td>...</td>\n",
       "    </tr>\n",
       "    <tr>\n",
       "      <th>884</th>\n",
       "      <td>[A, K, A, F, A, K, P, S, K, K, P, G, E, K, K, ...</td>\n",
       "      <td>4.210572</td>\n",
       "      <td>False</td>\n",
       "      <td>True</td>\n",
       "      <td>0.013858</td>\n",
       "    </tr>\n",
       "    <tr>\n",
       "      <th>885</th>\n",
       "      <td>[A, K, A, F, A, K, P, S, K, K, P, G, E, K, K, ...</td>\n",
       "      <td>4.210238</td>\n",
       "      <td>False</td>\n",
       "      <td>True</td>\n",
       "      <td>0.013858</td>\n",
       "    </tr>\n",
       "    <tr>\n",
       "      <th>886</th>\n",
       "      <td>[A, K, A, F, A, K, P, S, K, K, P, G, E, K, K, ...</td>\n",
       "      <td>4.207652</td>\n",
       "      <td>False</td>\n",
       "      <td>False</td>\n",
       "      <td>0.013858</td>\n",
       "    </tr>\n",
       "    <tr>\n",
       "      <th>887</th>\n",
       "      <td>[A, K, A, F, A, K, P, S, K, K, P, G, E, K, K, ...</td>\n",
       "      <td>4.202682</td>\n",
       "      <td>False</td>\n",
       "      <td>False</td>\n",
       "      <td>0.013858</td>\n",
       "    </tr>\n",
       "    <tr>\n",
       "      <th>888</th>\n",
       "      <td>[A, K, A, F, A, K, P, S, K, K, P, G, E, K, K, ...</td>\n",
       "      <td>4.210238</td>\n",
       "      <td>False</td>\n",
       "      <td>True</td>\n",
       "      <td>0.013858</td>\n",
       "    </tr>\n",
       "  </tbody>\n",
       "</table>\n",
       "<p>889 rows × 5 columns</p>\n",
       "</div>"
      ],
      "text/plain": [
       "                                                 fasta       obs simulate  \\\n",
       "0    [K, E, A, V, A, K, A, S, A, K, K, S, K, K, T, ...  4.150895     True   \n",
       "1    [K, E, A, V, A, K, A, S, A, K, K, S, K, K, T, ...  4.135857    False   \n",
       "2    [K, E, A, V, A, K, A, S, A, K, K, S, K, K, T, ...  4.135901    False   \n",
       "3    [K, E, A, V, A, K, A, K, A, K, K, S, K, K, T, ...  4.120991     True   \n",
       "4    [K, E, A, V, A, K, A, S, A, K, K, S, K, K, T, ...  4.131446    False   \n",
       "..                                                 ...       ...      ...   \n",
       "884  [A, K, A, F, A, K, P, S, K, K, P, G, E, K, K, ...  4.210572    False   \n",
       "885  [A, K, A, F, A, K, P, S, K, K, P, G, E, K, K, ...  4.210238    False   \n",
       "886  [A, K, A, F, A, K, P, S, K, K, P, G, E, K, K, ...  4.207652    False   \n",
       "887  [A, K, A, F, A, K, P, S, K, K, P, G, E, K, K, ...  4.202682    False   \n",
       "888  [A, K, A, F, A, K, P, S, K, K, P, G, E, K, K, ...  4.210238    False   \n",
       "\n",
       "        mc     mc_cp  \n",
       "0     True  0.014427  \n",
       "1     True  0.014427  \n",
       "2     True  0.014427  \n",
       "3    False  0.014427  \n",
       "4     True  0.014427  \n",
       "..     ...       ...  \n",
       "884   True  0.013858  \n",
       "885   True  0.013858  \n",
       "886  False  0.013858  \n",
       "887  False  0.013858  \n",
       "888   True  0.013858  \n",
       "\n",
       "[889 rows x 5 columns]"
      ]
     },
     "metadata": {},
     "output_type": "display_data"
    }
   ],
   "source": [
    "# Loading conservation evolution\n",
    "consevo = pd.read_pickle('results/4.258203/evolution.pkl')\n",
    "\n",
    "consevo"
   ]
  },
  {
   "cell_type": "code",
   "execution_count": null,
   "metadata": {},
   "outputs": [
    {
     "data": {
      "text/plain": [
       "(3.8, 4.4)"
      ]
     },
     "metadata": {},
     "output_type": "display_data"
    },
    {
     "data": {
      "image/png": "[encoded data removed]",
      "text/plain": [
       "<Figure size 640x480 with 1 Axes>"
      ]
     },
     "metadata": {},
     "output_type": "display_data"
    }
   ],
   "source": [
    "plt.plot(consevo.obs)\n",
    "plt.xlabel(\"Generation\")\n",
    "plt.ylabel(\"<Rg>\")\n",
    "plt.ylim(3.8,4.4)"
   ]
  }
 ],
 "metadata": {
  "kernelspec": {
   "display_name": "orthoidp",
   "language": "python",
   "name": "python3"
  },
  "language_info": {
   "codemirror_mode": {
    "name": "ipython",
    "version": 3
   },
   "file_extension": ".py",
   "mimetype": "text/x-python",
   "name": "python",
   "nbconvert_exporter": "python",
   "pygments_lexer": "ipython3",
   "version": "3.10.9"
  },
  "orig_nbformat": 4
 },
 "nbformat": 4,
 "nbformat_minor": 2
}
