{
 "cells": [
  {
   "attachments": {},
   "cell_type": "markdown",
   "metadata": {},
   "source": [
    "# Interactions between ProTα and Histone H1.0 evolution variants"
   ]
  },
  {
   "cell_type": "code",
   "execution_count": 1,
   "metadata": {},
   "outputs": [
    {
     "name": "stderr",
     "output_type": "stream",
     "text": [
      "Warning: importing 'simtk.openmm' is deprecated.  Import 'openmm' instead.\n"
     ]
    }
   ],
   "source": [
    "# Imports\n",
    "import sys\n",
    "import json\n",
    "import pandas as pd\n",
    "import os\n",
    "import mdtraj as md\n",
    "from matplotlib import pyplot as plt\n",
    "import numpy as np\n",
    "\n",
    "sys.path.append('../../src')\n",
    "import data_utils\n",
    "import analyse_utils\n",
    "import simulate_utils"
   ]
  },
  {
   "attachments": {},
   "cell_type": "markdown",
   "metadata": {},
   "source": [
    "## Data preparation"
   ]
  },
  {
   "attachments": {},
   "cell_type": "markdown",
   "metadata": {},
   "source": [
    "### Topologies"
   ]
  },
  {
   "attachments": {},
   "cell_type": "markdown",
   "metadata": {},
   "source": [
    "#### Compact frames"
   ]
  },
  {
   "cell_type": "code",
   "execution_count": 4,
   "metadata": {},
   "outputs": [],
   "source": [
    "# Loading trajectories\n",
    "trajs = {}\n",
    "resultsdir = \"results/single_chain/ionic_240\"\n",
    "for variant in os.listdir(resultsdir):\n",
    "    dir = f\"{resultsdir}/{variant}\"\n",
    "    trajs[variant] = md.load_dcd(f\"{dir}/traj.dcd\", f\"{dir}/top.pdb\")"
   ]
  },
  {
   "cell_type": "code",
   "execution_count": 7,
   "metadata": {},
   "outputs": [],
   "source": [
    "# Saving most compact frame as topology\n",
    "for variant, traj in trajs.items():\n",
    "    compact_frame = analyse_utils.compact_frame(traj)\n",
    "    compact_frame.save_pdb(f'data/{variant}.pdb')"
   ]
  },
  {
   "attachments": {},
   "cell_type": "markdown",
   "metadata": {},
   "source": [
    "#### Merging"
   ]
  },
  {
   "cell_type": "code",
   "execution_count": 2,
   "metadata": {},
   "outputs": [
    {
     "name": "stdout",
     "output_type": "stream",
     "text": [
      "dict_keys(['H1-0_VAR_k0.21', 'H1-0_VAR_k0.80', 'H1-0_VAR_k0.14', 'H1-0_VAR_k0.36', 'H1-0_VAR_k0.46', 'H1-0_VAR_k0.18', 'H1-0_VAR_k0.30', 'H1-0_VAR_k0.89', 'H1-0_VAR_k0.70', 'H1-0_VAR_k0.92', 'H1-0_VAR_k0.85', 'H1-0_VAR_k0.27', 'H1-0_VAR_k0.75', 'H1-0_VAR_k0.60', 'H1-0_VAR_k0.65', 'H1-0_VAR_k0.55', 'H1-0_VAR_k0.50', 'H1-0_VAR_k0.40', 'H1-0_VAR_k0.07', 'H1-0_VAR_k0.11'])\n"
     ]
    }
   ],
   "source": [
    "# Loading topologies\n",
    "H10_vars = {}\n",
    "ProTa = None\n",
    "data_path = 'data'\n",
    "for file in os.listdir(data_path):\n",
    "    if '.pdb' in file:\n",
    "        traj = md.load(f'{data_path}/{file}')\n",
    "\n",
    "        id = file[:-4]\n",
    "        if ('H1-0_VAR' in id) and ('PROTA_WT' not in id):\n",
    "            H10_vars[id] = traj\n",
    "\n",
    "        elif 'PROTA_WT' == id:\n",
    "            ProTa = traj\n",
    "\n",
    "print(H10_vars.keys())"
   ]
  },
  {
   "cell_type": "code",
   "execution_count": 3,
   "metadata": {},
   "outputs": [],
   "source": [
    "# Making sets of topologies\n",
    "twochain_sets = [[H10_var, ProTa] for H10_var in H10_vars.values()]"
   ]
  },
  {
   "cell_type": "code",
   "execution_count": 4,
   "metadata": {},
   "outputs": [],
   "source": [
    "# Translating topologies\n",
    "for tc_set  in twochain_sets:\n",
    "    translate_x = 10 # nm\n",
    "    translate_y = 0 # nm\n",
    "    translate_z = 0 # nm\n",
    "    for i, traj in enumerate(tc_set):\n",
    "        traj.center_coordinates()\n",
    "        traj.xyz += [translate_x*i, translate_y*i, translate_z*i]"
   ]
  },
  {
   "cell_type": "code",
   "execution_count": 5,
   "metadata": {},
   "outputs": [],
   "source": [
    "# Merging topologies\n",
    "boxlength = 25 # nm\n",
    "tc_merges = [simulate_utils.merge_topologies(tc_set, boxlength=boxlength) for tc_set in twochain_sets]\n",
    "for traj in tc_merges:\n",
    "    traj.center_coordinates()\n",
    "    traj.xyz += traj.unitcell_lengths[0,0]/2"
   ]
  },
  {
   "cell_type": "code",
   "execution_count": 6,
   "metadata": {},
   "outputs": [],
   "source": [
    "# Saving merged topologies\n",
    "for traj, H10_var_id in zip(tc_merges, H10_vars.keys()):\n",
    "    filename = f'data/{H10_var_id}_PROTA_WT_{boxlength}nm.pdb'\n",
    "    traj.save(filename)"
   ]
  },
  {
   "attachments": {},
   "cell_type": "markdown",
   "metadata": {},
   "source": [
    "## Analysis"
   ]
  },
  {
   "attachments": {},
   "cell_type": "markdown",
   "metadata": {},
   "source": [
    "### Single chain"
   ]
  },
  {
   "cell_type": "code",
   "execution_count": 2,
   "metadata": {},
   "outputs": [],
   "source": [
    "# Loading trajectories\n",
    "traj = {}\n",
    "resultsdir = \"results/single_chain/ionic_240\"\n",
    "for variant in os.listdir(resultsdir):\n",
    "    dir = f\"{resultsdir}/{variant}\"\n",
    "    traj[variant] = md.load_dcd(f\"{dir}/traj.dcd\", f\"{dir}/top.pdb\")"
   ]
  },
  {
   "cell_type": "code",
   "execution_count": 3,
   "metadata": {},
   "outputs": [
    {
     "data": {
      "text/plain": [
       "<matplotlib.collections.PathCollection at 0x7f0e7c48ded0>"
      ]
     },
     "execution_count": 3,
     "metadata": {},
     "output_type": "execute_result"
    },
    {
     "data": {
      "image/png": "[encoded data removed]",
      "text/plain": [
       "<Figure size 640x480 with 1 Axes>"
      ]
     },
     "metadata": {},
     "output_type": "display_data"
    }
   ],
   "source": [
    "# Checking Rg kappa range\n",
    "kappas = [float(var[-4:]) for var in traj]\n",
    "rgs = [analyse_utils.compute_rg(t) for t in traj.values()]\n",
    "mean_rgs = [rg.mean() for rg in rgs]\n",
    "data = pd.DataFrame({'kappa': kappas, 'Rg': rgs, '<Rg>': mean_rgs}, index=traj.keys())\n",
    "\n",
    "plt.scatter(data['<Rg>'], data['kappa'], color='darkred')"
   ]
  }
 ],
 "metadata": {
  "kernelspec": {
   "display_name": "orthoidp",
   "language": "python",
   "name": "python3"
  },
  "language_info": {
   "codemirror_mode": {
    "name": "ipython",
    "version": 3
   },
   "file_extension": ".py",
   "mimetype": "text/x-python",
   "name": "python",
   "nbconvert_exporter": "python",
   "pygments_lexer": "ipython3",
   "version": "3.10.9"
  },
  "orig_nbformat": 4
 },
 "nbformat": 4,
 "nbformat_minor": 2
}
