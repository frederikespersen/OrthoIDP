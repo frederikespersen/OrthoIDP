{
 "cells": [
  {
   "cell_type": "markdown",
   "metadata": {},
   "source": [
    "# Data preparation"
   ]
  },
  {
   "attachments": {},
   "cell_type": "markdown",
   "metadata": {},
   "source": [
    "### Setup"
   ]
  },
  {
   "cell_type": "code",
   "execution_count": 6,
   "metadata": {},
   "outputs": [],
   "source": [
    "import pandas as pd\n",
    "import json\n",
    "import os\n",
    "from datetime import datetime\n",
    "from src import process_data"
   ]
  },
  {
   "attachments": {},
   "cell_type": "markdown",
   "metadata": {},
   "source": [
    "## Generating sequences for experiments"
   ]
  },
  {
   "attachments": {},
   "cell_type": "markdown",
   "metadata": {},
   "source": [
    "This section uses general code blocks to assemble IDR sequences and save them as FASTA files and metadata .json files.\n",
    "\n",
    "Generating data requires a starting metadata .json file containing custom protein IDs and accession numbers (See ``~/exp/README.md``)"
   ]
  },
  {
   "attachments": {},
   "cell_type": "markdown",
   "metadata": {},
   "source": [
    "#### How to prepare data\n",
    "1. **Specify experiment**\n",
    "2. **Specify variants**\n",
    "3. **Generate data**\n",
    "4. **Save sequences**\n",
    "5. **Save metadata**"
   ]
  },
  {
   "attachments": {},
   "cell_type": "markdown",
   "metadata": {},
   "source": [
    "### 1. Experiment name"
   ]
  },
  {
   "cell_type": "code",
   "execution_count": 2,
   "metadata": {},
   "outputs": [],
   "source": [
    "experiment = 'initial'"
   ]
  },
  {
   "attachments": {},
   "cell_type": "markdown",
   "metadata": {},
   "source": [
    "### 2. Variant types"
   ]
  },
  {
   "cell_type": "code",
   "execution_count": 21,
   "metadata": {},
   "outputs": [],
   "source": [
    "# Only wildtype\n",
    "variants = 'wt'"
   ]
  },
  {
   "cell_type": "code",
   "execution_count": 24,
   "metadata": {},
   "outputs": [],
   "source": [
    "# All\n",
    "variants = process_data.variant_types.keys()"
   ]
  },
  {
   "attachments": {},
   "cell_type": "markdown",
   "metadata": {},
   "source": [
    "### 3. Generating data"
   ]
  },
  {
   "cell_type": "code",
   "execution_count": 31,
   "metadata": {},
   "outputs": [
    {
     "data": {
      "text/html": [
       "<div>\n",
       "<style scoped>\n",
       "    .dataframe tbody tr th:only-of-type {\n",
       "        vertical-align: middle;\n",
       "    }\n",
       "\n",
       "    .dataframe tbody tr th {\n",
       "        vertical-align: top;\n",
       "    }\n",
       "\n",
       "    .dataframe thead th {\n",
       "        text-align: right;\n",
       "    }\n",
       "</style>\n",
       "<table border=\"1\" class=\"dataframe\">\n",
       "  <thead>\n",
       "    <tr style=\"text-align: right;\">\n",
       "      <th></th>\n",
       "      <th>template</th>\n",
       "      <th>name</th>\n",
       "      <th>species</th>\n",
       "      <th>sequence</th>\n",
       "      <th>region</th>\n",
       "      <th>location</th>\n",
       "      <th>variant</th>\n",
       "    </tr>\n",
       "  </thead>\n",
       "  <tbody>\n",
       "    <tr>\n",
       "      <th>H1-0_WT</th>\n",
       "      <td>H1-0</td>\n",
       "      <td>histone H1.0</td>\n",
       "      <td>Homo sapiens (human)</td>\n",
       "      <td>TKGVGASGSFRLAKSDEPKKSVAFKKTKKEIKKVATPKKASKPKKA...</td>\n",
       "      <td>CTD</td>\n",
       "      <td>[83:194]</td>\n",
       "      <td>Wild type</td>\n",
       "    </tr>\n",
       "    <tr>\n",
       "      <th>H1-0_RAND</th>\n",
       "      <td>H1-0</td>\n",
       "      <td>histone H1.0</td>\n",
       "      <td>Homo sapiens (human)</td>\n",
       "      <td>VADSKKTSAKAKKKKAKPAKRKAPTGKKPSSTAKKKKAPKKKAKLK...</td>\n",
       "      <td>CTD</td>\n",
       "      <td>[83:194]</td>\n",
       "      <td>Randomly shuffled</td>\n",
       "    </tr>\n",
       "    <tr>\n",
       "      <th>H1-0_CLUST</th>\n",
       "      <td>H1-0</td>\n",
       "      <td>histone H1.0</td>\n",
       "      <td>Homo sapiens (human)</td>\n",
       "      <td>KKKRKKKKKKKKKKKKKKKKKRKKKKKKKKKKKKKKKKKKKKKKKA...</td>\n",
       "      <td>CTD</td>\n",
       "      <td>[83:194]</td>\n",
       "      <td>Terminally clustered charges</td>\n",
       "    </tr>\n",
       "    <tr>\n",
       "      <th>H2B_WT</th>\n",
       "      <td>H2B</td>\n",
       "      <td>histone H2B type 2-E</td>\n",
       "      <td>Homo sapiens (human)</td>\n",
       "      <td>MPEPAKSAPAPKKGSKKAVTKAQKKDGKKRKRSRK</td>\n",
       "      <td>NTD</td>\n",
       "      <td>[0:35]</td>\n",
       "      <td>Wild type</td>\n",
       "    </tr>\n",
       "    <tr>\n",
       "      <th>H2B_RAND</th>\n",
       "      <td>H2B</td>\n",
       "      <td>histone H2B type 2-E</td>\n",
       "      <td>Homo sapiens (human)</td>\n",
       "      <td>PPKKRPKSAEVDSPKKSAMAKAKAKGKGTQKKKRR</td>\n",
       "      <td>NTD</td>\n",
       "      <td>[0:35]</td>\n",
       "      <td>Randomly shuffled</td>\n",
       "    </tr>\n",
       "    <tr>\n",
       "      <th>H2B_CLUST</th>\n",
       "      <td>H2B</td>\n",
       "      <td>histone H2B type 2-E</td>\n",
       "      <td>Homo sapiens (human)</td>\n",
       "      <td>KRKRKKKKKKKKRKKAPAVTGAQAMPGASPSPSDE</td>\n",
       "      <td>NTD</td>\n",
       "      <td>[0:35]</td>\n",
       "      <td>Terminally clustered charges</td>\n",
       "    </tr>\n",
       "  </tbody>\n",
       "</table>\n",
       "</div>"
      ],
      "text/plain": [
       "           template                  name               species  \\\n",
       "H1-0_WT        H1-0          histone H1.0  Homo sapiens (human)   \n",
       "H1-0_RAND      H1-0          histone H1.0  Homo sapiens (human)   \n",
       "H1-0_CLUST     H1-0          histone H1.0  Homo sapiens (human)   \n",
       "H2B_WT          H2B  histone H2B type 2-E  Homo sapiens (human)   \n",
       "H2B_RAND        H2B  histone H2B type 2-E  Homo sapiens (human)   \n",
       "H2B_CLUST       H2B  histone H2B type 2-E  Homo sapiens (human)   \n",
       "\n",
       "                                                     sequence region  \\\n",
       "H1-0_WT     TKGVGASGSFRLAKSDEPKKSVAFKKTKKEIKKVATPKKASKPKKA...    CTD   \n",
       "H1-0_RAND   VADSKKTSAKAKKKKAKPAKRKAPTGKKPSSTAKKKKAPKKKAKLK...    CTD   \n",
       "H1-0_CLUST  KKKRKKKKKKKKKKKKKKKKKRKKKKKKKKKKKKKKKKKKKKKKKA...    CTD   \n",
       "H2B_WT                    MPEPAKSAPAPKKGSKKAVTKAQKKDGKKRKRSRK    NTD   \n",
       "H2B_RAND                  PPKKRPKSAEVDSPKKSAMAKAKAKGKGTQKKKRR    NTD   \n",
       "H2B_CLUST                 KRKRKKKKKKKKRKKAPAVTGAQAMPGASPSPSDE    NTD   \n",
       "\n",
       "            location                       variant  \n",
       "H1-0_WT     [83:194]                     Wild type  \n",
       "H1-0_RAND   [83:194]             Randomly shuffled  \n",
       "H1-0_CLUST  [83:194]  Terminally clustered charges  \n",
       "H2B_WT        [0:35]                     Wild type  \n",
       "H2B_RAND      [0:35]             Randomly shuffled  \n",
       "H2B_CLUST     [0:35]  Terminally clustered charges  "
      ]
     },
     "execution_count": 31,
     "metadata": {},
     "output_type": "execute_result"
    }
   ],
   "source": [
    "# Getting experiment json\n",
    "metadata_path = f'exp/{experiment}/{experiment}.json'\n",
    "with open(metadata_path, 'r') as file:\n",
    "    metadata = json.load(file)\n",
    "\n",
    "# Initiating DataFrame\n",
    "gp_files = [process_data.get_protein_gp(an) for an in metadata['accession_numbers'].values()]\n",
    "data = pd.DataFrame(index=metadata['accession_numbers'].keys())\n",
    "\n",
    "# Gathering data\n",
    "data['template'] = data.index\n",
    "data['name'] = [gp.description.split('[')[0][:-1] for gp in gp_files]\n",
    "data['species'] = [gp.annotations['source'] for gp in gp_files]\n",
    "\n",
    "# Extracting IDR\n",
    "data['sequence'] = [process_data.extract_idr(gp, length_order=True)[0] for gp in gp_files]\n",
    "data['region'] = [process_data.extract_idr(gp, length_order=True)[1] for gp in gp_files]\n",
    "data['location'] = [process_data.extract_idr(gp, length_order=True)[2] for gp in gp_files]\n",
    "\n",
    "# Expanding dataframe to included all variants\n",
    "data['variant'] = [variants]*len(data)\n",
    "data = data.explode('variant')\n",
    "if len(variants) > 1:\n",
    "    data.index = data['template'] + '_' + data['variant'].str.upper()\n",
    "\n",
    "# Generating variant sequence\n",
    "data['sequence'] = data.apply(lambda row: process_data.generate_variant(row['sequence'], row['variant']), axis=1)\n",
    "\n",
    "# Setting variant description\n",
    "data['variant'] = data.apply(lambda row: process_data.variant_types[row['variant']]['name'], axis=1)\n",
    "\n",
    "data"
   ]
  },
  {
   "attachments": {},
   "cell_type": "markdown",
   "metadata": {},
   "source": [
    "### 4. Saving sequences"
   ]
  },
  {
   "cell_type": "code",
   "execution_count": 8,
   "metadata": {},
   "outputs": [],
   "source": [
    "# Saving sequences\n",
    "datadir = f'exp/{experiment}/data'\n",
    "os.makedirs(datadir, exist_ok=True)\n",
    "\n",
    "# Iterating over rows\n",
    "for index, cols in data.iterrows():\n",
    "    id = index.upper()\n",
    "    desc = process_data.variant_types[cols['variant']]['name']\n",
    "    seq = cols['sequence']\n",
    "\n",
    "    # Saving as FASTA format (Though one-line sequence)\n",
    "    filepath = datadir + '/' + id + '.fasta'\n",
    "    with open(filepath, 'w') as file:\n",
    "        file.write('>' + id + '\\n')\n",
    "        file.write(seq)"
   ]
  },
  {
   "attachments": {},
   "cell_type": "markdown",
   "metadata": {},
   "source": [
    "### 5. Saving metadata"
   ]
  },
  {
   "cell_type": "code",
   "execution_count": 32,
   "metadata": {},
   "outputs": [],
   "source": [
    "# Saving metadata\n",
    "metadata['data'] = data.to_dict(orient='index')\n",
    "with open(metadata_path, 'w') as file:\n",
    "    json.dump(metadata, file, indent=4)"
   ]
  },
  {
   "attachments": {},
   "cell_type": "markdown",
   "metadata": {},
   "source": [
    "## Finding orthologs"
   ]
  }
 ],
 "metadata": {
  "kernelspec": {
   "display_name": "orthoidp",
   "language": "python",
   "name": "python3"
  },
  "language_info": {
   "codemirror_mode": {
    "name": "ipython",
    "version": 3
   },
   "file_extension": ".py",
   "mimetype": "text/x-python",
   "name": "python",
   "nbconvert_exporter": "python",
   "pygments_lexer": "ipython3",
   "version": "3.10.9"
  },
  "orig_nbformat": 4,
  "vscode": {
   "interpreter": {
    "hash": "5cf7a75472cea797e0aded0ea9e5d9e317f1ebbfd81a3bae087611c209ab141a"
   }
  }
 },
 "nbformat": 4,
 "nbformat_minor": 2
}
