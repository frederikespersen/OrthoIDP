{
 "cells": [
  {
   "cell_type": "markdown",
   "metadata": {},
   "source": [
    "# Data preparation"
   ]
  },
  {
   "attachments": {},
   "cell_type": "markdown",
   "metadata": {},
   "source": [
    "### Setup"
   ]
  },
  {
   "cell_type": "code",
   "execution_count": 5,
   "metadata": {},
   "outputs": [
    {
     "name": "stderr",
     "output_type": "stream",
     "text": [
      "Warning: importing 'simtk.openmm' is deprecated.  Import 'openmm' instead.\n"
     ]
    }
   ],
   "source": [
    "# Imports\n",
    "from tqdm import tqdm\n",
    "import requests\n",
    "import pandas as pd\n",
    "import json\n",
    "import os\n",
    "import sys\n",
    "import numpy as np\n",
    "from matplotlib import pyplot as plt\n",
    "\n",
    "sys.path.append('src')\n",
    "import data_utils\n",
    "import analyse_utils"
   ]
  },
  {
   "attachments": {},
   "cell_type": "markdown",
   "metadata": {},
   "source": [
    "## Querying data"
   ]
  },
  {
   "attachments": {},
   "cell_type": "markdown",
   "metadata": {},
   "source": [
    "This section contains database queries and the handling of them."
   ]
  },
  {
   "attachments": {},
   "cell_type": "markdown",
   "metadata": {},
   "source": [
    "### OrthoDB"
   ]
  },
  {
   "attachments": {},
   "cell_type": "markdown",
   "metadata": {},
   "source": [
    "API-documentation: https://www.ezlab.org/orthodb_userguide.html#api"
   ]
  },
  {
   "attachments": {},
   "cell_type": "markdown",
   "metadata": {},
   "source": [
    "Ortho DB groups:\n",
    "- [histone H1.0](https://www.orthodb.org/?query=19111at9604)\n",
    "    - 5363206at2759 at Eukaryota level\n",
    "    - 2491618at33208 at Metazoa level\n",
    "    - 1590200at7742 at Vertebrata level\n",
    "    - 1033145at32523 at Tetrapoda level\n",
    "    - 21759at40674 at Mammalia level\n",
    "    - 97195at9347 at Eutheria level\n",
    "    - 97195at314146 at Euarchontoglires level\n",
    "    - 97195at9443 at Primates level\n",
    "    - 19111at314295 at Hominoidea level (1)\n",
    "    - 19111at9604 at Hominidae level (2)"
   ]
  },
  {
   "cell_type": "code",
   "execution_count": 34,
   "metadata": {},
   "outputs": [],
   "source": [
    "# Setting Ortho DB group to query\n",
    "group = '5363206at2759'\n",
    "\n",
    "# Defining filename for output\n",
    "filename = 'exp/ortho_h1-0/H1-0_orthodb.json'"
   ]
  },
  {
   "cell_type": "code",
   "execution_count": 5,
   "metadata": {},
   "outputs": [],
   "source": [
    "# Querying API\n",
    "url = f\"https://data.orthodb.org/current/orthologs?id={group}\"\n",
    "response = requests.get(url)\n",
    "data = response.json()"
   ]
  },
  {
   "cell_type": "code",
   "execution_count": 6,
   "metadata": {},
   "outputs": [],
   "source": [
    "# Saving to metadata\n",
    "with open(filename, 'w') as file:\n",
    "    json.dump(data, file, indent=4)"
   ]
  },
  {
   "attachments": {},
   "cell_type": "markdown",
   "metadata": {},
   "source": [
    "## Getting template metadata"
   ]
  },
  {
   "attachments": {},
   "cell_type": "markdown",
   "metadata": {},
   "source": [
    "This section uses general code blocks to prepare template metadata in experiment .json files.\n",
    "\n",
    "Fetching metadata requires a starting metadata .json file containing UniProt IDs (See `~/exp/README.md`).\n",
    "Custom IDs can be arbitrary, and may be reassigned during the following procedures."
   ]
  },
  {
   "attachments": {},
   "cell_type": "markdown",
   "metadata": {},
   "source": [
    "#### How to get template metadata\n",
    "1. **Specify experiment**\n",
    "2. **Specify templates**\n",
    "3. **Get metadata**\n",
    "4. **Format custom protein IDs** (_Optional_)\n",
    "5. **Save metadata**"
   ]
  },
  {
   "attachments": {},
   "cell_type": "markdown",
   "metadata": {},
   "source": [
    "#### 1. Experiment name"
   ]
  },
  {
   "cell_type": "code",
   "execution_count": 29,
   "metadata": {},
   "outputs": [],
   "source": [
    "experiment = 'initial'"
   ]
  },
  {
   "cell_type": "code",
   "execution_count": 61,
   "metadata": {},
   "outputs": [],
   "source": [
    "experiment = 'ortho_h1-0'"
   ]
  },
  {
   "cell_type": "code",
   "execution_count": 2,
   "metadata": {},
   "outputs": [],
   "source": [
    "experiment = 'para_h1'"
   ]
  },
  {
   "attachments": {},
   "cell_type": "markdown",
   "metadata": {},
   "source": [
    "#### 2. Specify templates"
   ]
  },
  {
   "cell_type": "code",
   "execution_count": 65,
   "metadata": {},
   "outputs": [
    {
     "name": "stdout",
     "output_type": "stream",
     "text": [
      "The following 319/485 entries had no UniProt IDs\n",
      " - Cyprinodon tularosa\n",
      " - Gambusia affinis\n",
      " - Girardinichthys multiradiatus\n",
      " - Nematolebias whitei\n",
      " - Poecilia formosa\n",
      " - Poecilia reticulata\n",
      " - Xiphophorus hellerii\n",
      " - Archocentrus centrarchus\n",
      " - Simochromis diagramma\n",
      " - Acanthopagrus latus\n",
      " - Alosa alosa\n",
      " - Alosa sapidissima\n",
      " - Anarrhichthys ocellatus\n",
      " - Anguilla anguilla\n",
      " - Boleophthalmus pectinirostris\n",
      " - Cheilinus undulatus\n",
      " - Chelmon rostratus\n",
      " - Colossoma macropomum\n",
      " - Coregonus clupeaformis\n",
      " - Cyclopterus lumpus\n",
      " - Cyprinus carpio\n",
      " - Denticeps clupeoides\n",
      " - Echeneis naucrates\n",
      " - Electrophorus electricus\n",
      " - Epinephelus lanceolatus\n",
      " - Erpetoichthys calabaricus\n",
      " - Etheostoma cragini\n",
      " - Etheostoma spectabile\n",
      " - Gadus morhua\n",
      " - Gasterosteus aculeatus aculeatus\n",
      " - Gouania willdenowi\n",
      " - Hippoglossus hippoglossus\n",
      " - Hippoglossus stenolepis\n",
      " - Hypomesus transpacificus\n",
      " - Lates calcarifer\n",
      " - Lepisosteus oculatus\n",
      " - Megalobrama amblycephala\n",
      " - Megalops cyprinoides\n",
      " - Micropterus dolomieu\n",
      " - Micropterus salmoides\n",
      " - Morone saxatilis\n",
      " - Mugil cephalus\n",
      " - Notolabrus celidotus\n",
      " - Oncorhynchus gorbuscha\n",
      " - Oncorhynchus keta\n",
      " - Oncorhynchus kisutch\n",
      " - Oncorhynchus nerka\n",
      " - Oncorhynchus tshawytscha\n",
      " - Pangasianodon hypophthalmus\n",
      " - Paralichthys olivaceus\n",
      " - Periophthalmus magnuspinnatus\n",
      " - Pimephales promelas\n",
      " - Plectropomus leopardus\n",
      " - Polyodon spathula\n",
      " - Polypterus senegalus\n",
      " - Pseudochaenichthys georgianus\n",
      " - Pungitius pungitius\n",
      " - Puntigrus tetrazona\n",
      " - Salvelinus alpinus\n",
      " - Salvelinus namaycush\n",
      " - Sander lucioperca\n",
      " - Scatophagus argus\n",
      " - Scleropages formosus\n",
      " - Sebastes umbrosus\n",
      " - Silurus meridionalis\n",
      " - Siniperca chuatsi\n",
      " - Sinocyclocheilus anshuiensis\n",
      " - Sinocyclocheilus grahami\n",
      " - Solea senegalensis\n",
      " - Sparus aurata\n",
      " - Sphaeramia orbicularis\n",
      " - Syngnathus acus\n",
      " - Takifugu rubripes\n",
      " - Thalassophryne amazonica\n",
      " - Thunnus albacares\n",
      " - Toxotes jaculatrix\n",
      " - Trematomus bernacchii\n",
      " - Xiphias gladius\n",
      " - Acanthisitta chloris\n",
      " - Camarhynchus parvulus\n",
      " - Catharus ustulatus\n",
      " - Chiroxiphia lanceolata\n",
      " - Corapipo altera\n",
      " - Corvus cornix cornix\n",
      " - Corvus hawaiiensis\n",
      " - Corvus kubaryi\n",
      " - Corvus moneduloides\n",
      " - Cyanistes caeruleus\n",
      " - Empidonax traillii\n",
      " - Geospiza fortis\n",
      " - Hirundo rustica\n",
      " - Lonchura striata domestica\n",
      " - Manacus vitellinus\n",
      " - Molothrus ater\n",
      " - Montifringilla ruficollis\n",
      " - Montifringilla taczanowskii\n",
      " - Motacilla alba alba\n",
      " - Neopelma chrysocephalum\n",
      " - Parus major\n",
      " - Passer montanus\n",
      " - Pseudopodoces humilis\n",
      " - Serinus canaria\n",
      " - Sturnus vulgaris\n",
      " - Zonotrichia albicollis\n",
      " - Anas platyrhynchos\n",
      " - Anser cygnoides\n",
      " - Centrocercus urophasianus\n",
      " - Coturnix japonica\n",
      " - Cygnus atratus\n",
      " - Cygnus olor\n",
      " - Lagopus leucura\n",
      " - Meleagris gallopavo\n",
      " - Numida meleagris\n",
      " - Oxyura jamaicensis\n",
      " - Phasianus colchicus\n",
      " - Nipponia nippon\n",
      " - Pelecanus crispus\n",
      " - Phaethon lepturus\n",
      " - Phalacrocorax carbo\n",
      " - Balearica regulorum gibbericeps\n",
      " - Chlamydotis macqueenii\n",
      " - Eurypyga helias\n",
      " - Falco cherrug\n",
      " - Falco naumanni\n",
      " - Falco peregrinus\n",
      " - Falco rusticolus\n",
      " - Mesitornis unicolor\n",
      " - Antrostomus carolinensis\n",
      " - Apaloderma vittatum\n",
      " - Apteryx mantelli mantelli\n",
      " - Apteryx rowi\n",
      " - Aquila chrysaetos\n",
      " - Athene cunicularia\n",
      " - Buceros rhinoceros silvestris\n",
      " - Calidris pugnax\n",
      " - Calypte anna\n",
      " - Cariama cristata\n",
      " - Chaetura pelagica\n",
      " - Charadrius vociferus\n",
      " - Colius striatus\n",
      " - Cuculus canorus\n",
      " - Dromaius novaehollandiae\n",
      " - Fulmarus glacialis\n",
      " - Gavia stellata\n",
      " - Haliaeetus albicilla\n",
      " - Haliaeetus leucocephalus\n",
      " - Leptosomus discolor\n",
      " - Melopsittacus undulatus\n",
      " - Merops nubicus\n",
      " - Nestor notabilis\n",
      " - Nothoprocta perdicaria\n",
      " - Opisthocomus hoazin\n",
      " - Picoides pubescens\n",
      " - Pterocles gutturalis\n",
      " - Tauraco erythrolophus\n",
      " - Tinamus guttatus\n",
      " - Tyto alba\n",
      " - Crotalus tigris\n",
      " - Gekko japonicus\n",
      " - Lacerta agilis\n",
      " - Protobothrops mucrosquamatus\n",
      " - Python bivittatus\n",
      " - Sceloporus undulatus\n",
      " - Sphaerodactylus townsendi\n",
      " - Thamnophis elegans\n",
      " - Varanus komodoensis\n",
      " - Zootoca vivipara\n",
      " - Caretta caretta\n",
      " - Chelonoidis abingdonii\n",
      " - Chrysemys picta bellii\n",
      " - Crocodylus porosus\n",
      " - Dermochelys coriacea\n",
      " - Gavialis gangeticus\n",
      " - Gopherus evgoodei\n",
      " - Mauremys mutica\n",
      " - Mauremys reevesii\n",
      " - Terrapene carolina triunguis\n",
      " - Trachemys scripta elegans\n",
      " - Balaenoptera musculus\n",
      " - Globicephala melas\n",
      " - Lagenorhynchus obliquidens\n",
      " - Monodon monoceros\n",
      " - Orcinus orca\n",
      " - Phocoena sinus\n",
      " - Condylura cristata\n",
      " - Talpa occidentalis\n",
      " - Artibeus jamaicensis\n",
      " - Bubalus bubalis\n",
      " - Camelus bactrianus\n",
      " - Camelus dromedarius\n",
      " - Camelus ferus\n",
      " - Canis lupus dingo\n",
      " - Ceratotherium simum simum\n",
      " - Cervus canadensis\n",
      " - Cervus elaphus\n",
      " - Eptesicus fuscus\n",
      " - Equus asinus\n",
      " - Equus caballus\n",
      " - Eumetopias jubatus\n",
      " - Felis catus\n",
      " - Halichoerus grypus\n",
      " - Hipposideros armiger\n",
      " - Hyaena hyaena\n",
      " - Leopardus geoffroyi\n",
      " - Lontra canadensis\n",
      " - Lutra lutra\n",
      " - Lynx rufus\n",
      " - Manis javanica\n",
      " - Manis pentadactyla\n",
      " - Meles meles\n",
      " - Miniopterus natalensis\n",
      " - Mirounga angustirostris\n",
      " - Mirounga leonina\n",
      " - Molossus molossus\n",
      " - Mustela erminea\n",
      " - Myotis brandtii\n",
      " - Myotis myotis\n",
      " - Neovison vison\n",
      " - Panthera leo\n",
      " - Panthera tigris\n",
      " - Pantholops hodgsonii\n",
      " - Phacochoerus africanus\n",
      " - Phoca vitulina\n",
      " - Phyllostomus hastatus\n",
      " - Pipistrellus kuhlii\n",
      " - Prionailurus bengalensis\n",
      " - Prionailurus viverrinus\n",
      " - Pteropus giganteus\n",
      " - Puma yagouaroundi\n",
      " - Rhinolophus sinicus\n",
      " - Rousettus aegyptiacus\n",
      " - Sturnira hondurensis\n",
      " - Ursus arctos\n",
      " - Vulpes lagopus\n",
      " - Arvicanthis niloticus\n",
      " - Arvicola amphibius\n",
      " - Castor canadensis\n",
      " - Chinchilla lanigera\n",
      " - Dipodomys spectabilis\n",
      " - Grammomys surdaster\n",
      " - Heterocephalus glaber\n",
      " - Jaculus jaculus\n",
      " - Marmota flaviventris\n",
      " - Marmota marmota marmota\n",
      " - Marmota monax\n",
      " - Mastomys coucha\n",
      " - Meriones unguiculatus\n",
      " - Microtus ochrogaster\n",
      " - Microtus oregoni\n",
      " - Mus pahari\n",
      " - Myodes glareolus\n",
      " - Nannospalax galili\n",
      " - Onychomys torridus\n",
      " - Perognathus longimembris pacificus\n",
      " - Peromyscus leucopus\n",
      " - Sciurus carolinensis\n",
      " - Urocitellus parryii\n",
      " - Ochotona curzoniae\n",
      " - Ochotona princeps\n",
      " - Oryctolagus cuniculus\n",
      " - Piliocolobus tephrosceles\n",
      " - Theropithecus gelada\n",
      " - Trachypithecus francoisi\n",
      " - Dromiciops gliroides\n",
      " - Gracilinanus agilis\n",
      " - Hylobates moloch\n",
      " - Trichosurus vulpecula\n",
      " - Amblyraja radiata\n",
      " - Bufo bufo\n",
      " - Bufo gargarizans\n",
      " - Callorhinchus milii\n",
      " - Carcharodon carcharias\n",
      " - Cebus capucinus imitator\n",
      " - Chiloscyllium plagiosum\n",
      " - Choloepus didactylus\n",
      " - Dasypus novemcinctus\n",
      " - Echinops telfairi\n",
      " - Elephantulus edwardii\n",
      " - Galeopterus variegatus\n",
      " - Latimeria chalumnae\n",
      " - Lemur catta\n",
      " - Microcebus murinus\n",
      " - Nanorana parkeri\n",
      " - Orycteropus afer afer\n",
      " - Propithecus coquereli\n",
      " - Protopterus annectens\n",
      " - Rana temporaria\n",
      " - Rhinatrema bivittatum\n",
      " - Rhincodon typus\n",
      " - Scyliorhinus canicula\n",
      " - Stegostoma fasciatum\n",
      " - Tachyglossus aculeatus\n",
      " - Polypedilum vanderplanki\n",
      " - Aplysia californica\n",
      " - Gigantopelta aegis\n",
      " - Haliotis rubra\n",
      " - Haliotis rufescens\n",
      " - Mizuhopecten yessoensis\n",
      " - Octopus sinensis\n",
      " - Ostrea edulis\n",
      " - Acropora digitifera\n",
      " - Acropora millepora\n",
      " - Exaiptasia pallida\n",
      " - Nematostella vectensis\n",
      " - Orbicella faveolata\n",
      " - Stylophora pistillata\n",
      " - Hydra vulgaris\n",
      " - Acanthaster planci\n",
      " - Amphimedon queenslandica\n",
      " - Anneissia japonica\n",
      " - Asterias rubens\n",
      " - Branchiostoma floridae\n",
      " - Ciona intestinalis\n",
      " - Lytechinus variegatus\n",
      " - Patiria miniata\n",
      " - Priapulus caudatus\n",
      " - Saccoglossus kowalevskii\n",
      " - Strongylocentrotus purpuratus\n",
      " - Styela clava\n"
     ]
    }
   ],
   "source": [
    "# Getting template UniProt IDs by experiment-specific methods\n",
    "\n",
    "if experiment == 'initial':\n",
    "    # Manual entries\n",
    "    uids = ['P07305', 'B4DR52']\n",
    "    ids = ['H1-0', 'H2B']\n",
    "\n",
    "elif experiment == 'ortho_h1-0':\n",
    "    # Entries from OrthoDB\n",
    "    with open('exp/ortho_h1-0/H1-0_orthodb.json') as file:\n",
    "        data = json.load(file)\n",
    "\n",
    "    uids = []\n",
    "    uids_species = []\n",
    "    no_uids_ids = []\n",
    "    no_uids_species = []\n",
    "\n",
    "    # Extracting UniProt IDs\n",
    "    for id in range(len(data['data'])):\n",
    "        try:\n",
    "            for protein in data['data'][id]['genes']:\n",
    "                uids.append(protein['uniprot']['id'])\n",
    "                uids_species.append(data['data'][id]['organism']['name'])\n",
    "        except KeyError:\n",
    "            no_uids_ids.append(data['data'][id]['genes'][0]['gene_id']['param'])\n",
    "            no_uids_species.append(data['data'][id]['organism']['name']) # Skipping species without UniProt entries\n",
    "\n",
    "    # Handling proteins with no UniProt IDs\n",
    "    if no_uids_species:\n",
    "        print(f\"The following {len(no_uids_species)}/{len(data['data'])} entries had no UniProt IDs\")\n",
    "        print(*[f\" - {specie}\" for specie in no_uids_species], sep=\"\\n\")\n",
    "\n",
    "    ids = list(range(len(uids)))\n"
   ]
  },
  {
   "cell_type": "code",
   "execution_count": 71,
   "metadata": {},
   "outputs": [
    {
     "name": "stderr",
     "output_type": "stream",
     "text": [
      " 47%|████▋     | 149/319 [00:22<00:25,  6.65it/s]"
     ]
    }
   ],
   "source": [
    "# Attempting to BLAST for new/existing UniProt entries where none were found\n",
    "seqs = []\n",
    "for id in tqdm(no_uids_ids):\n",
    "    url = f\"https://data.orthodb.org/current/fasta?id={id}\"\n",
    "    response = requests.get(url)\n",
    "    seqs.append(data.text.split('\\n')[1])\n",
    "print(len(seqs))\n",
    "print(len(set(seqs)))"
   ]
  },
  {
   "cell_type": "code",
   "execution_count": null,
   "metadata": {},
   "outputs": [],
   "source": [
    "# Loading into metadata with arbitrary custom IDs\n",
    "metadata_path = f'exp/{experiment}/{experiment}.json'\n",
    "metadata = {'templates': {id: {\"uniprot_id\": uniprot_id} for uniprot_id, id in zip(uids, ids)}}\n",
    "with open(metadata_path, 'w') as file:\n",
    "    json.dump(metadata, file, indent=4)"
   ]
  },
  {
   "attachments": {},
   "cell_type": "markdown",
   "metadata": {},
   "source": [
    "#### 3. Get template metadata"
   ]
  },
  {
   "cell_type": "code",
   "execution_count": 5,
   "metadata": {},
   "outputs": [
    {
     "name": "stderr",
     "output_type": "stream",
     "text": [
      "100%|██████████| 10/10 [00:01<00:00,  5.00it/s]\n"
     ]
    },
    {
     "data": {
      "text/html": [
       "<div>\n",
       "<style scoped>\n",
       "    .dataframe tbody tr th:only-of-type {\n",
       "        vertical-align: middle;\n",
       "    }\n",
       "\n",
       "    .dataframe tbody tr th {\n",
       "        vertical-align: top;\n",
       "    }\n",
       "\n",
       "    .dataframe thead th {\n",
       "        text-align: right;\n",
       "    }\n",
       "</style>\n",
       "<table border=\"1\" class=\"dataframe\">\n",
       "  <thead>\n",
       "    <tr style=\"text-align: right;\">\n",
       "      <th></th>\n",
       "      <th>uniprot_id</th>\n",
       "      <th>name</th>\n",
       "      <th>description</th>\n",
       "      <th>species</th>\n",
       "      <th>sequence</th>\n",
       "    </tr>\n",
       "  </thead>\n",
       "  <tbody>\n",
       "    <tr>\n",
       "      <th>H1-0</th>\n",
       "      <td>P07305</td>\n",
       "      <td>H10_HUMAN</td>\n",
       "      <td>Histone H1.0</td>\n",
       "      <td>Homo sapiens (Human)</td>\n",
       "      <td>MTENSTSAPAAKPKRAKASKKSTDHPKYSDMIVAAIQAEKNRAGSS...</td>\n",
       "    </tr>\n",
       "    <tr>\n",
       "      <th>H1-1</th>\n",
       "      <td>Q02539</td>\n",
       "      <td>H11_HUMAN</td>\n",
       "      <td>Histone H1.1</td>\n",
       "      <td>Homo sapiens (Human)</td>\n",
       "      <td>MSETVPPAPAASAAPEKPLAGKKAKKPAKAAAASKKKPAGPSVSEL...</td>\n",
       "    </tr>\n",
       "    <tr>\n",
       "      <th>H1-2</th>\n",
       "      <td>P16403</td>\n",
       "      <td>H12_HUMAN</td>\n",
       "      <td>Histone H1.2</td>\n",
       "      <td>Homo sapiens (Human)</td>\n",
       "      <td>MSETAPAAPAAAPPAEKAPVKKKAAKKAGGTPRKASGPPVSELITK...</td>\n",
       "    </tr>\n",
       "    <tr>\n",
       "      <th>H1-3</th>\n",
       "      <td>P16402</td>\n",
       "      <td>H13_HUMAN</td>\n",
       "      <td>Histone H1.3</td>\n",
       "      <td>Homo sapiens (Human)</td>\n",
       "      <td>MSETAPLAPTIPAPAEKTPVKKKAKKAGATAGKRKASGPPVSELIT...</td>\n",
       "    </tr>\n",
       "    <tr>\n",
       "      <th>H1-4</th>\n",
       "      <td>P10412</td>\n",
       "      <td>H14_HUMAN</td>\n",
       "      <td>Histone H1.4</td>\n",
       "      <td>Homo sapiens (Human)</td>\n",
       "      <td>MSETAPAAPAAPAPAEKTPVKKKARKSAGAAKRKASGPPVSELITK...</td>\n",
       "    </tr>\n",
       "    <tr>\n",
       "      <th>H1-5</th>\n",
       "      <td>P16401</td>\n",
       "      <td>H15_HUMAN</td>\n",
       "      <td>Histone H1.5</td>\n",
       "      <td>Homo sapiens (Human)</td>\n",
       "      <td>MSETAPAETATPAPVEKSPAKKKATKKAAGAGAAKRKATGPPVSEL...</td>\n",
       "    </tr>\n",
       "    <tr>\n",
       "      <th>H1-6</th>\n",
       "      <td>P22492</td>\n",
       "      <td>H1T_HUMAN</td>\n",
       "      <td>Histone H1t</td>\n",
       "      <td>Homo sapiens (Human)</td>\n",
       "      <td>MSETVPAASASAGVAAMEKLPTKKRGRKPAGLISASRKVPNLSVSK...</td>\n",
       "    </tr>\n",
       "    <tr>\n",
       "      <th>H1-7</th>\n",
       "      <td>Q75WM6</td>\n",
       "      <td>H1FNT_HUMAN</td>\n",
       "      <td>Testis-specific H1 histone</td>\n",
       "      <td>Homo sapiens (Human)</td>\n",
       "      <td>MEQALTGEAQSRWPRRGGSGAMAEAPGPSGESRGHSATQLPAEKTV...</td>\n",
       "    </tr>\n",
       "    <tr>\n",
       "      <th>H1-8</th>\n",
       "      <td>Q8IZA3</td>\n",
       "      <td>H18_HUMAN</td>\n",
       "      <td>Histone H1.8</td>\n",
       "      <td>Homo sapiens (Human)</td>\n",
       "      <td>MAPGSVTSDISPSSTSTAGSSRSPESEKPGPSHGGVPPGGPSHSSL...</td>\n",
       "    </tr>\n",
       "    <tr>\n",
       "      <th>H1-10</th>\n",
       "      <td>Q92522</td>\n",
       "      <td>H1X_HUMAN</td>\n",
       "      <td>Histone H1.10</td>\n",
       "      <td>Homo sapiens (Human)</td>\n",
       "      <td>MSVELEEALPVTTAEGMAKKVTKAGGSAALSPSKKRKNSKKKNQPG...</td>\n",
       "    </tr>\n",
       "  </tbody>\n",
       "</table>\n",
       "</div>"
      ],
      "text/plain": [
       "      uniprot_id         name                 description  \\\n",
       "H1-0      P07305    H10_HUMAN                Histone H1.0   \n",
       "H1-1      Q02539    H11_HUMAN                Histone H1.1   \n",
       "H1-2      P16403    H12_HUMAN                Histone H1.2   \n",
       "H1-3      P16402    H13_HUMAN                Histone H1.3   \n",
       "H1-4      P10412    H14_HUMAN                Histone H1.4   \n",
       "H1-5      P16401    H15_HUMAN                Histone H1.5   \n",
       "H1-6      P22492    H1T_HUMAN                 Histone H1t   \n",
       "H1-7      Q75WM6  H1FNT_HUMAN  Testis-specific H1 histone   \n",
       "H1-8      Q8IZA3    H18_HUMAN                Histone H1.8   \n",
       "H1-10     Q92522    H1X_HUMAN               Histone H1.10   \n",
       "\n",
       "                    species                                           sequence  \n",
       "H1-0   Homo sapiens (Human)  MTENSTSAPAAKPKRAKASKKSTDHPKYSDMIVAAIQAEKNRAGSS...  \n",
       "H1-1   Homo sapiens (Human)  MSETVPPAPAASAAPEKPLAGKKAKKPAKAAAASKKKPAGPSVSEL...  \n",
       "H1-2   Homo sapiens (Human)  MSETAPAAPAAAPPAEKAPVKKKAAKKAGGTPRKASGPPVSELITK...  \n",
       "H1-3   Homo sapiens (Human)  MSETAPLAPTIPAPAEKTPVKKKAKKAGATAGKRKASGPPVSELIT...  \n",
       "H1-4   Homo sapiens (Human)  MSETAPAAPAAPAPAEKTPVKKKARKSAGAAKRKASGPPVSELITK...  \n",
       "H1-5   Homo sapiens (Human)  MSETAPAETATPAPVEKSPAKKKATKKAAGAGAAKRKATGPPVSEL...  \n",
       "H1-6   Homo sapiens (Human)  MSETVPAASASAGVAAMEKLPTKKRGRKPAGLISASRKVPNLSVSK...  \n",
       "H1-7   Homo sapiens (Human)  MEQALTGEAQSRWPRRGGSGAMAEAPGPSGESRGHSATQLPAEKTV...  \n",
       "H1-8   Homo sapiens (Human)  MAPGSVTSDISPSSTSTAGSSRSPESEKPGPSHGGVPPGGPSHSSL...  \n",
       "H1-10  Homo sapiens (Human)  MSVELEEALPVTTAEGMAKKVTKAGGSAALSPSKKRKNSKKKNQPG...  "
      ]
     },
     "execution_count": 5,
     "metadata": {},
     "output_type": "execute_result"
    }
   ],
   "source": [
    "# Getting experiment json\n",
    "metadata_path = f'exp/{experiment}/{experiment}.json'\n",
    "with open(metadata_path, 'r') as file:\n",
    "    metadata = json.load(file)\n",
    "\n",
    "# Getting names, descriptions, and species\n",
    "deleted_records = []\n",
    "for id, fields in tqdm(metadata['templates'].items()):\n",
    "    uniprot_id = fields['uniprot_id']\n",
    "    try:\n",
    "        name, desc, spec, seq = data_utils.get_protein_metadata(uniprot_id)\n",
    "    except ValueError:\n",
    "        deleted_records.append(id)\n",
    "        continue\n",
    "    metadata['templates'][id] = {'uniprot_id': uniprot_id, 'name': name, 'description': desc, 'species': spec, 'sequence': seq}\n",
    "\n",
    "# Discarding deleted UniProt records\n",
    "if deleted_records:\n",
    "    print(f\"The UniProt IDs returned no records:\")\n",
    "    for id in deleted_records:\n",
    "        print(f\" - {metadata['templates'][id]['uniprot_id']}\")\n",
    "        del metadata['templates'][id]\n",
    "\n",
    "pd.DataFrame(metadata['templates']).transpose()"
   ]
  },
  {
   "attachments": {},
   "cell_type": "markdown",
   "metadata": {},
   "source": [
    "#### 4. Format custom protein IDs _(Optional)_"
   ]
  },
  {
   "cell_type": "code",
   "execution_count": 8,
   "metadata": {},
   "outputs": [],
   "source": [
    "# Setting IDs from UniProt name\n",
    "templates = {record['name'].split('_')[1]: record for record in metadata['templates'].values()}"
   ]
  },
  {
   "cell_type": "code",
   "execution_count": 38,
   "metadata": {},
   "outputs": [],
   "source": [
    "# Setting IDs from integer range and UniProt name\n",
    "templates = {str(i) + '_' + record['name'].split('_')[1]: record for record, i in zip(metadata['templates'].values(), range(len(metadata['templates'])))}"
   ]
  },
  {
   "cell_type": "code",
   "execution_count": 39,
   "metadata": {},
   "outputs": [
    {
     "name": "stdout",
     "output_type": "stream",
     "text": [
      "IDs are unique\n"
     ]
    },
    {
     "data": {
      "text/plain": [
       "dict_keys(['0_AUSLI', '1_CYPVA', '2_FUNHE', '3_KRYMA', '4_NOTFU', '5_9TELE', '6_9TELE', '7_XIPMA', '8_HAPBU', '9_9CICH', '10_NEOBR', '11_OREAU', '12_9CICH', '13_9TELE', '14_ACIRT', '15_ACIRT', '16_AMPOC', '17_ANATE', '18_ASTMX', '19_BETSP', '20_CARAU', '21_CARAU', '22_CARAU', '23_CHACN', '24_CLUHA', '25_CYNSE', '26_DANRE', '27_ESOLU', '28_GYMAC', '29_HIPCM', '30_ICTPU', '31_9LABR', '32_9TELE', '33_9TELE', '34_ONCMY', '35_ONCMY', '36_ORYLA', '37_ORYME', '38_9TELE', '39_9TELE', '40_PERFV', '41_PERFL', '42_PYGNA', '43_SALFA', '44_SALSA', '45_SALSA', '46_SALTR', '47_SALTR', '48_SCOMX', '49_SERDU', '50_SERLL', '51_9TELE', '52_SINGR', '53_9TELE', '54_9TELE', '55_9TELE', '56_9TELE', '57_FICAL', '58_9PASS', '59_9PASS', '60_TAEGU', '61_AYTFU', '62_CHICK', '63_EGRGA', '64_APTFO', '65_AQUCH', '66_PYGAD', '67_STRHB', '68_STRCA', '69_9SAUR', '70_PANGU', '71_PODMU', '72_9SAUR', '73_PSETE', '74_9SAUR', '75_9SAUR', '76_9SAUR', '77_ALLMI', '78_ALLSI', '79_CHEMY', '80_PELSI', '81_BALAS', '82_DELLE', '83_LIPVE', '84_NEOAA', '85_PHYMC', '86_TURTR', '87_ERIEU', '88_ACIJB', '89_AILME', '90_BISBI', '91_BOSIN', '92_BOBOX', '93_9CETA', '94_BOVIN', '95_CALUR', '96_CALUR', '97_CAPHI', '98_DESRO', '99_ENHLU', '100_LEPWE', '101_LYNCA', '102_MUSPF', '103_MYODS', '104_MYOLU', '105_NEOSC', '106_ODORO', '107_ODOVR', '108_SHEEP', '109_PANPR', '110_9CHIR', '111_PTEAL', '112_PTEVA', '113_RHIFE', '114_RHIFE', '115_RHIFE', '116_SURSU', '117_PIG', '118_URSAM', '119_URSMA', '120_VICPA', '121_VULVU', '122_ZALCA', '123_CASCN', '124_CAVPO', '125_CRIGR', '126_CRIGR', '127_DIPOR', '128_FUKDA', '129_ICTTR', '130_MESAU', '131_MUSCR', '132_MOUSE', '133_OCTDE', '134_OCTDE', '135_OCTDE', '136_OCTDE', '137_OCTDE', '138_OCTDE', '139_PERMB', '140_RAT', '141_CERAT', '142_CHLSB', '143_COLAP', '144_MACFA', '145_MACMU', '146_MACNE', '147_MANLE', '148_PAPAN', '149_RHIBE', '150_RHIRO', '151_GORGO', '152_HUMAN', '153_PANPA', '154_PANTR', '155_PONAB', '156_NOMLE', '157_PHACI', '158_VOMUR', '159_AOTNA', '160_CARSF', '161_GEOSA', '162_GEOSA', '163_LOXAF', '164_9AMPH', '165_9AMPH', '166_ORNAN', '167_OTOGA', '168_SAIBB', '169_TRIMA', '170_TUPCH', '171_XENLA', '172_XENTR', '173_ORCCI', '174_ECTSI', '175_OCTBM', '176_POMCA', '177_POMCA', '178_POMCA', '179_POMCA', '180_LINUN', '181_ACTTE', '182_ACTTE', '183_POCDA', '184_POCDA', '185_BRUMA', '186_CAEBR', '187_LOALO', '188_NECAM', '189_NECAM', '190_NECAM', '191_STRRB', '192_CAPO3', '193_STRPU', '194_TRIAD'])"
      ]
     },
     "execution_count": 39,
     "metadata": {},
     "output_type": "execute_result"
    }
   ],
   "source": [
    "# Display keys\n",
    "if len(metadata['templates']) != len(templates):\n",
    "    print(\"IDs are not unique!\")\n",
    "else:\n",
    "    print(\"IDs are unique\")\n",
    "templates.keys()"
   ]
  },
  {
   "cell_type": "code",
   "execution_count": 35,
   "metadata": {},
   "outputs": [],
   "source": [
    "# Assigning keys\n",
    "# Checking that new keys are unique\n",
    "assert len(metadata['templates']) == len(templates), \"IDs are not unique!\"\n",
    "\n",
    "metadata['templates'] = templates"
   ]
  },
  {
   "attachments": {},
   "cell_type": "markdown",
   "metadata": {},
   "source": [
    "#### 5. Saving metadata"
   ]
  },
  {
   "cell_type": "code",
   "execution_count": 6,
   "metadata": {},
   "outputs": [],
   "source": [
    "# Saving metadata\n",
    "with open(metadata_path, 'w') as file:\n",
    "    json.dump(metadata, file, indent=4)"
   ]
  },
  {
   "attachments": {},
   "cell_type": "markdown",
   "metadata": {},
   "source": [
    "## Filtering templates"
   ]
  },
  {
   "attachments": {},
   "cell_type": "markdown",
   "metadata": {},
   "source": [
    "### H1.0 orthologs"
   ]
  },
  {
   "attachments": {},
   "cell_type": "markdown",
   "metadata": {},
   "source": [
    "Some hits from the BLAST are irrelevant, as they are most likely not orthologs, like:\n",
    "- \"Uncharacterized protein\"\n",
    "- \"8-amino-7-oxononanoate synthase-like\"\n",
    "\n",
    "Additionally, some hits are more subtle orthologs, like other members of the H15 superfamily:\n",
    "- \"H5 protein\"\n",
    "- \"H15 domain-containing protein\"\n",
    "\n",
    "Lastly, some are in a grey area of  the H1.0 definition:\n",
    "- \"histone H1.0-like\"\n",
    "- \"Histone H1.0-B\"\n",
    "- \"histone H1.0-B-like\"\n",
    "- \"H1 histone family, member 0\"\n",
    "\n",
    "This section is used to specify the names of the orthologs to be used for analysis"
   ]
  },
  {
   "cell_type": "code",
   "execution_count": 41,
   "metadata": {},
   "outputs": [],
   "source": [
    "# Loading metadata\n",
    "metadata_path = \"exp/ortho_h1-0/ortho_h1-0.json\"\n",
    "with open(metadata_path, 'r') as file:\n",
    "    metadata = json.load(file)['templates']\n",
    "\n",
    "templates = pd.DataFrame(metadata).transpose()"
   ]
  },
  {
   "cell_type": "code",
   "execution_count": 42,
   "metadata": {},
   "outputs": [
    {
     "data": {
      "text/plain": [
       "histone H1.0                               37\n",
       "Histone H1.0                               30\n",
       "H1.0 linker histone                        28\n",
       "Histone H1.0-B                             22\n",
       "H15 domain-containing protein              17\n",
       "Histone H5                                 11\n",
       "histone H1.0-like                          11\n",
       "histone H1.0-B                              6\n",
       "Histone H1.0-B-like                         6\n",
       "Linker histone H1 and H5 family protein     5\n",
       "Histone H1.0-like                           3\n",
       "histone H5                                  3\n",
       "histone H1.0-B-like                         2\n",
       "late histone H1-like                        2\n",
       "H1 histone family, member 0 like 1          1\n",
       "H1 histone family member 0 like protein     1\n",
       "8-amino-7-oxononanoate synthase-like        1\n",
       "Putative histone h1.0                       1\n",
       "Uncharacterized protein                     1\n",
       "H1F0 isoform 1                              1\n",
       "Histone H1-beta, late embryonic             1\n",
       "Histone H1                                  1\n",
       "histone H1-delta-like                       1\n",
       "H1 histone family, member 0                 1\n",
       "Protein CBG22701                            1\n",
       "Histone H1-delta                            1\n",
       "Name: description, dtype: int64"
      ]
     },
     "execution_count": 42,
     "metadata": {},
     "output_type": "execute_result"
    }
   ],
   "source": [
    "# Finding all unique descriptions / names\n",
    "templates['description'].value_counts()"
   ]
  },
  {
   "cell_type": "code",
   "execution_count": 43,
   "metadata": {},
   "outputs": [],
   "source": [
    "# Setting description requirements\n",
    "required  = ['H1', 'h1', 'H5', 'h5']"
   ]
  },
  {
   "cell_type": "code",
   "execution_count": 44,
   "metadata": {},
   "outputs": [
    {
     "data": {
      "text/html": [
       "<div>\n",
       "<style scoped>\n",
       "    .dataframe tbody tr th:only-of-type {\n",
       "        vertical-align: middle;\n",
       "    }\n",
       "\n",
       "    .dataframe tbody tr th {\n",
       "        vertical-align: top;\n",
       "    }\n",
       "\n",
       "    .dataframe thead th {\n",
       "        text-align: right;\n",
       "    }\n",
       "</style>\n",
       "<table border=\"1\" class=\"dataframe\">\n",
       "  <thead>\n",
       "    <tr style=\"text-align: right;\">\n",
       "      <th></th>\n",
       "      <th>uniprot_id</th>\n",
       "      <th>name</th>\n",
       "      <th>description</th>\n",
       "      <th>species</th>\n",
       "      <th>sequence</th>\n",
       "    </tr>\n",
       "  </thead>\n",
       "  <tbody>\n",
       "    <tr>\n",
       "      <th>108_SHEEP</th>\n",
       "      <td>A0A6P3E3Z9</td>\n",
       "      <td>A0A6P3E3Z9_SHEEP</td>\n",
       "      <td>Uncharacterized protein</td>\n",
       "      <td>Ovis aries (Sheep)</td>\n",
       "      <td>MTENSTSTPAAKPKRAKASKKSTDHPKYSDMIVAAIQAEKNRAGSS...</td>\n",
       "    </tr>\n",
       "    <tr>\n",
       "      <th>74_9SAUR</th>\n",
       "      <td>A0A6I9XPX0</td>\n",
       "      <td>A0A6I9XPX0_9SAUR</td>\n",
       "      <td>8-amino-7-oxononanoate synthase-like</td>\n",
       "      <td>Thamnophis sirtalis</td>\n",
       "      <td>MWCSQFFRSPFVLGQCSPSRAQSALAQLKHLLEGELEGIRGAGTWK...</td>\n",
       "    </tr>\n",
       "    <tr>\n",
       "      <th>186_CAEBR</th>\n",
       "      <td>A8Y2Z3</td>\n",
       "      <td>A8Y2Z3_CAEBR</td>\n",
       "      <td>Protein CBG22701</td>\n",
       "      <td>Caenorhabditis briggsae</td>\n",
       "      <td>MHCFAITPTPEGSPAPEDSPVAAQTTPKRPAATPAKARKAKRGPGR...</td>\n",
       "    </tr>\n",
       "  </tbody>\n",
       "</table>\n",
       "</div>"
      ],
      "text/plain": [
       "           uniprot_id              name                           description  \\\n",
       "108_SHEEP  A0A6P3E3Z9  A0A6P3E3Z9_SHEEP               Uncharacterized protein   \n",
       "74_9SAUR   A0A6I9XPX0  A0A6I9XPX0_9SAUR  8-amino-7-oxononanoate synthase-like   \n",
       "186_CAEBR      A8Y2Z3      A8Y2Z3_CAEBR                      Protein CBG22701   \n",
       "\n",
       "                           species  \\\n",
       "108_SHEEP       Ovis aries (Sheep)   \n",
       "74_9SAUR       Thamnophis sirtalis   \n",
       "186_CAEBR  Caenorhabditis briggsae   \n",
       "\n",
       "                                                    sequence  \n",
       "108_SHEEP  MTENSTSTPAAKPKRAKASKKSTDHPKYSDMIVAAIQAEKNRAGSS...  \n",
       "74_9SAUR   MWCSQFFRSPFVLGQCSPSRAQSALAQLKHLLEGELEGIRGAGTWK...  \n",
       "186_CAEBR  MHCFAITPTPEGSPAPEDSPVAAQTTPKRPAATPAKARKAKRGPGR...  "
      ]
     },
     "execution_count": 44,
     "metadata": {},
     "output_type": "execute_result"
    }
   ],
   "source": [
    "# Filtering off\n",
    "filtered = templates[templates.apply(lambda row: max([req in row['description'] for req in required]), axis=1)]\n",
    "\n",
    "# Displaying proteins that were filtered off\n",
    "templates.loc[list(set(templates.index) - set(filtered.index))]"
   ]
  },
  {
   "cell_type": "code",
   "execution_count": 45,
   "metadata": {},
   "outputs": [],
   "source": [
    "# Saving to metadata\n",
    "metadata = {'templates': filtered.to_dict(orient='index')}\n",
    "with open(metadata_path, 'w') as file:\n",
    "    json.dump(metadata, file, indent=4)"
   ]
  },
  {
   "attachments": {},
   "cell_type": "markdown",
   "metadata": {},
   "source": [
    "## Generating sequences for simulations"
   ]
  },
  {
   "attachments": {},
   "cell_type": "markdown",
   "metadata": {},
   "source": [
    "This section uses general code blocks to assemble IDR sequences and save them as FASTA files and metadata .json files.\n",
    "\n",
    "Generating data requires a starting metadata .json file containing UniProt IDs (See `~/exp/README.md`)"
   ]
  },
  {
   "attachments": {},
   "cell_type": "markdown",
   "metadata": {},
   "source": [
    "#### How to prepare data\n",
    "1. **Specify experiment**\n",
    "2. **Specify variants**\n",
    "3. **Specify IDR region**\n",
    "4. **Generate data**\n",
    "5. **Save sequences**\n",
    "6. **Save metadata**"
   ]
  },
  {
   "attachments": {},
   "cell_type": "markdown",
   "metadata": {},
   "source": [
    "### 1. Experiment name"
   ]
  },
  {
   "cell_type": "code",
   "execution_count": 24,
   "metadata": {},
   "outputs": [],
   "source": [
    "experiment = 'initial'"
   ]
  },
  {
   "cell_type": "code",
   "execution_count": 46,
   "metadata": {},
   "outputs": [],
   "source": [
    "experiment = 'ortho_h1-0'"
   ]
  },
  {
   "cell_type": "code",
   "execution_count": 7,
   "metadata": {},
   "outputs": [],
   "source": [
    "experiment = 'para_h1'"
   ]
  },
  {
   "attachments": {},
   "cell_type": "markdown",
   "metadata": {},
   "source": [
    "### 2. Variant types"
   ]
  },
  {
   "cell_type": "code",
   "execution_count": 18,
   "metadata": {},
   "outputs": [],
   "source": [
    "# All\n",
    "variants = list(data_utils.variant_types.keys())"
   ]
  },
  {
   "cell_type": "code",
   "execution_count": 8,
   "metadata": {},
   "outputs": [],
   "source": [
    "# Only wildtype\n",
    "variants = 'wt'"
   ]
  },
  {
   "attachments": {},
   "cell_type": "markdown",
   "metadata": {},
   "source": [
    "### 3. IDR region"
   ]
  },
  {
   "cell_type": "code",
   "execution_count": 9,
   "metadata": {},
   "outputs": [],
   "source": [
    "# CTD\n",
    "i_idr=-1\n",
    "length_order=False\n",
    "region_filter = ['CTD']"
   ]
  },
  {
   "cell_type": "code",
   "execution_count": null,
   "metadata": {},
   "outputs": [],
   "source": [
    "# NTD\n",
    "i_idr=0\n",
    "length_order=True\n",
    "region_filter = ['NTD']"
   ]
  },
  {
   "cell_type": "code",
   "execution_count": null,
   "metadata": {},
   "outputs": [],
   "source": [
    "# Longest IDR\n",
    "i_idr=0\n",
    "length_order=True\n",
    "region_filter = ['NTD', 'INT', 'CTD']"
   ]
  },
  {
   "attachments": {},
   "cell_type": "markdown",
   "metadata": {},
   "source": [
    "### 4. Generating data"
   ]
  },
  {
   "cell_type": "code",
   "execution_count": 10,
   "metadata": {},
   "outputs": [
    {
     "name": "stderr",
     "output_type": "stream",
     "text": [
      "  0%|          | 0/10 [00:00<?, ?it/s]/storage1/fknudsen/software/miniconda3/envs/orthoidp/lib/python3.10/site-packages/Bio/SeqFeature.py:1940: BiopythonDeprecationWarning: Alias location.position is deprecated and will be removed in a future release. Use location directly, or int(location). However, that will fail for UnknownPosition, and for OneOfPosition and WithinPosition will give the default rather than left-most value.\n",
      "  warnings.warn(\n",
      "100%|██████████| 10/10 [00:02<00:00,  4.41it/s]\n"
     ]
    },
    {
     "data": {
      "text/html": [
       "<div>\n",
       "<style scoped>\n",
       "    .dataframe tbody tr th:only-of-type {\n",
       "        vertical-align: middle;\n",
       "    }\n",
       "\n",
       "    .dataframe tbody tr th {\n",
       "        vertical-align: top;\n",
       "    }\n",
       "\n",
       "    .dataframe thead th {\n",
       "        text-align: right;\n",
       "    }\n",
       "</style>\n",
       "<table border=\"1\" class=\"dataframe\">\n",
       "  <thead>\n",
       "    <tr style=\"text-align: right;\">\n",
       "      <th></th>\n",
       "      <th>template</th>\n",
       "      <th>sequence</th>\n",
       "      <th>location</th>\n",
       "      <th>region</th>\n",
       "      <th>variant</th>\n",
       "    </tr>\n",
       "    <tr>\n",
       "      <th>template</th>\n",
       "      <th></th>\n",
       "      <th></th>\n",
       "      <th></th>\n",
       "      <th></th>\n",
       "      <th></th>\n",
       "    </tr>\n",
       "  </thead>\n",
       "  <tbody>\n",
       "    <tr>\n",
       "      <th>H1-0</th>\n",
       "      <td>H1-0</td>\n",
       "      <td>TKGVGASGSFRLAKSDEPKKSVAFKKTKKEIKKVATPKKASKPKKA...</td>\n",
       "      <td>83:194</td>\n",
       "      <td>CTD</td>\n",
       "      <td>Wild type</td>\n",
       "    </tr>\n",
       "    <tr>\n",
       "      <th>H1-1</th>\n",
       "      <td>H1-1</td>\n",
       "      <td>GTLVQTKGTGASGSFKLNKKASSVETKPGASKVATKTKATGASKKL...</td>\n",
       "      <td>93:215</td>\n",
       "      <td>CTD</td>\n",
       "      <td>Wild type</td>\n",
       "    </tr>\n",
       "    <tr>\n",
       "      <th>H1-2</th>\n",
       "      <td>H1-2</td>\n",
       "      <td>TLVQTKGTGASGSFKLNKKAASGEAKPKVKKAGGTKPKKPVGAAKK...</td>\n",
       "      <td>91:213</td>\n",
       "      <td>CTD</td>\n",
       "      <td>Wild type</td>\n",
       "    </tr>\n",
       "    <tr>\n",
       "      <th>H1-3</th>\n",
       "      <td>H1-3</td>\n",
       "      <td>SKGTLVQTKGTGASGSFKLNKKAASGEGKPKAKKAGAAKPRKPAGA...</td>\n",
       "      <td>89:221</td>\n",
       "      <td>CTD</td>\n",
       "      <td>Wild type</td>\n",
       "    </tr>\n",
       "    <tr>\n",
       "      <th>H1-4</th>\n",
       "      <td>H1-4</td>\n",
       "      <td>TLVQTKGTGASGSFKLNKKAASGEAKPKAKKAGAAKAKKPAGAAKK...</td>\n",
       "      <td>91:219</td>\n",
       "      <td>CTD</td>\n",
       "      <td>Wild type</td>\n",
       "    </tr>\n",
       "    <tr>\n",
       "      <th>H1-5</th>\n",
       "      <td>H1-5</td>\n",
       "      <td>QTKGTGASGSFKLNKKAASGEAKPKAKKAGAAKAKKPAGATPKKAK...</td>\n",
       "      <td>97:226</td>\n",
       "      <td>CTD</td>\n",
       "      <td>Wild type</td>\n",
       "    </tr>\n",
       "    <tr>\n",
       "      <th>H1-6</th>\n",
       "      <td>H1-6</td>\n",
       "      <td>IPKSTRSKAKKSVSAKTKKLVLSRDSKSPKTAKTNKRAKKPRATTP...</td>\n",
       "      <td>115:207</td>\n",
       "      <td>CTD</td>\n",
       "      <td>Wild type</td>\n",
       "    </tr>\n",
       "    <tr>\n",
       "      <th>H1-7</th>\n",
       "      <td>H1-7</td>\n",
       "      <td>KVPKPRRKPGRARQEEGTRAPWRTPAAPRSSRRRRQPLRKAARKAR...</td>\n",
       "      <td>123:255</td>\n",
       "      <td>CTD</td>\n",
       "      <td>Wild type</td>\n",
       "    </tr>\n",
       "    <tr>\n",
       "      <th>H1-8</th>\n",
       "      <td>H1-8</td>\n",
       "      <td>ATGSFKLVPKHKKKIQPRKMAPATAPRRAGEAKGKGPKKPSEAKED...</td>\n",
       "      <td>120:346</td>\n",
       "      <td>CTD</td>\n",
       "      <td>Wild type</td>\n",
       "    </tr>\n",
       "    <tr>\n",
       "      <th>H1-10</th>\n",
       "      <td>H1-10</td>\n",
       "      <td>GTGANGSFKLNRKKLEGGGERRGAPAAATAPAPTAHKAKKAAPGAA...</td>\n",
       "      <td>106:213</td>\n",
       "      <td>CTD</td>\n",
       "      <td>Wild type</td>\n",
       "    </tr>\n",
       "  </tbody>\n",
       "</table>\n",
       "</div>"
      ],
      "text/plain": [
       "         template                                           sequence location  \\\n",
       "template                                                                        \n",
       "H1-0         H1-0  TKGVGASGSFRLAKSDEPKKSVAFKKTKKEIKKVATPKKASKPKKA...   83:194   \n",
       "H1-1         H1-1  GTLVQTKGTGASGSFKLNKKASSVETKPGASKVATKTKATGASKKL...   93:215   \n",
       "H1-2         H1-2  TLVQTKGTGASGSFKLNKKAASGEAKPKVKKAGGTKPKKPVGAAKK...   91:213   \n",
       "H1-3         H1-3  SKGTLVQTKGTGASGSFKLNKKAASGEGKPKAKKAGAAKPRKPAGA...   89:221   \n",
       "H1-4         H1-4  TLVQTKGTGASGSFKLNKKAASGEAKPKAKKAGAAKAKKPAGAAKK...   91:219   \n",
       "H1-5         H1-5  QTKGTGASGSFKLNKKAASGEAKPKAKKAGAAKAKKPAGATPKKAK...   97:226   \n",
       "H1-6         H1-6  IPKSTRSKAKKSVSAKTKKLVLSRDSKSPKTAKTNKRAKKPRATTP...  115:207   \n",
       "H1-7         H1-7  KVPKPRRKPGRARQEEGTRAPWRTPAAPRSSRRRRQPLRKAARKAR...  123:255   \n",
       "H1-8         H1-8  ATGSFKLVPKHKKKIQPRKMAPATAPRRAGEAKGKGPKKPSEAKED...  120:346   \n",
       "H1-10       H1-10  GTGANGSFKLNRKKLEGGGERRGAPAAATAPAPTAHKAKKAAPGAA...  106:213   \n",
       "\n",
       "         region    variant  \n",
       "template                    \n",
       "H1-0        CTD  Wild type  \n",
       "H1-1        CTD  Wild type  \n",
       "H1-2        CTD  Wild type  \n",
       "H1-3        CTD  Wild type  \n",
       "H1-4        CTD  Wild type  \n",
       "H1-5        CTD  Wild type  \n",
       "H1-6        CTD  Wild type  \n",
       "H1-7        CTD  Wild type  \n",
       "H1-8        CTD  Wild type  \n",
       "H1-10       CTD  Wild type  "
      ]
     },
     "execution_count": 10,
     "metadata": {},
     "output_type": "execute_result"
    }
   ],
   "source": [
    "# Extracting IDRs\n",
    "# Getting experiment json\n",
    "metadata_path = f'exp/{experiment}/{experiment}.json'\n",
    "with open(metadata_path, 'r') as file:\n",
    "    metadata = json.load(file)\n",
    "\n",
    "# Initiating DataFrame\n",
    "proteins = []\n",
    "not_IDP = []\n",
    "for id, fields in tqdm(metadata['templates'].items()):\n",
    "    try:\n",
    "        seq, loc, reg = data_utils.get_protein_idr(uniprot_id=fields['uniprot_id'], i_idr=i_idr, length_order=length_order)\n",
    "    except ValueError:\n",
    "        not_IDP.append((id, fields['uniprot_id']))\n",
    "        continue\n",
    "    proteins.append({'template': id, 'sequence': seq, 'location': loc, 'region': reg})\n",
    "if not_IDP:\n",
    "    print(f\"The following {len(not_IDP)} UniProt IDs did not return IDPs:\")\n",
    "    print(*[f\" - {uid}\\t({id})\" for id, uid in not_IDP], sep='\\n')\n",
    "data = pd.DataFrame(proteins)\n",
    "\n",
    "# Filtering according to CTD/NTD settings\n",
    "wrong_region = data[~data['region'].isin(region_filter)]\n",
    "if len(wrong_region) > 0:\n",
    "    print(f\"The following UniProt IDs had no {region_filter[0]} IDR\")\n",
    "    print(*[f\" - {metadata['templates'][i]['uniprot_id']}\" for i in wrong_region['template']],sep='\\n')\n",
    "data = data[data['region'].isin(region_filter)]\n",
    "\n",
    "# Removing fragment sequences (contains amino acid 'X')\n",
    "fragments = data[data['sequence'].str.contains('X')]\n",
    "if len(fragments) > 0:\n",
    "    print(\"The following UniProt IDs were fragments containing 'X' in their sequence\")\n",
    "    print(*[f\" - {metadata['templates'][i]['uniprot_id']}\" for i in fragments['template']],sep='\\n')\n",
    "data = data[~data['sequence'].str.contains('X')]\n",
    "\n",
    "# Expanding dataframe to include all variants\n",
    "data['variant'] = [variants]*len(data)\n",
    "if type(variants) == list:\n",
    "    data = data.explode('variant')\n",
    "    data.index = data['template'] + '_' + data['variant'].str.upper()\n",
    "else:\n",
    "    data.index = data['template']\n",
    "\n",
    "# Generating variant sequence\n",
    "data['sequence'] = data.apply(lambda row: data_utils.generate_variant(row['sequence'], row['variant']), axis=1)\n",
    "\n",
    "# Setting variant description\n",
    "data['variant'] = data.apply(lambda row: data_utils.variant_types[row['variant']]['name'], axis=1)\n",
    "\n",
    "data"
   ]
  },
  {
   "attachments": {},
   "cell_type": "markdown",
   "metadata": {},
   "source": [
    "### 5. Saving sequences"
   ]
  },
  {
   "cell_type": "code",
   "execution_count": 11,
   "metadata": {},
   "outputs": [],
   "source": [
    "# Saving sequences\n",
    "datadir = f'exp/{experiment}/data'\n",
    "os.makedirs(datadir, exist_ok=True)\n",
    "\n",
    "# Iterating over rows\n",
    "for index, cols in data.iterrows():\n",
    "    id = index.upper()\n",
    "    desc = cols['variant']\n",
    "    seq = cols['sequence']\n",
    "\n",
    "    # Saving as FASTA format (Though one-line sequence)\n",
    "    filepath = datadir + '/' + id + '.fasta'\n",
    "    with open(filepath, 'w') as file:\n",
    "        file.write('>' + id + ' ' + desc + '\\n')\n",
    "        file.write(seq + '\\n')"
   ]
  },
  {
   "attachments": {},
   "cell_type": "markdown",
   "metadata": {},
   "source": [
    "### 6. Saving metadata"
   ]
  },
  {
   "cell_type": "code",
   "execution_count": 12,
   "metadata": {},
   "outputs": [],
   "source": [
    "# Saving metadata\n",
    "metadata['data'] = data.to_dict(orient='index')\n",
    "with open(metadata_path, 'w') as file:\n",
    "    json.dump(metadata, file, indent=4)"
   ]
  },
  {
   "attachments": {},
   "cell_type": "markdown",
   "metadata": {},
   "source": [
    "## Generating average sequence"
   ]
  },
  {
   "attachments": {},
   "cell_type": "markdown",
   "metadata": {},
   "source": [
    "This section uses general code blocks to generate average sequences and save them as FASTA files and metadata .json files.\n",
    "\n",
    "Generating data requires a starting metadata .json file containing template sequences to average over."
   ]
  },
  {
   "attachments": {},
   "cell_type": "markdown",
   "metadata": {},
   "source": [
    "#### 1. Template sequences"
   ]
  },
  {
   "cell_type": "code",
   "execution_count": 1,
   "metadata": {},
   "outputs": [],
   "source": [
    "template_experiment = 'ortho_h1-0'"
   ]
  },
  {
   "attachments": {},
   "cell_type": "markdown",
   "metadata": {},
   "source": [
    "#### 2. Average experiment meta data"
   ]
  },
  {
   "cell_type": "code",
   "execution_count": 2,
   "metadata": {},
   "outputs": [],
   "source": [
    "avg_name = 'H1-0_AVG'"
   ]
  },
  {
   "cell_type": "code",
   "execution_count": 3,
   "metadata": {},
   "outputs": [],
   "source": [
    "avg_experiment = 'idpevo_h1-0'"
   ]
  },
  {
   "attachments": {},
   "cell_type": "markdown",
   "metadata": {},
   "source": [
    "#### 3. Generating average sequence"
   ]
  },
  {
   "cell_type": "code",
   "execution_count": 54,
   "metadata": {},
   "outputs": [],
   "source": [
    "# Getting experiment json\n",
    "metadata_path = f'exp/{template_experiment}/{template_experiment}.json'\n",
    "with open(metadata_path, 'r') as file:\n",
    "    metadata = json.load(file)\n",
    "templates = pd.DataFrame(metadata['templates']).transpose()\n",
    "data = pd.DataFrame(metadata['data']).transpose()"
   ]
  },
  {
   "cell_type": "code",
   "execution_count": 52,
   "metadata": {},
   "outputs": [],
   "source": [
    "# Getting previous results\n",
    "ortho = pd.read_pickle('exp/ortho_h1-0/results/analysis.pkl')"
   ]
  },
  {
   "cell_type": "code",
   "execution_count": 55,
   "metadata": {},
   "outputs": [],
   "source": [
    "# Filtering sequences by sequence length (75 <= length <= 125)\n",
    "data = data[~ortho.outlier]\n",
    "templates = templates.loc[data.index]"
   ]
  },
  {
   "cell_type": "code",
   "execution_count": 56,
   "metadata": {},
   "outputs": [
    {
     "data": {
      "text/plain": [
       "'KEAVAKASAKKSKKTKSKPAARVKEDVPAPTRVKPFKKPKASKSPVKKAKAAKPAAKKKKSSKKKLKKRTKGKPKGTAKPASKAPKKTAPKKAKAGKPKKVKAKATVPA'"
      ]
     },
     "execution_count": 56,
     "metadata": {},
     "output_type": "execute_result"
    }
   ],
   "source": [
    "# Generating average\n",
    "avg = data_utils.average_sequence(data['sequence'])\n",
    "avg"
   ]
  },
  {
   "attachments": {},
   "cell_type": "markdown",
   "metadata": {},
   "source": [
    "#### 4. Saving sequence"
   ]
  },
  {
   "cell_type": "code",
   "execution_count": 58,
   "metadata": {},
   "outputs": [],
   "source": [
    "# Saving sequence\n",
    "file_path = f'exp/{avg_experiment}/data/{avg_name}.fasta'\n",
    "with open(file_path, 'w') as file:\n",
    "    file.write(\">\" + avg_name + \"\\n\")\n",
    "    file.write(avg + \"\\n\")"
   ]
  },
  {
   "attachments": {},
   "cell_type": "markdown",
   "metadata": {},
   "source": [
    "#### 5. Saving meta data"
   ]
  },
  {
   "cell_type": "code",
   "execution_count": 59,
   "metadata": {},
   "outputs": [],
   "source": [
    "# Saving new experiment json\n",
    "metadata['data'] = {avg_name: {'template': list(templates.index), 'sequence': avg, 'location': None, 'region': 'CTD', 'variant': 'Averaged'}}\n",
    "metadata_path = f'exp/{avg_experiment}/{avg_experiment}.json'\n",
    "with open(metadata_path, 'w') as file:\n",
    "    json.dump(metadata, file, indent=4)"
   ]
  },
  {
   "attachments": {},
   "cell_type": "markdown",
   "metadata": {},
   "source": [
    "## Disorder predictions"
   ]
  },
  {
   "attachments": {},
   "cell_type": "markdown",
   "metadata": {},
   "source": [
    "This section does a sanity check of the disorder predictions of MobiDB, by checking the predictions of the disorder predictoors used by MobiDB.\n",
    "\n",
    "List of predictors can be found in Table 1 of [Piovesan et al. 2021](https://academic.oup.com/nar/article/49/D1/D361/6006190):\n",
    "- ESpritz-DisProt\n",
    "- ESpritz-NMR\n",
    "- ESpritz-Xray\n",
    "- IUPred-Long\n",
    "- IUPred-Short\n",
    "- VSL2b\n",
    "- DisEMBL-465\n",
    "- DisEMBL-HotLoops\n",
    "- GlobPlot\n",
    "- JRONN"
   ]
  },
  {
   "cell_type": "code",
   "execution_count": 18,
   "metadata": {},
   "outputs": [],
   "source": [
    "experiment = 'ortho_h1-0'"
   ]
  },
  {
   "cell_type": "code",
   "execution_count": 19,
   "metadata": {},
   "outputs": [
    {
     "name": "stderr",
     "output_type": "stream",
     "text": [
      "/tmp/ipykernel_19743/4196263198.py:55: UserWarning: Matplotlib is currently using module://matplotlib_inline.backend_inline, which is a non-GUI backend, so cannot show the figure.\n",
      "  fig.show()\n"
     ]
    },
    {
     "data": {
      "image/png": "[encoded data removed]",
      "text/plain": [
       "<Figure size 1400x1400 with 12 Axes>"
      ]
     },
     "metadata": {},
     "output_type": "display_data"
    }
   ],
   "source": [
    "# Sampling uniprot IDs\n",
    "metadata = analyse_utils.load_metadata(f'exp/{experiment}/{experiment}.json')\n",
    "metadata = metadata.sample(12)\n",
    "metadata.set_index('uniprot_id', inplace=True, drop=False)\n",
    "uniprot_ids = metadata.uniprot_id\n",
    "\n",
    "# Building fig layout\n",
    "cols = int(np.floor(np.sqrt(len(uniprot_ids))))\n",
    "rows = len(uniprot_ids)//cols\n",
    "fig, axes = plt.subplots(rows, cols, constrained_layout=True)\n",
    "\n",
    "# Looping over uniprot IDs\n",
    "for i, uid in enumerate(uniprot_ids):\n",
    "    if rows == 1:\n",
    "        ax = axes\n",
    "    elif cols == 1:\n",
    "        ax = axes[i]\n",
    "    else:\n",
    "        ax = axes[i%rows,i//rows]\n",
    "\n",
    "    # Querying MobiDB\n",
    "    response = requests.get(f\"https://mobidb.org/api/download\", params={'acc': [uid]}).json()\n",
    "    disorder_regions = {k.split('-')[-1]: response[k]['regions'] for k in response if 'disorder' in k and 'regions' in response[k]}\n",
    "    disorder_scores = {k.split('-')[-1]: response[k]['scores'] for k in response if 'disorder' in k and 'scores' in response[k]}\n",
    "\n",
    "    # Plotting MobiDB data\n",
    "    for j, k in enumerate(disorder_regions):\n",
    "        # Plotting scores\n",
    "        if k in disorder_scores:\n",
    "            ax.plot(range(len(response['sequence'])), [v-0.5+j for v in disorder_scores[k]], 'r--', alpha=0.5)\n",
    "        # Plotting predicted IDRs\n",
    "        for region in disorder_regions[k]:\n",
    "            start, end = region\n",
    "\n",
    "            # Painting C-terminal IDRs\n",
    "            if end == len(response['sequence']):\n",
    "                c = 'b'\n",
    "            else:\n",
    "                c = 'k'\n",
    "                \n",
    "            ax.hlines(j, start, end, c)\n",
    "\n",
    "    # Plotting annoted region\n",
    "    start, end = metadata.location[uid].split(':')\n",
    "    ax.hlines(len(disorder_regions), int(start), int(end), 'g')\n",
    "\n",
    "    # Setting labels\n",
    "    ax.set_xlim(0, len(response['sequence']))\n",
    "    ax.set_yticks(range(len(disorder_regions)+1))\n",
    "    ax.set_yticklabels([*disorder_regions.keys(), 'FINAL'])\n",
    "    ax.tick_params(labelsize=7)\n",
    "    ax.set_title(metadata.loc[uid,'species'], size=10)\n",
    "\n",
    "fig.set_size_inches(14, 14)\n",
    "fig.show()"
   ]
  }
 ],
 "metadata": {
  "kernelspec": {
   "display_name": "orthoidp",
   "language": "python",
   "name": "python3"
  },
  "language_info": {
   "codemirror_mode": {
    "name": "ipython",
    "version": 3
   },
   "file_extension": ".py",
   "mimetype": "text/x-python",
   "name": "python",
   "nbconvert_exporter": "python",
   "pygments_lexer": "ipython3",
   "version": "3.10.9"
  },
  "orig_nbformat": 4,
  "vscode": {
   "interpreter": {
    "hash": "5cf7a75472cea797e0aded0ea9e5d9e317f1ebbfd81a3bae087611c209ab141a"
   }
  }
 },
 "nbformat": 4,
 "nbformat_minor": 2
}
