{
 "cells": [
  {
   "attachments": {},
   "cell_type": "markdown",
   "metadata": {},
   "source": [
    "# Remote"
   ]
  },
  {
   "cell_type": "code",
   "execution_count": 11,
   "metadata": {},
   "outputs": [
    {
     "name": "stdout",
     "output_type": "stream",
     "text": [
      "CONTENTS IN ~/OrthoIDP/exp/prota_h1-0 AT FEND01:\n",
      "data\n",
      "prota_h1-0.ipynb\n",
      "prota_h1-0.json\n",
      "results\n",
      "submit_single_chain.sh\n",
      "\n",
      "CONTENTS IN ~/OrthoIDP/exp/prota_h1-0/results AT FEND01:\n",
      "single_chain\n",
      "single_chain.err\n",
      "single_chain.out\n"
     ]
    }
   ],
   "source": [
    "# Set working directory\n",
    "domain = \"fend01\"\n",
    "dir = \"exp/prota_h1-0\"\n",
    "partition = \"sbinlab_gpu\"\n",
    "\n",
    "remotedir = f\"~/OrthoIDP/{dir}\"\n",
    "\n",
    "print(f\"CONTENTS IN {remotedir} AT {domain.upper()}:\")\n",
    "!ssh $domain \"cd $remotedir && ls\"\n",
    "\n",
    "print(f\"\\nCONTENTS IN {remotedir}/results AT {domain.upper()}:\")\n",
    "!ssh $domain \"cd $remotedir/results && ls\""
   ]
  },
  {
   "cell_type": "code",
   "execution_count": 2,
   "metadata": {},
   "outputs": [
    {
     "name": "stdout",
     "output_type": "stream",
     "text": [
      "/etc/profile.d/lang.sh: line 19: warning: setlocale: LC_CTYPE: cannot change locale (UTF-8): No such file or directory\n",
      "PARTITION   AVAIL  TIMELIMIT  NODES  STATE NODELIST\n",
      "sbinlab_gpu    up   infinite      1 drain* node152\n",
      "sbinlab_gpu    up   infinite      2    mix node[150-151]\n"
     ]
    }
   ],
   "source": [
    "# Check availability\n",
    "!ssh $domain sinfo -p $partition"
   ]
  },
  {
   "cell_type": "code",
   "execution_count": 11,
   "metadata": {},
   "outputs": [
    {
     "name": "stdout",
     "output_type": "stream",
     "text": [
      "             JOBID PARTITION     NAME     USER ST       TIME  NODES NODELIST(REASON)\n",
      "          38863362 sbinlab_g h1-0_min fknudsen  R 6-08:02:54      1 node150\n",
      "          38863363 sbinlab_g h1-0_max fknudsen  R 6-08:02:54      1 node150\n",
      "          38868112 sbinlab_g h1-0_con fknudsen  R 6-02:27:13      1 node150\n"
     ]
    }
   ],
   "source": [
    "# Check queue\n",
    "!ssh $domain \"squeue -u fknudsen\""
   ]
  },
  {
   "cell_type": "code",
   "execution_count": 27,
   "metadata": {},
   "outputs": [
    {
     "name": "stdout",
     "output_type": "stream",
     "text": [
      "#!/bin/bash\n",
      "#SBATCH --job-name=initial\n",
      "#SBATCH --partition=sbinlab_gpu\n",
      "#SBATCH --array=0-5%6\n",
      "#SBATCH --nodes=1\n",
      "#SBATCH --cpus-per-task=1\n",
      "#SBATCH --gres=gpu:1\n",
      "#SBATCH -t 24:00:00\n",
      "#SBATCH -o results/out\n",
      "#SBATCH -e results/err\n",
      "\n",
      "\n",
      "# Getting job input file\n",
      "input_files=($(ls data/*.fasta))\n",
      "input_file=${input_files[$SLURM_ARRAY_TASK_ID]}\n",
      "\n",
      "# Displaying job info\n",
      "echo \"[`date`] STARTED Job Array ID: $SLURM_ARRAY_TASK_ID | Job ID: $SLURM_JOB_ID | Input: $input_file\"\n",
      "\n",
      "# DeiC env settings\n",
      "source /groups/sbinlab/fpesce/.bashrc\n",
      "conda activate openmm\n",
      "\n",
      "# Submitting simulation\n",
      "python ../../src/simulate_openmm.py -f $input_file\n",
      "\n",
      "echo \"[`date`] FINISHED Job Array ID: $SLURM_ARRAY_TASK_ID | Job ID: $SLURM_JOB_ID | Input: $input_file\"\n"
     ]
    }
   ],
   "source": [
    "# Check submit script\n",
    "!ssh $domain \"cat $remotedir/submit.sh\""
   ]
  },
  {
   "cell_type": "code",
   "execution_count": 13,
   "metadata": {},
   "outputs": [
    {
     "name": "stdout",
     "output_type": "stream",
     "text": [
      "/etc/profile.d/lang.sh: line 19: warning: setlocale: LC_CTYPE: cannot change locale (UTF-8): No such file or directory\n",
      "/Users/frederikespersenknudsen/Local/OrthoIDP\n"
     ]
    }
   ],
   "source": [
    "# Submit\n",
    "!ssh $domain \"cd $remotedir && sbatch submit.sh\""
   ]
  },
  {
   "cell_type": "code",
   "execution_count": null,
   "metadata": {},
   "outputs": [],
   "source": [
    "# Cancel job\n",
    "jobid = \"\"\n",
    "!ssh $domain scancel $jobid"
   ]
  },
  {
   "cell_type": "code",
   "execution_count": 12,
   "metadata": {},
   "outputs": [
    {
     "name": "stdout",
     "output_type": "stream",
     "text": [
      "restart.chk                                   100%   87KB   2.6MB/s   00:00    \n",
      "system.xml                                    100%   27KB   1.1MB/s   00:00    \n",
      "simulate.log                                  100%  652    39.6KB/s   00:00    \n",
      "traj.log                                      100% 2376KB   7.5MB/s   00:00    \n",
      "traj.dcd                                      100%   44MB  10.1MB/s   00:04    \n",
      "top.pdb                                       100%   11KB 507.9KB/s   00:00    \n",
      "traj.dcd                                      100%   13MB   9.2MB/s   00:01    \n",
      "system.xml                                    100% 8279   732.2KB/s   00:00    \n",
      "top.pdb                                       100% 3141   128.2KB/s   00:00    \n",
      "traj.log                                      100% 2375KB   5.2MB/s   00:00    \n",
      "restart.chk                                   100%   76KB   2.4MB/s   00:00    \n",
      "simulate.log                                  100%  567    49.6KB/s   00:00    \n",
      "simulate.log                                  100%  650    32.6KB/s   00:00    \n",
      "top.pdb                                       100%   11KB 847.6KB/s   00:00    \n",
      "traj.log                                      100% 2370KB   7.2MB/s   00:00    \n",
      "restart.chk                                   100%   87KB 664.2KB/s   00:00    \n",
      "traj.dcd                                      100%   44MB  10.4MB/s   00:04    \n",
      "system.xml                                    100%   27KB 555.1KB/s   00:00    \n",
      "system.xml                                    100% 8296   315.2KB/s   00:00    \n",
      "traj.log                                      100% 2277KB   7.4MB/s   00:00    \n",
      "simulate.log                                  100%  565    27.3KB/s   00:00    \n",
      "traj.dcd                                      100%   13MB   8.6MB/s   00:01    \n",
      "top.pdb                                       100% 3141   195.0KB/s   00:00    \n",
      "restart.chk                                   100%   76KB   2.9MB/s   00:00    \n",
      "simulate.log                                  100%  652    45.2KB/s   00:00    \n",
      "restart.chk                                   100%   87KB 535.3KB/s   00:00    \n",
      "top.pdb                                       100%   11KB 688.0KB/s   00:00    \n",
      "traj.log                                      100% 2352KB   7.2MB/s   00:00    \n",
      "traj.dcd                                      100%   44MB  10.4MB/s   00:04    \n",
      "system.xml                                    100%   27KB   1.5MB/s   00:00    \n",
      "traj.dcd                                      100%   13MB   8.9MB/s   00:01    \n",
      "restart.chk                                   100%   76KB   1.5MB/s   00:00    \n",
      "top.pdb                                       100% 3141   243.6KB/s   00:00    \n",
      "simulate.log                                  100%  567    34.2KB/s   00:00    \n",
      "system.xml                                    100% 8278    85.5KB/s   00:00    \n",
      "traj.log                                      100% 2277KB   6.0MB/s   00:00    \n",
      "restart.chk                                   100%   76KB   2.7MB/s   00:00    \n",
      "top.pdb                                       100% 3141   236.4KB/s   00:00    \n",
      "traj.dcd                                      100%   13MB   9.0MB/s   00:01    \n",
      "traj.log                                      100% 2375KB   6.6MB/s   00:00    \n",
      "simulate.log                                  100%  567     8.4KB/s   00:00    \n",
      "system.xml                                    100% 8279   430.2KB/s   00:00    \n",
      "restart.chk                                   100%   87KB   2.8MB/s   00:00    \n",
      "simulate.log                                  100%  652    32.9KB/s   00:00    \n",
      "system.xml                                    100%   27KB   1.3MB/s   00:00    \n",
      "traj.log                                      100% 2375KB   7.5MB/s   00:00    \n",
      "traj.dcd                                      100%   44MB  10.4MB/s   00:04    \n",
      "top.pdb                                       100%   11KB 804.8KB/s   00:00    \n",
      "traj.log                                      100% 2374KB   7.8MB/s   00:00    \n",
      "restart.chk                                   100%   87KB   2.9MB/s   00:00    \n",
      "top.pdb                                       100%   11KB 499.0KB/s   00:00    \n",
      "simulate.log                                  100%  652    33.2KB/s   00:00    \n",
      "system.xml                                    100%   27KB   1.3MB/s   00:00    \n",
      "traj.dcd                                      100%   44MB  10.2MB/s   00:04    \n",
      "simulate.log                                  100%  567    25.3KB/s   00:00    \n",
      "traj.dcd                                      100%   13MB   9.4MB/s   00:01    \n",
      "top.pdb                                       100% 3141   198.9KB/s   00:00    \n",
      "traj.log                                      100% 2374KB   6.9MB/s   00:00    \n",
      "restart.chk                                   100%   76KB 588.3KB/s   00:00    \n",
      "system.xml                                    100% 8279   426.3KB/s   00:00    \n",
      "restart.chk                                   100%   76KB   2.4MB/s   00:00    \n",
      "top.pdb                                       100% 3141   133.5KB/s   00:00    \n",
      "traj.dcd                                      100%   13MB   9.0MB/s   00:01    \n",
      "simulate.log                                  100%  567    32.9KB/s   00:00    \n",
      "system.xml                                    100% 8279   456.6KB/s   00:00    \n",
      "traj.log                                      100% 2375KB   6.2MB/s   00:00    \n",
      "restart.chk                                   100%   87KB   2.2MB/s   00:00    \n",
      "simulate.log                                  100%  652    36.8KB/s   00:00    \n",
      "traj.dcd                                      100%   44MB   9.5MB/s   00:04    \n",
      "traj.log                                      100% 2317KB   7.6MB/s   00:00    \n",
      "top.pdb                                       100%   11KB 474.8KB/s   00:00    \n",
      "system.xml                                    100%   27KB   1.3MB/s   00:00    \n",
      "traj.log                                      100% 2374KB   7.9MB/s   00:00    \n",
      "top.pdb                                       100%   11KB   1.1MB/s   00:00    \n",
      "system.xml                                    100%   27KB 815.0KB/s   00:00    \n",
      "restart.chk                                   100%   87KB 946.7KB/s   00:00    \n",
      "traj.dcd                                      100%   44MB  10.4MB/s   00:04    \n",
      "simulate.log                                  100%  652    44.6KB/s   00:00    \n",
      "simulate.log                                  100%  567    38.3KB/s   00:00    \n",
      "restart.chk                                   100%   76KB   2.5MB/s   00:00    \n",
      "traj.log                                      100% 2375KB   7.6MB/s   00:00    \n",
      "system.xml                                    100% 8276   343.2KB/s   00:00    \n",
      "traj.dcd                                      100%   13MB   8.1MB/s   00:01    \n",
      "top.pdb                                       100% 3141   120.1KB/s   00:00    \n",
      "restart.chk                                   100%   87KB   3.1MB/s   00:00    \n",
      "traj.log                                      100% 2374KB   6.5MB/s   00:00    \n",
      "simulate.log                                  100%  686    56.2KB/s   00:00    \n",
      "traj.dcd                                      100%   44MB  10.0MB/s   00:04    \n",
      "top.pdb                                       100%   11KB 607.8KB/s   00:00    \n",
      "system.xml                                    100%   27KB 955.5KB/s   00:00    \n",
      "traj.log                                      100% 2373KB   6.8MB/s   00:00    \n",
      "system.xml                                    100% 8280   229.3KB/s   00:00    \n",
      "top.pdb                                       100% 3141    74.0KB/s   00:00    \n",
      "restart.chk                                   100%   76KB   2.4MB/s   00:00    \n",
      "traj.dcd                                      100%   13MB   9.1MB/s   00:01    \n",
      "simulate.log                                  100%  601     7.6KB/s   00:00    \n",
      "restart.chk                                   100%   76KB   1.1MB/s   00:00    \n",
      "traj.log                                      100% 2375KB   6.7MB/s   00:00    \n",
      "top.pdb                                       100% 3141   202.7KB/s   00:00    \n",
      "simulate.log                                  100%  567    17.3KB/s   00:00    \n",
      "system.xml                                    100% 8278     1.2MB/s   00:00    \n",
      "traj.dcd                                      100%   13MB   8.9MB/s   00:01    \n",
      "simulate.log                                  100%  652    76.0KB/s   00:00    \n",
      "traj.log                                      100% 2374KB   7.0MB/s   00:00    \n",
      "system.xml                                    100%   27KB   1.1MB/s   00:00    \n",
      "restart.chk                                   100%   87KB   2.2MB/s   00:00    \n",
      "traj.dcd                                      100%   44MB   9.6MB/s   00:04    \n",
      "top.pdb                                       100%   11KB   1.4MB/s   00:00    \n",
      "single_chain.out                              100%  698    15.6KB/s   00:00    \n",
      "single_chain.err                              100%    0     0.0KB/s   00:00    \n"
     ]
    }
   ],
   "source": [
    "# Copy results to BINF\n",
    "!scp -r \"$domain:$remotedir/results\" $dir"
   ]
  },
  {
   "cell_type": "code",
   "execution_count": 6,
   "metadata": {},
   "outputs": [
    {
     "name": "stdout",
     "output_type": "stream",
     "text": [
      "0  10  4.258203\n"
     ]
    }
   ],
   "source": [
    "!ls $dir/results"
   ]
  },
  {
   "cell_type": "code",
   "execution_count": 9,
   "metadata": {},
   "outputs": [
    {
     "name": "stdout",
     "output_type": "stream",
     "text": [
      "evolution.pkl                                 100%  419KB   6.0MB/s   00:00    \n"
     ]
    }
   ],
   "source": [
    "# Copy single specific files to BINF\n",
    "filename = \"4.258203/evolution.pkl\"\n",
    "!scp \"$domain:$remotedir/results/$filename\" \"$dir/results/$filename\""
   ]
  }
 ],
 "metadata": {
  "kernelspec": {
   "display_name": "orthoidp",
   "language": "python",
   "name": "python3"
  },
  "language_info": {
   "codemirror_mode": {
    "name": "ipython",
    "version": 3
   },
   "file_extension": ".py",
   "mimetype": "text/x-python",
   "name": "python",
   "nbconvert_exporter": "python",
   "pygments_lexer": "ipython3",
   "version": "3.10.9"
  },
  "orig_nbformat": 4,
  "vscode": {
   "interpreter": {
    "hash": "5cf7a75472cea797e0aded0ea9e5d9e317f1ebbfd81a3bae087611c209ab141a"
   }
  }
 },
 "nbformat": 4,
 "nbformat_minor": 2
}
