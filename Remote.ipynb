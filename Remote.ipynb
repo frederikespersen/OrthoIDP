{
 "cells": [
  {
   "attachments": {},
   "cell_type": "markdown",
   "metadata": {},
   "source": [
    "# Remote"
   ]
  },
  {
   "cell_type": "code",
   "execution_count": 12,
   "metadata": {},
   "outputs": [
    {
     "name": "stdout",
     "output_type": "stream",
     "text": [
      "CONTENTS IN ~/OrthoIDP/exp/e1a_linkers AT FEND01:\n",
      "data\n",
      "e1a_linkers.ipynb\n",
      "e1a_linkers.json\n",
      "linker_sequences.fasta\n",
      "results\n",
      "submit.sh\n",
      "\n",
      "CONTENTS IN ~/OrthoIDP/exp/e1a_linkers/results AT FEND01:\n",
      "BA_BAdV1_linker\n",
      "BtA_BtAdV3_linker\n",
      "BtB_BtAdV2_linker\n",
      "CA_CAdV1_linker\n",
      "CA_CAdV2_linker\n",
      "EA_EAdV1_linker\n",
      "err\n",
      "HA_HAdV18_linker\n",
      "HA_HAdV31_linker\n",
      "HB_HAdV11_linker\n",
      "HB_SAdV27_linker\n",
      "HC_HAdV5_linker\n",
      "HC_SAdV34_linker\n",
      "HC_SAdV43_linker\n",
      "HD_HAdV10_linker\n",
      "HD_HAdV19_linker\n",
      "HE_SAdV22_linker\n",
      "HE_SAdV25_linker\n",
      "HF_HAdV40_linker\n",
      "HF_HAdV41_linker\n",
      "HG_HAdV52_linker\n",
      "HG_SAdV7_linker\n",
      "OA_BAdV2_linker\n",
      "out\n",
      "PC_PAdV5_linker\n",
      "SA_SAdV20_linker\n",
      "SA_SAdV3_linker\n",
      "SB_SAdV49_linker\n",
      "SC_SAdV18_linker\n"
     ]
    }
   ],
   "source": [
    "# Set working directory\n",
    "domain = \"fend01\"\n",
    "dir = \"exp/e1a_linkers\"\n",
    "partition = \"sbinlab_gpu\"\n",
    "\n",
    "remotedir = f\"~/OrthoIDP/{dir}\"\n",
    "\n",
    "print(f\"CONTENTS IN {remotedir} AT {domain.upper()}:\")\n",
    "!ssh $domain \"cd $remotedir && ls\"\n",
    "\n",
    "print(f\"\\nCONTENTS IN {remotedir}/results AT {domain.upper()}:\")\n",
    "!ssh $domain \"cd $remotedir/results && ls\""
   ]
  },
  {
   "cell_type": "code",
   "execution_count": 2,
   "metadata": {},
   "outputs": [
    {
     "name": "stdout",
     "output_type": "stream",
     "text": [
      "/etc/profile.d/lang.sh: line 19: warning: setlocale: LC_CTYPE: cannot change locale (UTF-8): No such file or directory\n",
      "PARTITION   AVAIL  TIMELIMIT  NODES  STATE NODELIST\n",
      "sbinlab_gpu    up   infinite      1 drain* node152\n",
      "sbinlab_gpu    up   infinite      2    mix node[150-151]\n"
     ]
    }
   ],
   "source": [
    "# Check availability\n",
    "!ssh $domain sinfo -p $partition"
   ]
  },
  {
   "cell_type": "code",
   "execution_count": 11,
   "metadata": {},
   "outputs": [
    {
     "name": "stdout",
     "output_type": "stream",
     "text": [
      "             JOBID PARTITION     NAME     USER ST       TIME  NODES NODELIST(REASON)\n",
      "          38863362 sbinlab_g h1-0_min fknudsen  R 6-08:02:54      1 node150\n",
      "          38863363 sbinlab_g h1-0_max fknudsen  R 6-08:02:54      1 node150\n",
      "          38868112 sbinlab_g h1-0_con fknudsen  R 6-02:27:13      1 node150\n"
     ]
    }
   ],
   "source": [
    "# Check queue\n",
    "!ssh $domain \"squeue -u fknudsen\""
   ]
  },
  {
   "cell_type": "code",
   "execution_count": 27,
   "metadata": {},
   "outputs": [
    {
     "name": "stdout",
     "output_type": "stream",
     "text": [
      "#!/bin/bash\n",
      "#SBATCH --job-name=initial\n",
      "#SBATCH --partition=sbinlab_gpu\n",
      "#SBATCH --array=0-5%6\n",
      "#SBATCH --nodes=1\n",
      "#SBATCH --cpus-per-task=1\n",
      "#SBATCH --gres=gpu:1\n",
      "#SBATCH -t 24:00:00\n",
      "#SBATCH -o results/out\n",
      "#SBATCH -e results/err\n",
      "\n",
      "\n",
      "# Getting job input file\n",
      "input_files=($(ls data/*.fasta))\n",
      "input_file=${input_files[$SLURM_ARRAY_TASK_ID]}\n",
      "\n",
      "# Displaying job info\n",
      "echo \"[`date`] STARTED Job Array ID: $SLURM_ARRAY_TASK_ID | Job ID: $SLURM_JOB_ID | Input: $input_file\"\n",
      "\n",
      "# DeiC env settings\n",
      "source /groups/sbinlab/fpesce/.bashrc\n",
      "conda activate openmm\n",
      "\n",
      "# Submitting simulation\n",
      "python ../../src/simulate_openmm.py -f $input_file\n",
      "\n",
      "echo \"[`date`] FINISHED Job Array ID: $SLURM_ARRAY_TASK_ID | Job ID: $SLURM_JOB_ID | Input: $input_file\"\n"
     ]
    }
   ],
   "source": [
    "# Check submit script\n",
    "!ssh $domain \"cat $remotedir/submit.sh\""
   ]
  },
  {
   "cell_type": "code",
   "execution_count": 13,
   "metadata": {},
   "outputs": [
    {
     "name": "stdout",
     "output_type": "stream",
     "text": [
      "/etc/profile.d/lang.sh: line 19: warning: setlocale: LC_CTYPE: cannot change locale (UTF-8): No such file or directory\n",
      "/Users/frederikespersenknudsen/Local/OrthoIDP\n"
     ]
    }
   ],
   "source": [
    "# Submit\n",
    "!ssh $domain \"cd $remotedir && sbatch submit.sh\""
   ]
  },
  {
   "cell_type": "code",
   "execution_count": null,
   "metadata": {},
   "outputs": [],
   "source": [
    "# Cancel job\n",
    "jobid = \"\"\n",
    "!ssh $domain scancel $jobid"
   ]
  },
  {
   "cell_type": "code",
   "execution_count": 13,
   "metadata": {},
   "outputs": [
    {
     "name": "stdout",
     "output_type": "stream",
     "text": [
      "restart.chk                                   100% 3127   348.4KB/s   00:00    \n",
      "traj.dcd                                      100%   25MB   9.8MB/s   00:02    \n",
      "system.xml                                    100%   15KB 776.2KB/s   00:00    \n",
      "simulate.log                                  100%  561    14.7KB/s   00:00    \n",
      "traj.log                                      100% 2205KB   6.7MB/s   00:00    \n",
      "top.pdb                                       100% 6427   278.2KB/s   00:00    \n",
      "restart.chk                                   100% 2935   825.5KB/s   00:00    \n",
      "traj.dcd                                      100%   24MB   9.7MB/s   00:02    \n",
      "simulate.log                                  100%  560    63.7KB/s   00:00    \n",
      "system.xml                                    100%   14KB 500.6KB/s   00:00    \n",
      "top.pdb                                       100% 6015   230.8KB/s   00:00    \n",
      "traj.log                                      100% 2206KB   6.6MB/s   00:00    \n",
      "traj.log                                      100% 2207KB   6.6MB/s   00:00    \n",
      "simulate.log                                  100%  554    42.3KB/s   00:00    \n",
      "restart.chk                                   100% 2935   185.1KB/s   00:00    \n",
      "top.pdb                                       100% 6025   157.2KB/s   00:00    \n",
      "system.xml                                    100%   14KB 840.5KB/s   00:00    \n",
      "traj.dcd                                      100%   24MB   9.3MB/s   00:02    \n",
      "err                                           100%    0     0.0KB/s   00:00    \n",
      "simulate.log                                  100%  549    42.3KB/s   00:00    \n",
      "restart.chk                                   100% 2551   126.9KB/s   00:00    \n",
      "traj.dcd                                      100%   21MB   9.6MB/s   00:02    \n",
      "traj.log                                      100% 2207KB   6.6MB/s   00:00    \n",
      "top.pdb                                       100% 5179    85.0KB/s   00:00    \n",
      "system.xml                                    100%   12KB 636.8KB/s   00:00    \n",
      "simulate.log                                  100%  568    22.8KB/s   00:00    \n",
      "traj.dcd                                      100%   29MB   9.9MB/s   00:02    \n",
      "system.xml                                    100%   17KB 735.4KB/s   00:00    \n",
      "traj.log                                      100% 2205KB   6.0MB/s   00:00    \n",
      "top.pdb                                       100% 7467   495.2KB/s   00:00    \n",
      "restart.chk                                   100% 3607    82.8KB/s   00:00    \n",
      "top.pdb                                       100% 5314   129.8KB/s   00:00    \n",
      "restart.chk                                   100% 2599   355.7KB/s   00:00    \n",
      "system.xml                                    100%   13KB 519.4KB/s   00:00    \n",
      "traj.log                                      100% 2207KB   6.6MB/s   00:00    \n",
      "traj.dcd                                      100%   21MB   9.5MB/s   00:02    \n",
      "simulate.log                                  100%  553    60.9KB/s   00:00    \n",
      "system.xml                                    100%   11KB 901.5KB/s   00:00    \n",
      "traj.log                                      100% 2213KB   6.9MB/s   00:00    \n",
      "restart.chk                                   100% 2167   109.3KB/s   00:00    \n",
      "simulate.log                                  100%  541    51.3KB/s   00:00    \n",
      "traj.dcd                                      100%   18MB   9.6MB/s   00:01    \n",
      "top.pdb                                       100% 4377    91.6KB/s   00:00    \n",
      "system.xml                                    100%   18KB   1.3MB/s   00:00    \n",
      "traj.dcd                                      100%   30MB   9.9MB/s   00:03    \n",
      "restart.chk                                   100% 3799   135.7KB/s   00:00    \n",
      "simulate.log                                  100%  575    49.0KB/s   00:00    \n",
      "traj.log                                      100% 2205KB   6.2MB/s   00:00    \n",
      "top.pdb                                       100% 7869   392.6KB/s   00:00    \n",
      "restart.chk                                   100% 1495    85.2KB/s   00:00    \n",
      "traj.log                                      100% 2219KB   5.6MB/s   00:00    \n",
      "traj.dcd                                      100%   12MB   9.6MB/s   00:01    \n",
      "top.pdb                                       100% 2913   141.2KB/s   00:00    \n",
      "simulate.log                                  100%  524    49.7KB/s   00:00    \n",
      "system.xml                                    100% 7737   235.7KB/s   00:00    \n",
      "out                                           100% 5982   392.6KB/s   00:00    \n",
      "simulate.log                                  100%  553    59.2KB/s   00:00    \n",
      "restart.chk                                   100% 2743   134.7KB/s   00:00    \n",
      "traj.log                                      100% 2207KB   6.9MB/s   00:00    \n",
      "traj.dcd                                      100%   22MB   9.6MB/s   00:02    \n",
      "top.pdb                                       100% 5547   154.3KB/s   00:00    \n",
      "system.xml                                    100%   13KB 899.7KB/s   00:00    \n",
      "top.pdb                                       100% 6231   288.8KB/s   00:00    \n",
      "simulate.log                                  100%  559    16.4KB/s   00:00    \n",
      "traj.dcd                                      100%   24MB   9.8MB/s   00:02    \n",
      "restart.chk                                   100% 3031    47.5KB/s   00:00    \n",
      "system.xml                                    100%   15KB 666.3KB/s   00:00    \n",
      "traj.log                                      100% 2204KB   7.2MB/s   00:00    \n",
      "traj.log                                      100% 2205KB   5.5MB/s   00:00    \n",
      "top.pdb                                       100% 6427   160.9KB/s   00:00    \n",
      "restart.chk                                   100% 3127    29.5KB/s   00:00    \n",
      "system.xml                                    100%   15KB  58.7KB/s   00:00    \n",
      "simulate.log                                  100%  561    45.7KB/s   00:00    \n",
      "traj.dcd                                      100%   25MB   9.5MB/s   00:02    \n",
      "traj.dcd                                      100%   28MB  10.0MB/s   00:02    \n",
      "system.xml                                    100%   17KB 892.8KB/s   00:00    \n",
      "simulate.log                                  100%  565    25.1KB/s   00:00    \n",
      "restart.chk                                   100% 3463    86.5KB/s   00:00    \n",
      "traj.log                                      100% 2205KB   6.7MB/s   00:00    \n",
      "top.pdb                                       100% 7016   355.9KB/s   00:00    \n",
      "top.pdb                                       100% 7033   299.2KB/s   00:00    \n",
      "traj.dcd                                      100%   27MB  10.0MB/s   00:02    \n",
      "traj.log                                      100% 2205KB   6.5MB/s   00:00    \n",
      "restart.chk                                   100% 3415   152.1KB/s   00:00    \n",
      "simulate.log                                  100%  567    16.6KB/s   00:00    \n",
      "system.xml                                    100%   17KB 935.8KB/s   00:00    \n",
      "system.xml                                    100%   14KB 969.5KB/s   00:00    \n",
      "simulate.log                                  100%  551    22.5KB/s   00:00    \n",
      "traj.log                                      100% 2205KB   6.0MB/s   00:00    \n",
      "traj.dcd                                      100%   22MB   9.6MB/s   00:02    \n",
      "restart.chk                                   100% 2791   148.5KB/s   00:00    \n",
      "top.pdb                                       100% 5674   240.3KB/s   00:00    \n",
      "simulate.log                                  100%  549    28.8KB/s   00:00    \n",
      "restart.chk                                   100% 2695   116.8KB/s   00:00    \n",
      "traj.log                                      100% 2208KB   6.8MB/s   00:00    \n",
      "traj.dcd                                      100%   22MB   9.9MB/s   00:02    \n",
      "system.xml                                    100%   13KB 248.2KB/s   00:00    \n",
      "top.pdb                                       100% 5488   120.0KB/s   00:00    \n",
      "traj.log                                      100% 2205KB   5.7MB/s   00:00    \n",
      "top.pdb                                       100% 6540   453.0KB/s   00:00    \n",
      "restart.chk                                   100% 3175   165.0KB/s   00:00    \n",
      "simulate.log                                  100%  562    32.1KB/s   00:00    \n",
      "traj.dcd                                      100%   25MB   9.5MB/s   00:02    \n",
      "system.xml                                    100%   15KB 574.3KB/s   00:00    \n",
      "traj.dcd                                      100%   22MB   9.5MB/s   00:02    \n",
      "simulate.log                                  100%  554    65.3KB/s   00:00    \n",
      "system.xml                                    100%   14KB 797.3KB/s   00:00    \n",
      "traj.log                                      100% 2204KB   7.1MB/s   00:00    \n",
      "top.pdb                                       100% 5716   268.1KB/s   00:00    \n",
      "restart.chk                                   100% 2791   132.3KB/s   00:00    \n",
      "simulate.log                                  100%  560     5.1KB/s   00:00    \n",
      "traj.log                                      100% 2206KB   5.9MB/s   00:00    \n",
      "system.xml                                    100%   15KB   1.4MB/s   00:00    \n",
      "top.pdb                                       100% 6324    97.8KB/s   00:00    \n",
      "traj.dcd                                      100%   25MB   8.0MB/s   00:03    \n",
      "restart.chk                                   100% 3079   208.5KB/s   00:00    \n",
      "simulate.log                                  100%  525    14.7KB/s   00:00    \n",
      "system.xml                                    100% 7990   671.8KB/s   00:00    \n",
      "top.pdb                                       100% 3048   106.9KB/s   00:00    \n",
      "restart.chk                                   100% 1543    83.6KB/s   00:00    \n",
      "traj.log                                      100% 2216KB   6.6MB/s   00:00    \n",
      "traj.dcd                                      100%   13MB   9.1MB/s   00:01    \n",
      "top.pdb                                       100% 5108   218.7KB/s   00:00    \n",
      "simulate.log                                  100%  548    24.5KB/s   00:00    \n",
      "traj.log                                      100% 2208KB   6.4MB/s   00:00    \n",
      "system.xml                                    100%   12KB 175.9KB/s   00:00    \n",
      "traj.dcd                                      100%   20MB   9.6MB/s   00:02    \n",
      "restart.chk                                   100% 2503   173.3KB/s   00:00    \n",
      "system.xml                                    100%   14KB   1.0MB/s   00:00    \n",
      "traj.log                                      100% 2208KB   6.9MB/s   00:00    \n",
      "top.pdb                                       100% 5922   275.6KB/s   00:00    \n",
      "restart.chk                                   100% 2887   145.2KB/s   00:00    \n",
      "traj.dcd                                      100%   23MB   9.7MB/s   00:02    \n",
      "simulate.log                                  100%  553    44.5KB/s   00:00    \n",
      "traj.log                                      100% 2208KB   6.2MB/s   00:00    \n",
      "restart.chk                                   100% 2503   121.0KB/s   00:00    \n",
      "simulate.log                                  100%  548    28.7KB/s   00:00    \n",
      "system.xml                                    100%   12KB 390.9KB/s   00:00    \n",
      "top.pdb                                       100% 5098   344.6KB/s   00:00    \n",
      "traj.dcd                                      100%   20MB   9.9MB/s   00:02    \n",
      "traj.dcd                                      100%   25MB   9.5MB/s   00:02    \n",
      "simulate.log                                  100%  562    57.2KB/s   00:00    \n",
      "top.pdb                                       100% 6454   320.1KB/s   00:00    \n",
      "restart.chk                                   100% 3175   134.9KB/s   00:00    \n",
      "traj.log                                      100% 2204KB   6.9MB/s   00:00    \n",
      "system.xml                                    100%   15KB 782.3KB/s   00:00    \n",
      "restart.chk                                   100% 2983   104.2KB/s   00:00    \n",
      "traj.dcd                                      100%   24MB   9.8MB/s   00:02    \n",
      "system.xml                                    100%   14KB   1.1MB/s   00:00    \n",
      "simulate.log                                  100%  558    35.3KB/s   00:00    \n",
      "top.pdb                                       100% 6054   386.4KB/s   00:00    \n",
      "traj.log                                      100% 2206KB   6.6MB/s   00:00    \n",
      "restart.chk                                   100% 2695    65.6KB/s   00:00    \n",
      "traj.log                                      100% 2204KB   6.4MB/s   00:00    \n",
      "traj.dcd                                      100%   22MB   9.7MB/s   00:02    \n",
      "system.xml                                    100%   13KB 614.8KB/s   00:00    \n",
      "top.pdb                                       100% 5510   476.1KB/s   00:00    \n",
      "simulate.log                                  100%  552    27.7KB/s   00:00    \n",
      "traj.log                                      100% 2219KB   6.1MB/s   00:00    \n",
      "restart.chk                                   100% 1543    58.2KB/s   00:00    \n",
      "system.xml                                    100% 7932   815.0KB/s   00:00    \n",
      "top.pdb                                       100% 3048   104.7KB/s   00:00    \n",
      "traj.dcd                                      100%   13MB   9.5MB/s   00:01    \n",
      "simulate.log                                  100%  525    26.3KB/s   00:00    \n"
     ]
    }
   ],
   "source": [
    "# Copy results to BINF\n",
    "!scp -r \"$domain:$remotedir/results\" $dir"
   ]
  },
  {
   "cell_type": "code",
   "execution_count": 7,
   "metadata": {},
   "outputs": [
    {
     "name": "stdout",
     "output_type": "stream",
     "text": [
      "data\t\t  results\t  submit_max.sh  submit_test.sh\n",
      "idpevo_h1-0.json  submit_cons.sh  submit_min.sh\n"
     ]
    }
   ],
   "source": [
    "!ls $dir"
   ]
  },
  {
   "cell_type": "code",
   "execution_count": 6,
   "metadata": {},
   "outputs": [
    {
     "name": "stdout",
     "output_type": "stream",
     "text": [
      "r0_scan.csv                                   100%  302KB   6.6MB/s   00:00    \n",
      "r0_scan.err                                   100% 1536   337.0KB/s   00:00    \n",
      "r0_scan.out                                   100% 9507     2.3MB/s   00:00    \n"
     ]
    }
   ],
   "source": [
    "# Copy single specific files to BINF\n",
    "filename = \"r0_scan.*\"\n",
    "!scp \"$domain:$remotedir/results/$filename\" \"$dir/results/$filename\""
   ]
  }
 ],
 "metadata": {
  "kernelspec": {
   "display_name": "orthoidp",
   "language": "python",
   "name": "python3"
  },
  "language_info": {
   "codemirror_mode": {
    "name": "ipython",
    "version": 3
   },
   "file_extension": ".py",
   "mimetype": "text/x-python",
   "name": "python",
   "nbconvert_exporter": "python",
   "pygments_lexer": "ipython3",
   "version": "3.10.9"
  },
  "orig_nbformat": 4,
  "vscode": {
   "interpreter": {
    "hash": "5cf7a75472cea797e0aded0ea9e5d9e317f1ebbfd81a3bae087611c209ab141a"
   }
  }
 },
 "nbformat": 4,
 "nbformat_minor": 2
}
