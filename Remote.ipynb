{
 "cells": [
  {
   "attachments": {},
   "cell_type": "markdown",
   "metadata": {},
   "source": [
    "Notebook should only be used on remote servers!\n",
    "\n",
    "TODO:\n",
    "- Create scripts for orchestrating \n",
    "    - Write in reference of local directory\n",
    "- Remember to keep secret stuff secret\n",
    "    - Perhaps .gitignore?\n",
    "- Write up general schemas\n",
    "- Functions\n",
    "    - Login\n",
    "    - Navigation\n",
    "    - Preparation\n",
    "        - Upload / Emulate 'Push'\n",
    "        - Selecting config\n",
    "        - Creating dirs\n",
    "    - Running sims\n",
    "        - Managing / Supervising disk / memory\n",
    "    - Downloading data\n",
    "    - Linking to project data model\n",
    "        - Filling in data model with logs"
   ]
  }
 ],
 "metadata": {
  "kernelspec": {
   "display_name": "orthoidp",
   "language": "python",
   "name": "python3"
  },
  "language_info": {
   "name": "python",
   "version": "3.10.9"
  },
  "orig_nbformat": 4,
  "vscode": {
   "interpreter": {
    "hash": "5cf7a75472cea797e0aded0ea9e5d9e317f1ebbfd81a3bae087611c209ab141a"
   }
  }
 },
 "nbformat": 4,
 "nbformat_minor": 2
}
