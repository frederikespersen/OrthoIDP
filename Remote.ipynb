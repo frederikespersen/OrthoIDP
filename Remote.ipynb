{
 "cells": [
  {
   "attachments": {},
   "cell_type": "markdown",
   "metadata": {},
   "source": [
    "# Remote"
   ]
  },
  {
   "cell_type": "code",
   "execution_count": 3,
   "metadata": {},
   "outputs": [
    {
     "name": "stdout",
     "output_type": "stream",
     "text": [
      "CONTENTS IN ~/OrthoIDP/exp/initial AT FEND01:\n",
      "data\n",
      "initial.json\n",
      "results\n",
      "submit.sh\n",
      "\n",
      "CONTENTS IN ~/OrthoIDP/exp/initial/results AT FEND01:\n",
      "err\n",
      "H1-0_CLUST\n",
      "H1-0_RAND\n",
      "H1-0_WT\n",
      "H2B_CLUST\n",
      "H2B_RAND\n",
      "H2B_WT\n",
      "out\n"
     ]
    }
   ],
   "source": [
    "# Set working directory\n",
    "domain = \"fend01\"\n",
    "dir = \"exp/initial\"\n",
    "partition = \"sbinlab_gpu\"\n",
    "\n",
    "remotedir = f\"~/OrthoIDP/{dir}\"\n",
    "\n",
    "print(f\"CONTENTS IN {remotedir} AT {domain.upper()}:\")\n",
    "!ssh $domain \"cd $remotedir && ls\"\n",
    "\n",
    "print(f\"\\nCONTENTS IN {remotedir}/results AT {domain.upper()}:\")\n",
    "!ssh $domain \"cd $remotedir/results && ls\""
   ]
  },
  {
   "cell_type": "code",
   "execution_count": 2,
   "metadata": {},
   "outputs": [
    {
     "name": "stdout",
     "output_type": "stream",
     "text": [
      "/etc/profile.d/lang.sh: line 19: warning: setlocale: LC_CTYPE: cannot change locale (UTF-8): No such file or directory\n",
      "PARTITION   AVAIL  TIMELIMIT  NODES  STATE NODELIST\n",
      "sbinlab_gpu    up   infinite      1 drain* node152\n",
      "sbinlab_gpu    up   infinite      2    mix node[150-151]\n"
     ]
    }
   ],
   "source": [
    "# Check availability\n",
    "!ssh $domain sinfo -p $partition"
   ]
  },
  {
   "cell_type": "code",
   "execution_count": 5,
   "metadata": {},
   "outputs": [
    {
     "name": "stdout",
     "output_type": "stream",
     "text": [
      "/etc/profile.d/lang.sh: line 19: warning: setlocale: LC_CTYPE: cannot change locale (UTF-8): No such file or directory\n",
      "             JOBID PARTITION     NAME     USER ST       TIME  NODES NODELIST(REASON)\n",
      "          38293963 sbinlab_g idpevo_h fknudsen  R 5-04:34:27      1 node151\n",
      "        38325169_0 sbinlab_g  initial fknudsen  R    5:33:05      1 node150\n",
      "        38325169_1 sbinlab_g  initial fknudsen  R    5:33:05      1 node150\n",
      "        38325169_2 sbinlab_g  initial fknudsen  R    5:33:05      1 node150\n"
     ]
    }
   ],
   "source": [
    "# Check queue\n",
    "!ssh $domain \"squeue -u fknudsen\""
   ]
  },
  {
   "cell_type": "code",
   "execution_count": 27,
   "metadata": {},
   "outputs": [
    {
     "name": "stdout",
     "output_type": "stream",
     "text": [
      "#!/bin/bash\n",
      "#SBATCH --job-name=initial\n",
      "#SBATCH --partition=sbinlab_gpu\n",
      "#SBATCH --array=0-5%6\n",
      "#SBATCH --nodes=1\n",
      "#SBATCH --cpus-per-task=1\n",
      "#SBATCH --gres=gpu:1\n",
      "#SBATCH -t 24:00:00\n",
      "#SBATCH -o results/out\n",
      "#SBATCH -e results/err\n",
      "\n",
      "\n",
      "# Getting job input file\n",
      "input_files=($(ls data/*.fasta))\n",
      "input_file=${input_files[$SLURM_ARRAY_TASK_ID]}\n",
      "\n",
      "# Displaying job info\n",
      "echo \"[`date`] STARTED Job Array ID: $SLURM_ARRAY_TASK_ID | Job ID: $SLURM_JOB_ID | Input: $input_file\"\n",
      "\n",
      "# DeiC env settings\n",
      "source /groups/sbinlab/fpesce/.bashrc\n",
      "conda activate openmm\n",
      "\n",
      "# Submitting simulation\n",
      "python ../../src/simulate_openmm.py -f $input_file\n",
      "\n",
      "echo \"[`date`] FINISHED Job Array ID: $SLURM_ARRAY_TASK_ID | Job ID: $SLURM_JOB_ID | Input: $input_file\"\n"
     ]
    }
   ],
   "source": [
    "# Check submit script\n",
    "!ssh $domain \"cat $remotedir/submit.sh\""
   ]
  },
  {
   "cell_type": "code",
   "execution_count": 13,
   "metadata": {},
   "outputs": [
    {
     "name": "stdout",
     "output_type": "stream",
     "text": [
      "/etc/profile.d/lang.sh: line 19: warning: setlocale: LC_CTYPE: cannot change locale (UTF-8): No such file or directory\n",
      "/Users/frederikespersenknudsen/Local/OrthoIDP\n"
     ]
    }
   ],
   "source": [
    "# Submit\n",
    "!ssh $domain \"cd $remotedir && sbatch submit.sh\""
   ]
  },
  {
   "cell_type": "code",
   "execution_count": null,
   "metadata": {},
   "outputs": [],
   "source": [
    "# Cancel job\n",
    "jobid = \"\"\n",
    "!ssh $domain scancel $jobid"
   ]
  },
  {
   "cell_type": "code",
   "execution_count": 4,
   "metadata": {},
   "outputs": [
    {
     "name": "stdout",
     "output_type": "stream",
     "text": [
      "restart.chk                                   100%   87KB   1.0MB/s   00:00    \n",
      "simulate.log                                  100%  584    18.2KB/s   00:00    \n",
      "traj.log                                      100% 2375KB   7.7MB/s   00:00    \n",
      "top.pdb                                       100%   11KB 266.9KB/s   00:00    \n",
      "traj.dcd                                      100%   44MB  11.6MB/s   00:03    \n",
      "system.xml                                    100%   26KB 301.9KB/s   00:00    \n",
      "traj.dcd                                      100%   15MB  10.7MB/s   00:01    \n",
      "top.pdb                                       100% 3749   200.0KB/s   00:00    \n",
      "system.xml                                    100% 9458   661.7KB/s   00:00    \n",
      "simulate.log                                  100%  511    34.2KB/s   00:00    \n",
      "restart.chk                                   100%   79KB   2.7MB/s   00:00    \n",
      "traj.log                                      100% 2366KB   8.5MB/s   00:00    \n",
      "out                                           100%  730   178.0KB/s   00:00    \n",
      "err                                           100%    0     0.0KB/s   00:00    \n",
      "simulate.log                                  100%  505    28.3KB/s   00:00    \n",
      "traj.dcd                                      100%   15MB  10.5MB/s   00:01    \n",
      "restart.chk                                   100%   79KB   1.6MB/s   00:00    \n",
      "traj.log                                      100% 2366KB   8.2MB/s   00:00    \n",
      "top.pdb                                       100% 3769   197.3KB/s   00:00    \n",
      "system.xml                                    100% 9458   217.2KB/s   00:00    \n",
      "top.pdb                                       100%   11KB 641.2KB/s   00:00    \n",
      "simulate.log                                  100%  593   132.2KB/s   00:00    \n",
      "traj.log                                      100% 2377KB   8.6MB/s   00:00    \n",
      "system.xml                                    100%   26KB   1.6MB/s   00:00    \n",
      "traj.dcd                                      100%   44MB  11.1MB/s   00:03    \n",
      "restart.chk                                   100%   87KB   1.5MB/s   00:00    \n",
      "traj.log                                      100% 2361KB   3.5MB/s   00:00    \n",
      "system.xml                                    100% 9458   172.6KB/s   00:00    \n",
      "top.pdb                                       100% 3759   150.7KB/s   00:00    \n",
      "simulate.log                                  100%  514    25.3KB/s   00:00    \n",
      "restart.chk                                   100%   79KB   3.1MB/s   00:00    \n",
      "traj.dcd                                      100%   15MB   9.3MB/s   00:01    \n",
      "system.xml                                    100%   26KB 871.1KB/s   00:00    \n",
      "top.pdb                                       100%   11KB 543.9KB/s   00:00    \n",
      "traj.log                                      100% 2376KB   7.8MB/s   00:00    \n",
      "traj.dcd                                      100%   44MB  11.0MB/s   00:03    \n",
      "restart.chk                                   100%   87KB   2.1MB/s   00:00    \n",
      "simulate.log                                  100%  590    37.9KB/s   00:00    \n"
     ]
    }
   ],
   "source": [
    "# Copy results to BINF\n",
    "!scp -r \"$domain:$remotedir/results\" $dir"
   ]
  }
 ],
 "metadata": {
  "kernelspec": {
   "display_name": "orthoidp",
   "language": "python",
   "name": "python3"
  },
  "language_info": {
   "codemirror_mode": {
    "name": "ipython",
    "version": 3
   },
   "file_extension": ".py",
   "mimetype": "text/x-python",
   "name": "python",
   "nbconvert_exporter": "python",
   "pygments_lexer": "ipython3",
   "version": "3.10.9"
  },
  "orig_nbformat": 4,
  "vscode": {
   "interpreter": {
    "hash": "5cf7a75472cea797e0aded0ea9e5d9e317f1ebbfd81a3bae087611c209ab141a"
   }
  }
 },
 "nbformat": 4,
 "nbformat_minor": 2
}
