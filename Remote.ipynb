{
 "cells": [
  {
   "attachments": {},
   "cell_type": "markdown",
   "metadata": {},
   "source": [
    "# Remote"
   ]
  },
  {
   "cell_type": "code",
   "execution_count": 26,
   "metadata": {},
   "outputs": [
    {
     "name": "stdout",
     "output_type": "stream",
     "text": [
      "CONTENTS IN ~/OrthoIDP/exp/initial AT FEND01:\n",
      "data\n",
      "initial.json\n",
      "results\n",
      "submit.sh\n"
     ]
    }
   ],
   "source": [
    "# Set working directory\n",
    "domain = \"fend01\"\n",
    "dir = \"exp/initial\"\n",
    "partition = \"sbinlab_gpu\"\n",
    "\n",
    "remotedir = f\"~/OrthoIDP/{dir}\"\n",
    "\n",
    "print(f\"CONTENTS IN {remotedir} AT {domain.upper()}:\")\n",
    "!ssh $domain \"cd $remotedir && ls\""
   ]
  },
  {
   "cell_type": "code",
   "execution_count": 2,
   "metadata": {},
   "outputs": [
    {
     "name": "stdout",
     "output_type": "stream",
     "text": [
      "/etc/profile.d/lang.sh: line 19: warning: setlocale: LC_CTYPE: cannot change locale (UTF-8): No such file or directory\n",
      "PARTITION   AVAIL  TIMELIMIT  NODES  STATE NODELIST\n",
      "sbinlab_gpu    up   infinite      1 drain* node152\n",
      "sbinlab_gpu    up   infinite      2    mix node[150-151]\n"
     ]
    }
   ],
   "source": [
    "# Check availability\n",
    "!ssh $domain sinfo -p $partition"
   ]
  },
  {
   "cell_type": "code",
   "execution_count": 5,
   "metadata": {},
   "outputs": [
    {
     "name": "stdout",
     "output_type": "stream",
     "text": [
      "/etc/profile.d/lang.sh: line 19: warning: setlocale: LC_CTYPE: cannot change locale (UTF-8): No such file or directory\n",
      "             JOBID PARTITION     NAME     USER ST       TIME  NODES NODELIST(REASON)\n",
      "          38293963 sbinlab_g idpevo_h fknudsen  R 5-04:34:27      1 node151\n",
      "        38325169_0 sbinlab_g  initial fknudsen  R    5:33:05      1 node150\n",
      "        38325169_1 sbinlab_g  initial fknudsen  R    5:33:05      1 node150\n",
      "        38325169_2 sbinlab_g  initial fknudsen  R    5:33:05      1 node150\n"
     ]
    }
   ],
   "source": [
    "# Check queue\n",
    "!ssh $domain \"squeue -u fknudsen\""
   ]
  },
  {
   "cell_type": "code",
   "execution_count": 27,
   "metadata": {},
   "outputs": [
    {
     "name": "stdout",
     "output_type": "stream",
     "text": [
      "#!/bin/bash\n",
      "#SBATCH --job-name=initial\n",
      "#SBATCH --partition=sbinlab_gpu\n",
      "#SBATCH --array=0-5%6\n",
      "#SBATCH --nodes=1\n",
      "#SBATCH --cpus-per-task=1\n",
      "#SBATCH --gres=gpu:1\n",
      "#SBATCH -t 24:00:00\n",
      "#SBATCH -o results/out\n",
      "#SBATCH -e results/err\n",
      "\n",
      "\n",
      "# Getting job input file\n",
      "input_files=($(ls data/*.fasta))\n",
      "input_file=${input_files[$SLURM_ARRAY_TASK_ID]}\n",
      "\n",
      "# Displaying job info\n",
      "echo \"[`date`] STARTED Job Array ID: $SLURM_ARRAY_TASK_ID | Job ID: $SLURM_JOB_ID | Input: $input_file\"\n",
      "\n",
      "# DeiC env settings\n",
      "source /groups/sbinlab/fpesce/.bashrc\n",
      "conda activate openmm\n",
      "\n",
      "# Submitting simulation\n",
      "python ../../src/simulate_openmm.py -f $input_file\n",
      "\n",
      "echo \"[`date`] FINISHED Job Array ID: $SLURM_ARRAY_TASK_ID | Job ID: $SLURM_JOB_ID | Input: $input_file\"\n"
     ]
    }
   ],
   "source": [
    "# Check submit script\n",
    "!ssh $domain \"cat $remotedir/submit.sh\""
   ]
  },
  {
   "cell_type": "code",
   "execution_count": 13,
   "metadata": {},
   "outputs": [
    {
     "name": "stdout",
     "output_type": "stream",
     "text": [
      "/etc/profile.d/lang.sh: line 19: warning: setlocale: LC_CTYPE: cannot change locale (UTF-8): No such file or directory\n",
      "/Users/frederikespersenknudsen/Local/OrthoIDP\n"
     ]
    }
   ],
   "source": [
    "# Submit\n",
    "!ssh $domain \"cd $remotedir && sbatch submit.sh\""
   ]
  },
  {
   "cell_type": "code",
   "execution_count": null,
   "metadata": {},
   "outputs": [],
   "source": [
    "# Cancel job\n",
    "jobid = \"\"\n",
    "!ssh $domain scancel $jobid"
   ]
  },
  {
   "cell_type": "code",
   "execution_count": 31,
   "metadata": {},
   "outputs": [
    {
     "name": "stdout",
     "output_type": "stream",
     "text": [
      "traj.log                                      100%   14MB   6.2MB/s   00:02    \n",
      "top.pdb                                       100%   11KB   2.5MB/s   00:00    \n",
      "simulate.log                                  100%  583    10.9KB/s   00:00    \n",
      "restart.chk                                   100%   87KB   2.8MB/s   00:00    \n",
      "system.xml                                    100%   25KB   1.2MB/s   00:00    \n",
      "traj.dcd                                      100%  271MB  12.1MB/s   00:22    \n",
      "traj.log                                      100%   14MB   9.4MB/s   00:01    \n",
      "system.xml                                    100% 9110   558.4KB/s   00:00    \n",
      "restart.chk                                   100%   79KB   2.6MB/s   00:00    \n",
      "simulate.log                                  100%  511    28.5KB/s   00:00    \n",
      "top.pdb                                       100% 3749   260.3KB/s   00:00    \n",
      "traj.dcd                                      100%   96MB  10.9MB/s   00:08    \n",
      "out                                           100%  741   232.5KB/s   00:00    \n",
      "err                                           100%    0     0.0KB/s   00:00    \n",
      "simulate.log                                  100%  504    19.0KB/s   00:00    \n",
      "traj.log                                      100%   14MB   9.3MB/s   00:01    \n",
      "top.pdb                                       100% 3769   112.2KB/s   00:00    \n",
      "restart.chk                                   100%   79KB   2.6MB/s   00:00    \n",
      "system.xml                                    100% 9110    38.4KB/s   00:00    \n",
      "traj.dcd                                      100%   96MB  11.2MB/s   00:08    \n",
      "traj.dcd                                      100%  271MB  11.5MB/s   00:23    \n",
      "simulate.log                                  100%  592    32.7KB/s   00:00    \n",
      "traj.log                                      100%   14MB   8.4MB/s   00:01    \n",
      "restart.chk                                   100%   87KB   2.0MB/s   00:00    \n",
      "system.xml                                    100%   25KB   1.3MB/s   00:00    \n",
      "top.pdb                                       100%   11KB 402.3KB/s   00:00    \n",
      "traj.dcd                                      100%   96MB   9.0MB/s   00:10    \n",
      "top.pdb                                       100% 3759   165.9KB/s   00:00    \n",
      "restart.chk                                   100%   79KB   2.8MB/s   00:00    \n",
      "simulate.log                                  100%  514    39.1KB/s   00:00    \n",
      "system.xml                                    100% 9110   390.6KB/s   00:00    \n",
      "traj.log                                      100%   14MB   9.2MB/s   00:01    \n",
      "system.xml                                    100%   25KB   1.2MB/s   00:00    \n",
      "simulate.log                                  100%  589    13.5KB/s   00:00    \n",
      "restart.chk                                   100%   87KB   2.7MB/s   00:00    \n",
      "traj.dcd                                      100%  271MB  12.0MB/s   00:22    \n",
      "traj.log                                      100%   14MB   6.9MB/s   00:02    \n",
      "top.pdb                                       100%   11KB 221.9KB/s   00:00    \n"
     ]
    }
   ],
   "source": [
    "# Copy results to BINF\n",
    "!scp -r \"$domain:$remotedir/results\" $dir"
   ]
  }
 ],
 "metadata": {
  "kernelspec": {
   "display_name": "orthoidp",
   "language": "python",
   "name": "python3"
  },
  "language_info": {
   "codemirror_mode": {
    "name": "ipython",
    "version": 3
   },
   "file_extension": ".py",
   "mimetype": "text/x-python",
   "name": "python",
   "nbconvert_exporter": "python",
   "pygments_lexer": "ipython3",
   "version": "3.10.9"
  },
  "orig_nbformat": 4,
  "vscode": {
   "interpreter": {
    "hash": "5cf7a75472cea797e0aded0ea9e5d9e317f1ebbfd81a3bae087611c209ab141a"
   }
  }
 },
 "nbformat": 4,
 "nbformat_minor": 2
}
