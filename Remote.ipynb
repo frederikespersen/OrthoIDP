{
 "cells": [
  {
   "attachments": {},
   "cell_type": "markdown",
   "metadata": {},
   "source": [
    "TODO:\n",
    "- Create scripts for orchestrating \n",
    "    - Write in reference of local directory\n",
    "- Remember to keep secret stuff secret\n",
    "    - Perhaps .gitignore?\n",
    "- Write up general schemas\n",
    "- Functions\n",
    "    - Login\n",
    "    - Navigation\n",
    "    - Preparation\n",
    "        - Upload / Emulate 'Push'\n",
    "        - Selecting config\n",
    "        - Creating dirs\n",
    "    - Running sims\n",
    "        - Managing / Supervising disk / memory\n",
    "    - Downloading data\n",
    "    - Linking to project data model\n",
    "        - Filling in data model with logs"
   ]
  }
 ],
 "metadata": {
  "language_info": {
   "name": "python"
  },
  "orig_nbformat": 4
 },
 "nbformat": 4,
 "nbformat_minor": 2
}
