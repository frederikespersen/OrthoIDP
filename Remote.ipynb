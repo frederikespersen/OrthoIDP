{
 "cells": [
  {
   "attachments": {},
   "cell_type": "markdown",
   "metadata": {},
   "source": [
    "# Remote"
   ]
  },
  {
   "cell_type": "code",
   "execution_count": 4,
   "metadata": {},
   "outputs": [
    {
     "name": "stdout",
     "output_type": "stream",
     "text": [
      "/etc/profile.d/lang.sh: line 19: warning: setlocale: LC_CTYPE: cannot change locale (UTF-8): No such file or directory\n",
      "data\n",
      "initial.json\n",
      "results\n",
      "submit.sh\n"
     ]
    }
   ],
   "source": [
    "# Set working directory\n",
    "domain = \"fend01\"\n",
    "dir = \"OrthoIDP/exp/initial\"\n",
    "partition = \"sbinlab_gpu\"\n",
    "!ssh $domain \"cd $dir && ls\""
   ]
  },
  {
   "cell_type": "code",
   "execution_count": 2,
   "metadata": {},
   "outputs": [
    {
     "name": "stdout",
     "output_type": "stream",
     "text": [
      "/etc/profile.d/lang.sh: line 19: warning: setlocale: LC_CTYPE: cannot change locale (UTF-8): No such file or directory\n",
      "PARTITION   AVAIL  TIMELIMIT  NODES  STATE NODELIST\n",
      "sbinlab_gpu    up   infinite      1 drain* node152\n",
      "sbinlab_gpu    up   infinite      2    mix node[150-151]\n"
     ]
    }
   ],
   "source": [
    "# Check availability\n",
    "!ssh $domain sinfo -p $partition"
   ]
  },
  {
   "cell_type": "code",
   "execution_count": 5,
   "metadata": {},
   "outputs": [
    {
     "name": "stdout",
     "output_type": "stream",
     "text": [
      "/etc/profile.d/lang.sh: line 19: warning: setlocale: LC_CTYPE: cannot change locale (UTF-8): No such file or directory\n",
      "             JOBID PARTITION     NAME     USER ST       TIME  NODES NODELIST(REASON)\n",
      "          38293963 sbinlab_g idpevo_h fknudsen  R 5-04:34:27      1 node151\n",
      "        38325169_0 sbinlab_g  initial fknudsen  R    5:33:05      1 node150\n",
      "        38325169_1 sbinlab_g  initial fknudsen  R    5:33:05      1 node150\n",
      "        38325169_2 sbinlab_g  initial fknudsen  R    5:33:05      1 node150\n"
     ]
    }
   ],
   "source": [
    "# Check queue\n",
    "!ssh $domain \"squeue -u fknudsen\""
   ]
  },
  {
   "cell_type": "code",
   "execution_count": 31,
   "metadata": {},
   "outputs": [
    {
     "name": "stdout",
     "output_type": "stream",
     "text": [
      "/etc/profile.d/lang.sh: line 19: warning: setlocale: LC_CTYPE: cannot change locale (UTF-8): No such file or directory\n",
      "#!/bin/bash\n",
      "#SBATCH --job-name=initial\n",
      "#SBATCH --partition=sbinlab_gpu\n",
      "#SBATCH --array=0-5%6\n",
      "#SBATCH --nodes=1\n",
      "#SBATCH --cpus-per-task=1\n",
      "#SBATCH --gres=gpu:1\n",
      "#SBATCH -t 24:00:00\n",
      "#SBATCH -o results/out\n",
      "#SBATCH -e results/err\n",
      "\n",
      "\n",
      "# Getting job input file\n",
      "input_files=($(ls data/*.fasta))\n",
      "input_file=${input_files[$SLURM_ARRAY_TASK_ID]}\n",
      "\n",
      "# Displaying job info\n",
      "echo \"[`date`] STARTED Job Array ID: $SLURM_ARRAY_TASK_ID | Job ID: $SLURM_JOB_ID | Input: $input_file\"\n",
      "\n",
      "# DeiC env settings\n",
      "source /groups/sbinlab/fpesce/.bashrc\n",
      "conda activate openmm\n",
      "\n",
      "# Submitting simulation\n",
      "python ../../src/simulate_openmm.py -f $input_file\n",
      "\n",
      "echo \"[`date`] FINISHED Job Array ID: $SLURM_ARRAY_TASK_ID | Job ID: $SLURM_JOB_ID | Input: $input_file\"\n"
     ]
    }
   ],
   "source": [
    "# Check submit script\n",
    "!ssh $domain \"cat $dir/submit.sh\""
   ]
  },
  {
   "cell_type": "code",
   "execution_count": 13,
   "metadata": {},
   "outputs": [
    {
     "name": "stdout",
     "output_type": "stream",
     "text": [
      "/etc/profile.d/lang.sh: line 19: warning: setlocale: LC_CTYPE: cannot change locale (UTF-8): No such file or directory\n",
      "/Users/frederikespersenknudsen/Local/OrthoIDP\n"
     ]
    }
   ],
   "source": [
    "# Submit\n",
    "!ssh $domain \"cd $dir && sbatch submit.sh\""
   ]
  },
  {
   "cell_type": "code",
   "execution_count": null,
   "metadata": {},
   "outputs": [],
   "source": [
    "# Cancel job\n",
    "jobid = \"\"\n",
    "!ssh $domain scancel $jobid"
   ]
  },
  {
   "cell_type": "code",
   "execution_count": 7,
   "metadata": {},
   "outputs": [
    {
     "name": "stdout",
     "output_type": "stream",
     "text": [
      "/etc/profile.d/lang.sh: line 19: warning: setlocale: LC_CTYPE: cannot change locale (UTF-8): No such file or directory\n",
      "H1-0_CLUST\n",
      "H1-0_RAND\n",
      "H1-0_WT\n",
      "H2B_CLUST\n",
      "H2B_RAND\n",
      "H2B_WT\n",
      "err\n",
      "out\n"
     ]
    }
   ],
   "source": [
    "# Copy results to BINF\n",
    "!ssh $domain ls $dir/results"
   ]
  }
 ],
 "metadata": {
  "kernelspec": {
   "display_name": "orthoidp",
   "language": "python",
   "name": "python3"
  },
  "language_info": {
   "codemirror_mode": {
    "name": "ipython",
    "version": 3
   },
   "file_extension": ".py",
   "mimetype": "text/x-python",
   "name": "python",
   "nbconvert_exporter": "python",
   "pygments_lexer": "ipython3",
   "version": "3.10.9"
  },
  "orig_nbformat": 4,
  "vscode": {
   "interpreter": {
    "hash": "5cf7a75472cea797e0aded0ea9e5d9e317f1ebbfd81a3bae087611c209ab141a"
   }
  }
 },
 "nbformat": 4,
 "nbformat_minor": 2
}
