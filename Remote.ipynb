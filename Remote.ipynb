{
 "cells": [
  {
   "attachments": {},
   "cell_type": "markdown",
   "metadata": {},
   "source": [
    "# Remote"
   ]
  },
  {
   "cell_type": "code",
   "execution_count": 1,
   "metadata": {},
   "outputs": [
    {
     "name": "stdout",
     "output_type": "stream",
     "text": [
      "CONTENTS IN ~/OrthoIDP/exp/ortho_h1-0 AT FEND01:\n",
      "data\n",
      "H1-0_orthodb.json\n",
      "old.zip\n",
      "ortho_h1-0.ipynb\n",
      "ortho_h1-0.json\n",
      "r0_scan.py\n",
      "r0_scan.sh\n",
      "results\n",
      "submit_r0_scan.sh\n",
      "submit.sh\n",
      "\n",
      "CONTENTS IN ~/OrthoIDP/exp/ortho_h1-0/results AT FEND01:\n",
      "0_AUSLI\n",
      "100_LEPWE\n",
      "101_LYNCA\n",
      "102_MUSPF\n",
      "103_MYODS\n",
      "104_MYOLU\n",
      "105_NEOSC\n",
      "106_ODORO\n",
      "107_ODOVR\n",
      "109_PANPR\n",
      "10_NEOBR\n",
      "110_9CHIR\n",
      "111_PTEAL\n",
      "112_PTEVA\n",
      "113_RHIFE\n",
      "114_RHIFE\n",
      "115_RHIFE\n",
      "116_SURSU\n",
      "117_PIG\n",
      "118_URSAM\n",
      "119_URSMA\n",
      "11_OREAU\n",
      "120_VICPA\n",
      "121_VULVU\n",
      "122_ZALCA\n",
      "123_CASCN\n",
      "124_CAVPO\n",
      "125_CRIGR\n",
      "126_CRIGR\n",
      "127_DIPOR\n",
      "128_FUKDA\n",
      "12_9CICH\n",
      "129_ICTTR\n",
      "130_MESAU\n",
      "131_MUSCR\n",
      "132_MOUSE\n",
      "133_OCTDE\n",
      "134_OCTDE\n",
      "135_OCTDE\n",
      "136_OCTDE\n",
      "137_OCTDE\n",
      "138_OCTDE\n",
      "139_PERMB\n",
      "13_9TELE\n",
      "140_RAT\n",
      "141_CERAT\n",
      "142_CHLSB\n",
      "143_COLAP\n",
      "144_MACFA\n",
      "145_MACMU\n",
      "146_MACNE\n",
      "147_MANLE\n",
      "148_PAPAN\n",
      "149_RHIBE\n",
      "14_ACIRT\n",
      "150_RHIRO\n",
      "151_GORGO\n",
      "152_HUMAN\n",
      "153_PANPA\n",
      "154_PANTR\n",
      "155_PONAB\n",
      "156_NOMLE\n",
      "157_PHACI\n",
      "158_VOMUR\n",
      "159_AOTNA\n",
      "15_ACIRT\n",
      "160_CARSF\n",
      "161_GEOSA\n",
      "162_GEOSA\n",
      "163_LOXAF\n",
      "164_9AMPH\n",
      "165_9AMPH\n",
      "166_ORNAN\n",
      "167_OTOGA\n",
      "168_SAIBB\n",
      "169_TRIMA\n",
      "16_AMPOC\n",
      "170_TUPCH\n",
      "172_XENTR\n",
      "173_ORCCI\n",
      "174_ECTSI\n",
      "175_OCTBM\n",
      "176_POMCA\n",
      "177_POMCA\n",
      "178_POMCA\n",
      "179_POMCA\n",
      "17_ANATE\n",
      "181_ACTTE\n",
      "182_ACTTE\n",
      "183_POCDA\n",
      "184_POCDA\n",
      "185_BRUMA\n",
      "187_LOALO\n",
      "188_NECAM\n",
      "18_ASTMX\n",
      "190_NECAM\n",
      "191_STRRB\n",
      "192_CAPO3\n",
      "193_STRPU\n",
      "194_TRIAD\n",
      "19_BETSP\n",
      "1_CYPVA\n",
      "20_CARAU\n",
      "21_CARAU\n",
      "22_CARAU\n",
      "23_CHACN\n",
      "24_CLUHA\n",
      "25_CYNSE\n",
      "26_DANRE\n",
      "27_ESOLU\n",
      "28_GYMAC\n",
      "29_HIPCM\n",
      "2_FUNHE\n",
      "30_ICTPU\n",
      "31_9LABR\n",
      "32_9TELE\n",
      "33_9TELE\n",
      "34_ONCMY\n",
      "35_ONCMY\n",
      "36_ORYLA\n",
      "37_ORYME\n",
      "38_9TELE\n",
      "39_9TELE\n",
      "3_KRYMA\n",
      "40_PERFV\n",
      "41_PERFL\n",
      "42_PYGNA\n",
      "43_SALFA\n",
      "44_SALSA\n",
      "45_SALSA\n",
      "46_SALTR\n",
      "47_SALTR\n",
      "48_SCOMX\n",
      "49_SERDU\n",
      "4_NOTFU\n",
      "50_SERLL\n",
      "51_9TELE\n",
      "52_SINGR\n",
      "53_9TELE\n",
      "54_9TELE\n",
      "55_9TELE\n",
      "56_9TELE\n",
      "57_FICAL\n",
      "58_9PASS\n",
      "59_9PASS\n",
      "5_9TELE\n",
      "60_TAEGU\n",
      "61_AYTFU\n",
      "62_CHICK\n",
      "63_EGRGA\n",
      "64_APTFO\n",
      "65_AQUCH\n",
      "66_PYGAD\n",
      "67_STRHB\n",
      "68_STRCA\n",
      "69_9SAUR\n",
      "6_9TELE\n",
      "70_PANGU\n",
      "71_PODMU\n",
      "72_9SAUR\n",
      "73_PSETE\n",
      "75_9SAUR\n",
      "76_9SAUR\n",
      "77_ALLMI\n",
      "78_ALLSI\n",
      "79_CHEMY\n",
      "7_XIPMA\n",
      "80_PELSI\n",
      "81_BALAS\n",
      "82_DELLE\n",
      "83_LIPVE\n",
      "84_NEOAA\n",
      "85_PHYMC\n",
      "86_TURTR\n",
      "87_ERIEU\n",
      "88_ACIJB\n",
      "89_AILME\n",
      "8_HAPBU\n",
      "90_BISBI\n",
      "91_BOSIN\n",
      "92_BOBOX\n",
      "93_9CETA\n",
      "94_BOVIN\n",
      "95_CALUR\n",
      "96_CALUR\n",
      "97_CAPHI\n",
      "98_DESRO\n",
      "9_9CICH\n",
      "99_ENHLU\n",
      "err\n",
      "out\n",
      "r0_scan.csv\n",
      "r0_scan.err\n",
      "r0_scanout\n"
     ]
    }
   ],
   "source": [
    "# Set working directory\n",
    "domain = \"fend01\"\n",
    "dir = \"exp/ortho_h1-0\"\n",
    "partition = \"sbinlab_gpu\"\n",
    "\n",
    "remotedir = f\"~/OrthoIDP/{dir}\"\n",
    "\n",
    "print(f\"CONTENTS IN {remotedir} AT {domain.upper()}:\")\n",
    "!ssh $domain \"cd $remotedir && ls\"\n",
    "\n",
    "print(f\"\\nCONTENTS IN {remotedir}/results AT {domain.upper()}:\")\n",
    "!ssh $domain \"cd $remotedir/results && ls\""
   ]
  },
  {
   "cell_type": "code",
   "execution_count": 2,
   "metadata": {},
   "outputs": [
    {
     "name": "stdout",
     "output_type": "stream",
     "text": [
      "/etc/profile.d/lang.sh: line 19: warning: setlocale: LC_CTYPE: cannot change locale (UTF-8): No such file or directory\n",
      "PARTITION   AVAIL  TIMELIMIT  NODES  STATE NODELIST\n",
      "sbinlab_gpu    up   infinite      1 drain* node152\n",
      "sbinlab_gpu    up   infinite      2    mix node[150-151]\n"
     ]
    }
   ],
   "source": [
    "# Check availability\n",
    "!ssh $domain sinfo -p $partition"
   ]
  },
  {
   "cell_type": "code",
   "execution_count": 5,
   "metadata": {},
   "outputs": [
    {
     "name": "stdout",
     "output_type": "stream",
     "text": [
      "/etc/profile.d/lang.sh: line 19: warning: setlocale: LC_CTYPE: cannot change locale (UTF-8): No such file or directory\n",
      "             JOBID PARTITION     NAME     USER ST       TIME  NODES NODELIST(REASON)\n",
      "          38293963 sbinlab_g idpevo_h fknudsen  R 5-04:34:27      1 node151\n",
      "        38325169_0 sbinlab_g  initial fknudsen  R    5:33:05      1 node150\n",
      "        38325169_1 sbinlab_g  initial fknudsen  R    5:33:05      1 node150\n",
      "        38325169_2 sbinlab_g  initial fknudsen  R    5:33:05      1 node150\n"
     ]
    }
   ],
   "source": [
    "# Check queue\n",
    "!ssh $domain \"squeue -u fknudsen\""
   ]
  },
  {
   "cell_type": "code",
   "execution_count": 27,
   "metadata": {},
   "outputs": [
    {
     "name": "stdout",
     "output_type": "stream",
     "text": [
      "#!/bin/bash\n",
      "#SBATCH --job-name=initial\n",
      "#SBATCH --partition=sbinlab_gpu\n",
      "#SBATCH --array=0-5%6\n",
      "#SBATCH --nodes=1\n",
      "#SBATCH --cpus-per-task=1\n",
      "#SBATCH --gres=gpu:1\n",
      "#SBATCH -t 24:00:00\n",
      "#SBATCH -o results/out\n",
      "#SBATCH -e results/err\n",
      "\n",
      "\n",
      "# Getting job input file\n",
      "input_files=($(ls data/*.fasta))\n",
      "input_file=${input_files[$SLURM_ARRAY_TASK_ID]}\n",
      "\n",
      "# Displaying job info\n",
      "echo \"[`date`] STARTED Job Array ID: $SLURM_ARRAY_TASK_ID | Job ID: $SLURM_JOB_ID | Input: $input_file\"\n",
      "\n",
      "# DeiC env settings\n",
      "source /groups/sbinlab/fpesce/.bashrc\n",
      "conda activate openmm\n",
      "\n",
      "# Submitting simulation\n",
      "python ../../src/simulate_openmm.py -f $input_file\n",
      "\n",
      "echo \"[`date`] FINISHED Job Array ID: $SLURM_ARRAY_TASK_ID | Job ID: $SLURM_JOB_ID | Input: $input_file\"\n"
     ]
    }
   ],
   "source": [
    "# Check submit script\n",
    "!ssh $domain \"cat $remotedir/submit.sh\""
   ]
  },
  {
   "cell_type": "code",
   "execution_count": 13,
   "metadata": {},
   "outputs": [
    {
     "name": "stdout",
     "output_type": "stream",
     "text": [
      "/etc/profile.d/lang.sh: line 19: warning: setlocale: LC_CTYPE: cannot change locale (UTF-8): No such file or directory\n",
      "/Users/frederikespersenknudsen/Local/OrthoIDP\n"
     ]
    }
   ],
   "source": [
    "# Submit\n",
    "!ssh $domain \"cd $remotedir && sbatch submit.sh\""
   ]
  },
  {
   "cell_type": "code",
   "execution_count": null,
   "metadata": {},
   "outputs": [],
   "source": [
    "# Cancel job\n",
    "jobid = \"\"\n",
    "!ssh $domain scancel $jobid"
   ]
  },
  {
   "cell_type": "code",
   "execution_count": 4,
   "metadata": {},
   "outputs": [
    {
     "name": "stdout",
     "output_type": "stream",
     "text": [
      "restart.chk                                   100%   87KB   1.0MB/s   00:00    \n",
      "simulate.log                                  100%  584    18.2KB/s   00:00    \n",
      "traj.log                                      100% 2375KB   7.7MB/s   00:00    \n",
      "top.pdb                                       100%   11KB 266.9KB/s   00:00    \n",
      "traj.dcd                                      100%   44MB  11.6MB/s   00:03    \n",
      "system.xml                                    100%   26KB 301.9KB/s   00:00    \n",
      "traj.dcd                                      100%   15MB  10.7MB/s   00:01    \n",
      "top.pdb                                       100% 3749   200.0KB/s   00:00    \n",
      "system.xml                                    100% 9458   661.7KB/s   00:00    \n",
      "simulate.log                                  100%  511    34.2KB/s   00:00    \n",
      "restart.chk                                   100%   79KB   2.7MB/s   00:00    \n",
      "traj.log                                      100% 2366KB   8.5MB/s   00:00    \n",
      "out                                           100%  730   178.0KB/s   00:00    \n",
      "err                                           100%    0     0.0KB/s   00:00    \n",
      "simulate.log                                  100%  505    28.3KB/s   00:00    \n",
      "traj.dcd                                      100%   15MB  10.5MB/s   00:01    \n",
      "restart.chk                                   100%   79KB   1.6MB/s   00:00    \n",
      "traj.log                                      100% 2366KB   8.2MB/s   00:00    \n",
      "top.pdb                                       100% 3769   197.3KB/s   00:00    \n",
      "system.xml                                    100% 9458   217.2KB/s   00:00    \n",
      "top.pdb                                       100%   11KB 641.2KB/s   00:00    \n",
      "simulate.log                                  100%  593   132.2KB/s   00:00    \n",
      "traj.log                                      100% 2377KB   8.6MB/s   00:00    \n",
      "system.xml                                    100%   26KB   1.6MB/s   00:00    \n",
      "traj.dcd                                      100%   44MB  11.1MB/s   00:03    \n",
      "restart.chk                                   100%   87KB   1.5MB/s   00:00    \n",
      "traj.log                                      100% 2361KB   3.5MB/s   00:00    \n",
      "system.xml                                    100% 9458   172.6KB/s   00:00    \n",
      "top.pdb                                       100% 3759   150.7KB/s   00:00    \n",
      "simulate.log                                  100%  514    25.3KB/s   00:00    \n",
      "restart.chk                                   100%   79KB   3.1MB/s   00:00    \n",
      "traj.dcd                                      100%   15MB   9.3MB/s   00:01    \n",
      "system.xml                                    100%   26KB 871.1KB/s   00:00    \n",
      "top.pdb                                       100%   11KB 543.9KB/s   00:00    \n",
      "traj.log                                      100% 2376KB   7.8MB/s   00:00    \n",
      "traj.dcd                                      100%   44MB  11.0MB/s   00:03    \n",
      "restart.chk                                   100%   87KB   2.1MB/s   00:00    \n",
      "simulate.log                                  100%  590    37.9KB/s   00:00    \n"
     ]
    }
   ],
   "source": [
    "# Copy results to BINF\n",
    "!scp -r \"$domain:$remotedir/results\" $dir"
   ]
  },
  {
   "cell_type": "code",
   "execution_count": 7,
   "metadata": {},
   "outputs": [
    {
     "name": "stdout",
     "output_type": "stream",
     "text": [
      "data\t\t  results\t  submit_max.sh  submit_test.sh\n",
      "idpevo_h1-0.json  submit_cons.sh  submit_min.sh\n"
     ]
    }
   ],
   "source": [
    "!ls $dir"
   ]
  },
  {
   "cell_type": "code",
   "execution_count": 6,
   "metadata": {},
   "outputs": [
    {
     "name": "stdout",
     "output_type": "stream",
     "text": [
      "r0_scan.csv                                   100%  302KB   6.6MB/s   00:00    \n",
      "r0_scan.err                                   100% 1536   337.0KB/s   00:00    \n",
      "r0_scan.out                                   100% 9507     2.3MB/s   00:00    \n"
     ]
    }
   ],
   "source": [
    "# Copy single specific files to BINF\n",
    "filename = \"r0_scan.*\"\n",
    "!scp \"$domain:$remotedir/results/$filename\" \"$dir/results/$filename\""
   ]
  }
 ],
 "metadata": {
  "kernelspec": {
   "display_name": "orthoidp",
   "language": "python",
   "name": "python3"
  },
  "language_info": {
   "codemirror_mode": {
    "name": "ipython",
    "version": 3
   },
   "file_extension": ".py",
   "mimetype": "text/x-python",
   "name": "python",
   "nbconvert_exporter": "python",
   "pygments_lexer": "ipython3",
   "version": "3.10.9"
  },
  "orig_nbformat": 4,
  "vscode": {
   "interpreter": {
    "hash": "5cf7a75472cea797e0aded0ea9e5d9e317f1ebbfd81a3bae087611c209ab141a"
   }
  }
 },
 "nbformat": 4,
 "nbformat_minor": 2
}
